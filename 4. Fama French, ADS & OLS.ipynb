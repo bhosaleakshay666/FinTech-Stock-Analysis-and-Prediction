{
 "cells": [
  {
   "cell_type": "markdown",
   "metadata": {
    "id": "vaQblInjJFmZ"
   },
   "source": [
    "# **Stock Data Pre-Processing**"
   ]
  },
  {
   "cell_type": "code",
   "execution_count": 83,
   "metadata": {
    "colab": {
     "base_uri": "https://localhost:8080/"
    },
    "id": "tgq93IZgr4k8",
    "outputId": "a62a4a47-9b2b-4931-dc5d-9ec1750f249d"
   },
   "outputs": [],
   "source": [
    "#!pip install ta"
   ]
  },
  {
   "cell_type": "code",
   "execution_count": 84,
   "metadata": {
    "id": "ZftTXWBGr8SU"
   },
   "outputs": [],
   "source": [
    "import warnings\n",
    "warnings.filterwarnings(\"ignore\")\n",
    "\n",
    "import ta\n",
    "import numpy as np\n",
    "import pandas as pd\n",
    "import yfinance as yf\n",
    "import seaborn as sns\n",
    "import statsmodels as smt\n",
    "import statsmodels.api as sm\n",
    "from datetime import datetime\n",
    "import matplotlib.pyplot as plt\n",
    "import plotly.graph_objects as go"
   ]
  },
  {
   "cell_type": "markdown",
   "metadata": {
    "id": "PtLUeK0_JG_w"
   },
   "source": [
    "### Downloading Stock data from Yahoo Finance package"
   ]
  },
  {
   "cell_type": "markdown",
   "metadata": {
    "id": "mr0s-gKuLHxZ"
   },
   "source": [
    "Yahoo Finance is a widely used platform for accessing financial information, including stock market data, company profiles, historical stock prices, and more. To facilitate easy access to this data, there is a Python package called \"yfinance\" (short for Yahoo Finance) that provides a simple and convenient way to interact with Yahoo Finance's API.\n",
    "\n",
    "The yfinance package allows users to fetch financial data for stocks, exchange-traded funds (ETFs), indices, and more. It provides functions to download historical stock data, real-time stock quotes, company information, and financial statements. The package is built on top of the popular data manipulation library, pandas, making it easy to integrate with existing data analysis workflows.\n",
    "\n",
    "With yfinance, users can specify the desired stock ticker symbols, specify a date range, and retrieve a wide range of financial data. This includes daily historical prices, dividend information, stock splits, and more. The package also supports the ability to download data for multiple symbols at once, making it efficient for analyzing and comparing multiple stocks or assets.\n",
    "\n",
    "In addition to historical data, yfinance allows users to obtain real-time stock quotes, including the current price, volume, market capitalization, and other relevant metrics. This can be useful for monitoring real-time market activity or building trading algorithms.\n",
    "\n",
    "Overall, the yfinance package provides a convenient and efficient way to access and analyze financial data from Yahoo Finance using Python. It is a valuable tool for financial analysts, researchers, and developers who need to retrieve and analyze stock market data for various purposes."
   ]
  },
  {
   "cell_type": "code",
   "execution_count": 85,
   "metadata": {
    "colab": {
     "base_uri": "https://localhost:8080/"
    },
    "id": "DPP_D9Ztr9Xg",
    "outputId": "b3618470-e22f-4179-965b-acdb873293d2"
   },
   "outputs": [
    {
     "name": "stdout",
     "output_type": "stream",
     "text": [
      "[*********************100%%**********************]  1 of 1 completed\n"
     ]
    }
   ],
   "source": [
    "start_date = datetime(2017,1,1)\n",
    "end_date = datetime.today()\n",
    "\n",
    "stock = yf.download('TSLA',start_date ,end_date)\n",
    "stock.reset_index(inplace=True)"
   ]
  },
  {
   "cell_type": "code",
   "execution_count": 86,
   "metadata": {
    "colab": {
     "base_uri": "https://localhost:8080/",
     "height": 424
    },
    "id": "KjEnC6Nhsuqd",
    "outputId": "32de64de-c228-47de-be9a-c683081dddde"
   },
   "outputs": [
    {
     "data": {
      "text/html": [
       "<div>\n",
       "<style scoped>\n",
       "    .dataframe tbody tr th:only-of-type {\n",
       "        vertical-align: middle;\n",
       "    }\n",
       "\n",
       "    .dataframe tbody tr th {\n",
       "        vertical-align: top;\n",
       "    }\n",
       "\n",
       "    .dataframe thead th {\n",
       "        text-align: right;\n",
       "    }\n",
       "</style>\n",
       "<table border=\"1\" class=\"dataframe\">\n",
       "  <thead>\n",
       "    <tr style=\"text-align: right;\">\n",
       "      <th></th>\n",
       "      <th>Date</th>\n",
       "      <th>Open</th>\n",
       "      <th>High</th>\n",
       "      <th>Low</th>\n",
       "      <th>Close</th>\n",
       "      <th>Adj Close</th>\n",
       "      <th>Volume</th>\n",
       "    </tr>\n",
       "  </thead>\n",
       "  <tbody>\n",
       "    <tr>\n",
       "      <th>0</th>\n",
       "      <td>2017-01-03</td>\n",
       "      <td>14.324000</td>\n",
       "      <td>14.688667</td>\n",
       "      <td>14.064000</td>\n",
       "      <td>14.466000</td>\n",
       "      <td>14.466000</td>\n",
       "      <td>88849500</td>\n",
       "    </tr>\n",
       "    <tr>\n",
       "      <th>1</th>\n",
       "      <td>2017-01-04</td>\n",
       "      <td>14.316667</td>\n",
       "      <td>15.200000</td>\n",
       "      <td>14.287333</td>\n",
       "      <td>15.132667</td>\n",
       "      <td>15.132667</td>\n",
       "      <td>168202500</td>\n",
       "    </tr>\n",
       "    <tr>\n",
       "      <th>2</th>\n",
       "      <td>2017-01-05</td>\n",
       "      <td>15.094667</td>\n",
       "      <td>15.165333</td>\n",
       "      <td>14.796667</td>\n",
       "      <td>15.116667</td>\n",
       "      <td>15.116667</td>\n",
       "      <td>88675500</td>\n",
       "    </tr>\n",
       "    <tr>\n",
       "      <th>3</th>\n",
       "      <td>2017-01-06</td>\n",
       "      <td>15.128667</td>\n",
       "      <td>15.354000</td>\n",
       "      <td>15.030000</td>\n",
       "      <td>15.267333</td>\n",
       "      <td>15.267333</td>\n",
       "      <td>82918500</td>\n",
       "    </tr>\n",
       "    <tr>\n",
       "      <th>4</th>\n",
       "      <td>2017-01-09</td>\n",
       "      <td>15.264667</td>\n",
       "      <td>15.461333</td>\n",
       "      <td>15.200000</td>\n",
       "      <td>15.418667</td>\n",
       "      <td>15.418667</td>\n",
       "      <td>59692500</td>\n",
       "    </tr>\n",
       "    <tr>\n",
       "      <th>...</th>\n",
       "      <td>...</td>\n",
       "      <td>...</td>\n",
       "      <td>...</td>\n",
       "      <td>...</td>\n",
       "      <td>...</td>\n",
       "      <td>...</td>\n",
       "      <td>...</td>\n",
       "    </tr>\n",
       "    <tr>\n",
       "      <th>1697</th>\n",
       "      <td>2023-10-02</td>\n",
       "      <td>244.809998</td>\n",
       "      <td>254.279999</td>\n",
       "      <td>242.619995</td>\n",
       "      <td>251.600006</td>\n",
       "      <td>251.600006</td>\n",
       "      <td>123810400</td>\n",
       "    </tr>\n",
       "    <tr>\n",
       "      <th>1698</th>\n",
       "      <td>2023-10-03</td>\n",
       "      <td>248.610001</td>\n",
       "      <td>250.020004</td>\n",
       "      <td>244.449997</td>\n",
       "      <td>246.529999</td>\n",
       "      <td>246.529999</td>\n",
       "      <td>101985300</td>\n",
       "    </tr>\n",
       "    <tr>\n",
       "      <th>1699</th>\n",
       "      <td>2023-10-04</td>\n",
       "      <td>248.139999</td>\n",
       "      <td>261.859985</td>\n",
       "      <td>247.600006</td>\n",
       "      <td>261.160004</td>\n",
       "      <td>261.160004</td>\n",
       "      <td>129721600</td>\n",
       "    </tr>\n",
       "    <tr>\n",
       "      <th>1700</th>\n",
       "      <td>2023-10-05</td>\n",
       "      <td>260.000000</td>\n",
       "      <td>263.600006</td>\n",
       "      <td>256.250000</td>\n",
       "      <td>260.049988</td>\n",
       "      <td>260.049988</td>\n",
       "      <td>119159200</td>\n",
       "    </tr>\n",
       "    <tr>\n",
       "      <th>1701</th>\n",
       "      <td>2023-10-06</td>\n",
       "      <td>253.979996</td>\n",
       "      <td>261.649994</td>\n",
       "      <td>250.649994</td>\n",
       "      <td>260.529999</td>\n",
       "      <td>260.529999</td>\n",
       "      <td>117947000</td>\n",
       "    </tr>\n",
       "  </tbody>\n",
       "</table>\n",
       "<p>1702 rows × 7 columns</p>\n",
       "</div>"
      ],
      "text/plain": [
       "           Date        Open        High         Low       Close   Adj Close  \\\n",
       "0    2017-01-03   14.324000   14.688667   14.064000   14.466000   14.466000   \n",
       "1    2017-01-04   14.316667   15.200000   14.287333   15.132667   15.132667   \n",
       "2    2017-01-05   15.094667   15.165333   14.796667   15.116667   15.116667   \n",
       "3    2017-01-06   15.128667   15.354000   15.030000   15.267333   15.267333   \n",
       "4    2017-01-09   15.264667   15.461333   15.200000   15.418667   15.418667   \n",
       "...         ...         ...         ...         ...         ...         ...   \n",
       "1697 2023-10-02  244.809998  254.279999  242.619995  251.600006  251.600006   \n",
       "1698 2023-10-03  248.610001  250.020004  244.449997  246.529999  246.529999   \n",
       "1699 2023-10-04  248.139999  261.859985  247.600006  261.160004  261.160004   \n",
       "1700 2023-10-05  260.000000  263.600006  256.250000  260.049988  260.049988   \n",
       "1701 2023-10-06  253.979996  261.649994  250.649994  260.529999  260.529999   \n",
       "\n",
       "         Volume  \n",
       "0      88849500  \n",
       "1     168202500  \n",
       "2      88675500  \n",
       "3      82918500  \n",
       "4      59692500  \n",
       "...         ...  \n",
       "1697  123810400  \n",
       "1698  101985300  \n",
       "1699  129721600  \n",
       "1700  119159200  \n",
       "1701  117947000  \n",
       "\n",
       "[1702 rows x 7 columns]"
      ]
     },
     "execution_count": 86,
     "metadata": {},
     "output_type": "execute_result"
    }
   ],
   "source": [
    "stock"
   ]
  },
  {
   "cell_type": "markdown",
   "metadata": {
    "id": "1l4XCsgdL1Ad"
   },
   "source": [
    "### Importing F-F Research Data Factors dataset"
   ]
  },
  {
   "cell_type": "markdown",
   "metadata": {
    "id": "qa2q0X0vJH9r"
   },
   "source": [
    "The F-F Research Data Factors daily dataset, also known as the Fama-French factors dataset, is a widely used financial dataset that provides daily risk factors for asset pricing models. It is named after its creators, Eugene Fama and Kenneth French, who developed the dataset to study and analyze stock returns.\n",
    "\n",
    "The dataset includes several factors that are commonly used in empirical finance research. These factors include the market risk premium (Mkt-RF), which represents the excess return of the overall market over the risk-free rate, and three additional factors: the size premium (SMB), the value premium (HML), and the risk-free rate (RF).\n",
    "\n",
    "The size premium (SMB) captures the excess return of small-cap stocks over large-cap stocks, while the value premium (HML) represents the excess return of value stocks over growth stocks. The risk-free rate (RF) is the return on a risk-free investment, such as Treasury bills.\n",
    "\n",
    "Researchers and analysts often use the F-F Research Data Factors daily dataset to investigate the relationship between these factors and stock returns. By incorporating these factors into asset pricing models, researchers can assess the performance and risk characteristics of various investment strategies and study the impact of different market factors on stock returns.\n",
    "\n",
    "The dataset is typically provided in a tabular format, such as a CSV file, allowing for easy integration into data analysis workflows using tools like Python's pandas library. Analysts can load the dataset, explore the factors' time series, and conduct various statistical analyses and modeling techniques to gain insights into the relationship between these factors and asset returns.\n",
    "\n",
    "Overall, the F-F Research Data Factors daily dataset is a valuable resource for researchers, academics, and financial professionals interested in studying asset pricing models, evaluating investment strategies, and analyzing stock market data.\n",
    "\n",
    "https://mba.tuck.dartmouth.edu/pages/faculty/ken.french/data_library.html\n",
    "\n",
    "\n",
    "### Data Ingestion of Fama French Daily Features"
   ]
  },
  {
   "cell_type": "code",
   "execution_count": 87,
   "metadata": {
    "id": "yZ8SSJwKshNP"
   },
   "outputs": [],
   "source": [
    "df_ff_features = pd.read_csv(\"F-F_Research_Data_Factors_daily.CSV\", skiprows=4)\n",
    "df_ff_features.rename(columns = {'Unnamed: 0':'Date'},inplace=True)"
   ]
  },
  {
   "cell_type": "code",
   "execution_count": 88,
   "metadata": {
    "colab": {
     "base_uri": "https://localhost:8080/",
     "height": 206
    },
    "id": "9QoIwbfpszd-",
    "outputId": "c8b54567-028d-4d12-9683-1865f1c24249"
   },
   "outputs": [
    {
     "data": {
      "text/html": [
       "<div>\n",
       "<style scoped>\n",
       "    .dataframe tbody tr th:only-of-type {\n",
       "        vertical-align: middle;\n",
       "    }\n",
       "\n",
       "    .dataframe tbody tr th {\n",
       "        vertical-align: top;\n",
       "    }\n",
       "\n",
       "    .dataframe thead th {\n",
       "        text-align: right;\n",
       "    }\n",
       "</style>\n",
       "<table border=\"1\" class=\"dataframe\">\n",
       "  <thead>\n",
       "    <tr style=\"text-align: right;\">\n",
       "      <th></th>\n",
       "      <th>Date</th>\n",
       "      <th>Mkt-RF</th>\n",
       "      <th>SMB</th>\n",
       "      <th>HML</th>\n",
       "      <th>RF</th>\n",
       "    </tr>\n",
       "  </thead>\n",
       "  <tbody>\n",
       "    <tr>\n",
       "      <th>25539</th>\n",
       "      <td>20230726</td>\n",
       "      <td>0.02</td>\n",
       "      <td>0.68</td>\n",
       "      <td>1.03</td>\n",
       "      <td>0.022</td>\n",
       "    </tr>\n",
       "    <tr>\n",
       "      <th>25540</th>\n",
       "      <td>20230727</td>\n",
       "      <td>-0.74</td>\n",
       "      <td>-0.90</td>\n",
       "      <td>0.27</td>\n",
       "      <td>0.022</td>\n",
       "    </tr>\n",
       "    <tr>\n",
       "      <th>25541</th>\n",
       "      <td>20230728</td>\n",
       "      <td>1.14</td>\n",
       "      <td>0.53</td>\n",
       "      <td>-0.33</td>\n",
       "      <td>0.022</td>\n",
       "    </tr>\n",
       "    <tr>\n",
       "      <th>25542</th>\n",
       "      <td>20230731</td>\n",
       "      <td>0.26</td>\n",
       "      <td>1.06</td>\n",
       "      <td>-0.10</td>\n",
       "      <td>0.022</td>\n",
       "    </tr>\n",
       "    <tr>\n",
       "      <th>25543</th>\n",
       "      <td>Copyright 2023 Kenneth R. French</td>\n",
       "      <td>NaN</td>\n",
       "      <td>NaN</td>\n",
       "      <td>NaN</td>\n",
       "      <td>NaN</td>\n",
       "    </tr>\n",
       "  </tbody>\n",
       "</table>\n",
       "</div>"
      ],
      "text/plain": [
       "                                   Date  Mkt-RF   SMB   HML     RF\n",
       "25539                          20230726    0.02  0.68  1.03  0.022\n",
       "25540                          20230727   -0.74 -0.90  0.27  0.022\n",
       "25541                          20230728    1.14  0.53 -0.33  0.022\n",
       "25542                          20230731    0.26  1.06 -0.10  0.022\n",
       "25543  Copyright 2023 Kenneth R. French     NaN   NaN   NaN    NaN"
      ]
     },
     "execution_count": 88,
     "metadata": {},
     "output_type": "execute_result"
    }
   ],
   "source": [
    "df_ff_features.tail()"
   ]
  },
  {
   "cell_type": "code",
   "execution_count": 89,
   "metadata": {},
   "outputs": [
    {
     "name": "stdout",
     "output_type": "stream",
     "text": [
      "20231008\n"
     ]
    }
   ],
   "source": [
    "today = end_date.strftime('%Y%m%d')\n",
    "\n",
    "print(today)"
   ]
  },
  {
   "cell_type": "code",
   "execution_count": 90,
   "metadata": {
    "colab": {
     "base_uri": "https://localhost:8080/",
     "height": 424
    },
    "id": "5zaf4lzItqD_",
    "outputId": "2c649049-e9d9-4f35-a0dd-541c59dac2de"
   },
   "outputs": [
    {
     "data": {
      "text/html": [
       "<div>\n",
       "<style scoped>\n",
       "    .dataframe tbody tr th:only-of-type {\n",
       "        vertical-align: middle;\n",
       "    }\n",
       "\n",
       "    .dataframe tbody tr th {\n",
       "        vertical-align: top;\n",
       "    }\n",
       "\n",
       "    .dataframe thead th {\n",
       "        text-align: right;\n",
       "    }\n",
       "</style>\n",
       "<table border=\"1\" class=\"dataframe\">\n",
       "  <thead>\n",
       "    <tr style=\"text-align: right;\">\n",
       "      <th></th>\n",
       "      <th>Date</th>\n",
       "      <th>Mkt-RF</th>\n",
       "      <th>SMB</th>\n",
       "      <th>HML</th>\n",
       "      <th>RF</th>\n",
       "    </tr>\n",
       "  </thead>\n",
       "  <tbody>\n",
       "    <tr>\n",
       "      <th>23889</th>\n",
       "      <td>2017-01-03</td>\n",
       "      <td>0.83</td>\n",
       "      <td>-0.14</td>\n",
       "      <td>0.06</td>\n",
       "      <td>0.002</td>\n",
       "    </tr>\n",
       "    <tr>\n",
       "      <th>23890</th>\n",
       "      <td>2017-01-04</td>\n",
       "      <td>0.79</td>\n",
       "      <td>0.95</td>\n",
       "      <td>-0.16</td>\n",
       "      <td>0.002</td>\n",
       "    </tr>\n",
       "    <tr>\n",
       "      <th>23891</th>\n",
       "      <td>2017-01-05</td>\n",
       "      <td>-0.21</td>\n",
       "      <td>-0.89</td>\n",
       "      <td>-0.79</td>\n",
       "      <td>0.002</td>\n",
       "    </tr>\n",
       "    <tr>\n",
       "      <th>23892</th>\n",
       "      <td>2017-01-06</td>\n",
       "      <td>0.29</td>\n",
       "      <td>-0.66</td>\n",
       "      <td>-0.31</td>\n",
       "      <td>0.002</td>\n",
       "    </tr>\n",
       "    <tr>\n",
       "      <th>23893</th>\n",
       "      <td>2017-01-09</td>\n",
       "      <td>-0.37</td>\n",
       "      <td>-0.30</td>\n",
       "      <td>-1.03</td>\n",
       "      <td>0.002</td>\n",
       "    </tr>\n",
       "    <tr>\n",
       "      <th>...</th>\n",
       "      <td>...</td>\n",
       "      <td>...</td>\n",
       "      <td>...</td>\n",
       "      <td>...</td>\n",
       "      <td>...</td>\n",
       "    </tr>\n",
       "    <tr>\n",
       "      <th>25538</th>\n",
       "      <td>2023-07-25</td>\n",
       "      <td>0.25</td>\n",
       "      <td>-0.04</td>\n",
       "      <td>-0.79</td>\n",
       "      <td>0.022</td>\n",
       "    </tr>\n",
       "    <tr>\n",
       "      <th>25539</th>\n",
       "      <td>2023-07-26</td>\n",
       "      <td>0.02</td>\n",
       "      <td>0.68</td>\n",
       "      <td>1.03</td>\n",
       "      <td>0.022</td>\n",
       "    </tr>\n",
       "    <tr>\n",
       "      <th>25540</th>\n",
       "      <td>2023-07-27</td>\n",
       "      <td>-0.74</td>\n",
       "      <td>-0.90</td>\n",
       "      <td>0.27</td>\n",
       "      <td>0.022</td>\n",
       "    </tr>\n",
       "    <tr>\n",
       "      <th>25541</th>\n",
       "      <td>2023-07-28</td>\n",
       "      <td>1.14</td>\n",
       "      <td>0.53</td>\n",
       "      <td>-0.33</td>\n",
       "      <td>0.022</td>\n",
       "    </tr>\n",
       "    <tr>\n",
       "      <th>25542</th>\n",
       "      <td>2023-07-31</td>\n",
       "      <td>0.26</td>\n",
       "      <td>1.06</td>\n",
       "      <td>-0.10</td>\n",
       "      <td>0.022</td>\n",
       "    </tr>\n",
       "  </tbody>\n",
       "</table>\n",
       "<p>1654 rows × 5 columns</p>\n",
       "</div>"
      ],
      "text/plain": [
       "            Date  Mkt-RF   SMB   HML     RF\n",
       "23889 2017-01-03    0.83 -0.14  0.06  0.002\n",
       "23890 2017-01-04    0.79  0.95 -0.16  0.002\n",
       "23891 2017-01-05   -0.21 -0.89 -0.79  0.002\n",
       "23892 2017-01-06    0.29 -0.66 -0.31  0.002\n",
       "23893 2017-01-09   -0.37 -0.30 -1.03  0.002\n",
       "...          ...     ...   ...   ...    ...\n",
       "25538 2023-07-25    0.25 -0.04 -0.79  0.022\n",
       "25539 2023-07-26    0.02  0.68  1.03  0.022\n",
       "25540 2023-07-27   -0.74 -0.90  0.27  0.022\n",
       "25541 2023-07-28    1.14  0.53 -0.33  0.022\n",
       "25542 2023-07-31    0.26  1.06 -0.10  0.022\n",
       "\n",
       "[1654 rows x 5 columns]"
      ]
     },
     "execution_count": 90,
     "metadata": {},
     "output_type": "execute_result"
    }
   ],
   "source": [
    "\n",
    "df_ff_features.reset_index(drop = True, inplace= True)\n",
    "df_ff_features = df_ff_features[(df_ff_features.Date > '20170101') & (df_ff_features.Date <= today)]\n",
    "df_ff_features['Date']=pd.to_datetime(df_ff_features['Date'])\n",
    "df_ff_features"
   ]
  },
  {
   "cell_type": "code",
   "execution_count": 91,
   "metadata": {},
   "outputs": [],
   "source": [
    "###3. Transformation: Merge Fama French Features: Left Join on Date"
   ]
  },
  {
   "cell_type": "code",
   "execution_count": 92,
   "metadata": {},
   "outputs": [
    {
     "name": "stdout",
     "output_type": "stream",
     "text": [
      "<class 'pandas.core.frame.DataFrame'>\n",
      "RangeIndex: 1702 entries, 0 to 1701\n",
      "Data columns (total 7 columns):\n",
      " #   Column     Non-Null Count  Dtype         \n",
      "---  ------     --------------  -----         \n",
      " 0   Date       1702 non-null   datetime64[ns]\n",
      " 1   Open       1702 non-null   float64       \n",
      " 2   High       1702 non-null   float64       \n",
      " 3   Low        1702 non-null   float64       \n",
      " 4   Close      1702 non-null   float64       \n",
      " 5   Adj Close  1702 non-null   float64       \n",
      " 6   Volume     1702 non-null   int64         \n",
      "dtypes: datetime64[ns](1), float64(5), int64(1)\n",
      "memory usage: 93.2 KB\n"
     ]
    }
   ],
   "source": [
    "stock.info()"
   ]
  },
  {
   "cell_type": "code",
   "execution_count": 93,
   "metadata": {
    "id": "NQY4o7_Bvmq5"
   },
   "outputs": [],
   "source": [
    "merged_df = stock.merge(df_ff_features, how='left', on='Date')"
   ]
  },
  {
   "cell_type": "code",
   "execution_count": 94,
   "metadata": {
    "colab": {
     "base_uri": "https://localhost:8080/",
     "height": 424
    },
    "id": "2DkFWJTOvyg8",
    "outputId": "8434b67b-2457-4f10-a0e8-257750ddd6fc"
   },
   "outputs": [],
   "source": [
    "stock = merged_df"
   ]
  },
  {
   "cell_type": "code",
   "execution_count": 95,
   "metadata": {
    "id": "iu2PmMy-wnM4"
   },
   "outputs": [],
   "source": [
    "# Yesterday's Close Price\n",
    "stock['Yest_Close']  = stock['Adj Close'].shift(1)"
   ]
  },
  {
   "cell_type": "code",
   "execution_count": 96,
   "metadata": {
    "id": "esCwAA3uw0r0"
   },
   "outputs": [],
   "source": [
    "# Adding Stock Returns Column\n",
    "stock['stock_return'] = (stock['Adj Close']-stock['Yest_Close'])/(stock['Yest_Close'])"
   ]
  },
  {
   "cell_type": "code",
   "execution_count": 97,
   "metadata": {
    "colab": {
     "base_uri": "https://localhost:8080/",
     "height": 424
    },
    "id": "WHzTn4OfxDKc",
    "outputId": "b177fa7a-030a-4080-a435-57b4026527a2"
   },
   "outputs": [
    {
     "data": {
      "text/html": [
       "<div>\n",
       "<style scoped>\n",
       "    .dataframe tbody tr th:only-of-type {\n",
       "        vertical-align: middle;\n",
       "    }\n",
       "\n",
       "    .dataframe tbody tr th {\n",
       "        vertical-align: top;\n",
       "    }\n",
       "\n",
       "    .dataframe thead th {\n",
       "        text-align: right;\n",
       "    }\n",
       "</style>\n",
       "<table border=\"1\" class=\"dataframe\">\n",
       "  <thead>\n",
       "    <tr style=\"text-align: right;\">\n",
       "      <th></th>\n",
       "      <th>Date</th>\n",
       "      <th>Open</th>\n",
       "      <th>High</th>\n",
       "      <th>Low</th>\n",
       "      <th>Close</th>\n",
       "      <th>Adj Close</th>\n",
       "      <th>Volume</th>\n",
       "      <th>Mkt-RF</th>\n",
       "      <th>SMB</th>\n",
       "      <th>HML</th>\n",
       "      <th>RF</th>\n",
       "      <th>Yest_Close</th>\n",
       "      <th>stock_return</th>\n",
       "    </tr>\n",
       "  </thead>\n",
       "  <tbody>\n",
       "    <tr>\n",
       "      <th>0</th>\n",
       "      <td>2017-01-03</td>\n",
       "      <td>14.324000</td>\n",
       "      <td>14.688667</td>\n",
       "      <td>14.064000</td>\n",
       "      <td>14.466000</td>\n",
       "      <td>14.466000</td>\n",
       "      <td>88849500</td>\n",
       "      <td>0.83</td>\n",
       "      <td>-0.14</td>\n",
       "      <td>0.06</td>\n",
       "      <td>0.002</td>\n",
       "      <td>NaN</td>\n",
       "      <td>NaN</td>\n",
       "    </tr>\n",
       "    <tr>\n",
       "      <th>1</th>\n",
       "      <td>2017-01-04</td>\n",
       "      <td>14.316667</td>\n",
       "      <td>15.200000</td>\n",
       "      <td>14.287333</td>\n",
       "      <td>15.132667</td>\n",
       "      <td>15.132667</td>\n",
       "      <td>168202500</td>\n",
       "      <td>0.79</td>\n",
       "      <td>0.95</td>\n",
       "      <td>-0.16</td>\n",
       "      <td>0.002</td>\n",
       "      <td>14.466000</td>\n",
       "      <td>0.046085</td>\n",
       "    </tr>\n",
       "    <tr>\n",
       "      <th>2</th>\n",
       "      <td>2017-01-05</td>\n",
       "      <td>15.094667</td>\n",
       "      <td>15.165333</td>\n",
       "      <td>14.796667</td>\n",
       "      <td>15.116667</td>\n",
       "      <td>15.116667</td>\n",
       "      <td>88675500</td>\n",
       "      <td>-0.21</td>\n",
       "      <td>-0.89</td>\n",
       "      <td>-0.79</td>\n",
       "      <td>0.002</td>\n",
       "      <td>15.132667</td>\n",
       "      <td>-0.001057</td>\n",
       "    </tr>\n",
       "    <tr>\n",
       "      <th>3</th>\n",
       "      <td>2017-01-06</td>\n",
       "      <td>15.128667</td>\n",
       "      <td>15.354000</td>\n",
       "      <td>15.030000</td>\n",
       "      <td>15.267333</td>\n",
       "      <td>15.267333</td>\n",
       "      <td>82918500</td>\n",
       "      <td>0.29</td>\n",
       "      <td>-0.66</td>\n",
       "      <td>-0.31</td>\n",
       "      <td>0.002</td>\n",
       "      <td>15.116667</td>\n",
       "      <td>0.009967</td>\n",
       "    </tr>\n",
       "    <tr>\n",
       "      <th>4</th>\n",
       "      <td>2017-01-09</td>\n",
       "      <td>15.264667</td>\n",
       "      <td>15.461333</td>\n",
       "      <td>15.200000</td>\n",
       "      <td>15.418667</td>\n",
       "      <td>15.418667</td>\n",
       "      <td>59692500</td>\n",
       "      <td>-0.37</td>\n",
       "      <td>-0.30</td>\n",
       "      <td>-1.03</td>\n",
       "      <td>0.002</td>\n",
       "      <td>15.267333</td>\n",
       "      <td>0.009912</td>\n",
       "    </tr>\n",
       "    <tr>\n",
       "      <th>...</th>\n",
       "      <td>...</td>\n",
       "      <td>...</td>\n",
       "      <td>...</td>\n",
       "      <td>...</td>\n",
       "      <td>...</td>\n",
       "      <td>...</td>\n",
       "      <td>...</td>\n",
       "      <td>...</td>\n",
       "      <td>...</td>\n",
       "      <td>...</td>\n",
       "      <td>...</td>\n",
       "      <td>...</td>\n",
       "      <td>...</td>\n",
       "    </tr>\n",
       "    <tr>\n",
       "      <th>1697</th>\n",
       "      <td>2023-10-02</td>\n",
       "      <td>244.809998</td>\n",
       "      <td>254.279999</td>\n",
       "      <td>242.619995</td>\n",
       "      <td>251.600006</td>\n",
       "      <td>251.600006</td>\n",
       "      <td>123810400</td>\n",
       "      <td>NaN</td>\n",
       "      <td>NaN</td>\n",
       "      <td>NaN</td>\n",
       "      <td>NaN</td>\n",
       "      <td>250.220001</td>\n",
       "      <td>0.005515</td>\n",
       "    </tr>\n",
       "    <tr>\n",
       "      <th>1698</th>\n",
       "      <td>2023-10-03</td>\n",
       "      <td>248.610001</td>\n",
       "      <td>250.020004</td>\n",
       "      <td>244.449997</td>\n",
       "      <td>246.529999</td>\n",
       "      <td>246.529999</td>\n",
       "      <td>101985300</td>\n",
       "      <td>NaN</td>\n",
       "      <td>NaN</td>\n",
       "      <td>NaN</td>\n",
       "      <td>NaN</td>\n",
       "      <td>251.600006</td>\n",
       "      <td>-0.020151</td>\n",
       "    </tr>\n",
       "    <tr>\n",
       "      <th>1699</th>\n",
       "      <td>2023-10-04</td>\n",
       "      <td>248.139999</td>\n",
       "      <td>261.859985</td>\n",
       "      <td>247.600006</td>\n",
       "      <td>261.160004</td>\n",
       "      <td>261.160004</td>\n",
       "      <td>129721600</td>\n",
       "      <td>NaN</td>\n",
       "      <td>NaN</td>\n",
       "      <td>NaN</td>\n",
       "      <td>NaN</td>\n",
       "      <td>246.529999</td>\n",
       "      <td>0.059344</td>\n",
       "    </tr>\n",
       "    <tr>\n",
       "      <th>1700</th>\n",
       "      <td>2023-10-05</td>\n",
       "      <td>260.000000</td>\n",
       "      <td>263.600006</td>\n",
       "      <td>256.250000</td>\n",
       "      <td>260.049988</td>\n",
       "      <td>260.049988</td>\n",
       "      <td>119159200</td>\n",
       "      <td>NaN</td>\n",
       "      <td>NaN</td>\n",
       "      <td>NaN</td>\n",
       "      <td>NaN</td>\n",
       "      <td>261.160004</td>\n",
       "      <td>-0.004250</td>\n",
       "    </tr>\n",
       "    <tr>\n",
       "      <th>1701</th>\n",
       "      <td>2023-10-06</td>\n",
       "      <td>253.979996</td>\n",
       "      <td>261.649994</td>\n",
       "      <td>250.649994</td>\n",
       "      <td>260.529999</td>\n",
       "      <td>260.529999</td>\n",
       "      <td>117947000</td>\n",
       "      <td>NaN</td>\n",
       "      <td>NaN</td>\n",
       "      <td>NaN</td>\n",
       "      <td>NaN</td>\n",
       "      <td>260.049988</td>\n",
       "      <td>0.001846</td>\n",
       "    </tr>\n",
       "  </tbody>\n",
       "</table>\n",
       "<p>1702 rows × 13 columns</p>\n",
       "</div>"
      ],
      "text/plain": [
       "           Date        Open        High         Low       Close   Adj Close  \\\n",
       "0    2017-01-03   14.324000   14.688667   14.064000   14.466000   14.466000   \n",
       "1    2017-01-04   14.316667   15.200000   14.287333   15.132667   15.132667   \n",
       "2    2017-01-05   15.094667   15.165333   14.796667   15.116667   15.116667   \n",
       "3    2017-01-06   15.128667   15.354000   15.030000   15.267333   15.267333   \n",
       "4    2017-01-09   15.264667   15.461333   15.200000   15.418667   15.418667   \n",
       "...         ...         ...         ...         ...         ...         ...   \n",
       "1697 2023-10-02  244.809998  254.279999  242.619995  251.600006  251.600006   \n",
       "1698 2023-10-03  248.610001  250.020004  244.449997  246.529999  246.529999   \n",
       "1699 2023-10-04  248.139999  261.859985  247.600006  261.160004  261.160004   \n",
       "1700 2023-10-05  260.000000  263.600006  256.250000  260.049988  260.049988   \n",
       "1701 2023-10-06  253.979996  261.649994  250.649994  260.529999  260.529999   \n",
       "\n",
       "         Volume  Mkt-RF   SMB   HML     RF  Yest_Close  stock_return  \n",
       "0      88849500    0.83 -0.14  0.06  0.002         NaN           NaN  \n",
       "1     168202500    0.79  0.95 -0.16  0.002   14.466000      0.046085  \n",
       "2      88675500   -0.21 -0.89 -0.79  0.002   15.132667     -0.001057  \n",
       "3      82918500    0.29 -0.66 -0.31  0.002   15.116667      0.009967  \n",
       "4      59692500   -0.37 -0.30 -1.03  0.002   15.267333      0.009912  \n",
       "...         ...     ...   ...   ...    ...         ...           ...  \n",
       "1697  123810400     NaN   NaN   NaN    NaN  250.220001      0.005515  \n",
       "1698  101985300     NaN   NaN   NaN    NaN  251.600006     -0.020151  \n",
       "1699  129721600     NaN   NaN   NaN    NaN  246.529999      0.059344  \n",
       "1700  119159200     NaN   NaN   NaN    NaN  261.160004     -0.004250  \n",
       "1701  117947000     NaN   NaN   NaN    NaN  260.049988      0.001846  \n",
       "\n",
       "[1702 rows x 13 columns]"
      ]
     },
     "execution_count": 97,
     "metadata": {},
     "output_type": "execute_result"
    }
   ],
   "source": [
    "stock"
   ]
  },
  {
   "cell_type": "code",
   "execution_count": 98,
   "metadata": {},
   "outputs": [
    {
     "data": {
      "text/html": [
       "<div>\n",
       "<style scoped>\n",
       "    .dataframe tbody tr th:only-of-type {\n",
       "        vertical-align: middle;\n",
       "    }\n",
       "\n",
       "    .dataframe tbody tr th {\n",
       "        vertical-align: top;\n",
       "    }\n",
       "\n",
       "    .dataframe thead th {\n",
       "        text-align: right;\n",
       "    }\n",
       "</style>\n",
       "<table border=\"1\" class=\"dataframe\">\n",
       "  <thead>\n",
       "    <tr style=\"text-align: right;\">\n",
       "      <th></th>\n",
       "      <th>missing_values</th>\n",
       "      <th>percent_missing %</th>\n",
       "      <th>data type</th>\n",
       "    </tr>\n",
       "  </thead>\n",
       "  <tbody>\n",
       "    <tr>\n",
       "      <th>Date</th>\n",
       "      <td>0</td>\n",
       "      <td>0.000000</td>\n",
       "      <td>datetime64[ns]</td>\n",
       "    </tr>\n",
       "    <tr>\n",
       "      <th>Open</th>\n",
       "      <td>0</td>\n",
       "      <td>0.000000</td>\n",
       "      <td>float64</td>\n",
       "    </tr>\n",
       "    <tr>\n",
       "      <th>High</th>\n",
       "      <td>0</td>\n",
       "      <td>0.000000</td>\n",
       "      <td>float64</td>\n",
       "    </tr>\n",
       "    <tr>\n",
       "      <th>Low</th>\n",
       "      <td>0</td>\n",
       "      <td>0.000000</td>\n",
       "      <td>float64</td>\n",
       "    </tr>\n",
       "    <tr>\n",
       "      <th>Close</th>\n",
       "      <td>0</td>\n",
       "      <td>0.000000</td>\n",
       "      <td>float64</td>\n",
       "    </tr>\n",
       "    <tr>\n",
       "      <th>Adj Close</th>\n",
       "      <td>0</td>\n",
       "      <td>0.000000</td>\n",
       "      <td>float64</td>\n",
       "    </tr>\n",
       "    <tr>\n",
       "      <th>Volume</th>\n",
       "      <td>0</td>\n",
       "      <td>0.000000</td>\n",
       "      <td>int64</td>\n",
       "    </tr>\n",
       "    <tr>\n",
       "      <th>Mkt-RF</th>\n",
       "      <td>48</td>\n",
       "      <td>2.820212</td>\n",
       "      <td>float64</td>\n",
       "    </tr>\n",
       "    <tr>\n",
       "      <th>SMB</th>\n",
       "      <td>48</td>\n",
       "      <td>2.820212</td>\n",
       "      <td>float64</td>\n",
       "    </tr>\n",
       "    <tr>\n",
       "      <th>HML</th>\n",
       "      <td>48</td>\n",
       "      <td>2.820212</td>\n",
       "      <td>float64</td>\n",
       "    </tr>\n",
       "    <tr>\n",
       "      <th>RF</th>\n",
       "      <td>48</td>\n",
       "      <td>2.820212</td>\n",
       "      <td>float64</td>\n",
       "    </tr>\n",
       "    <tr>\n",
       "      <th>Yest_Close</th>\n",
       "      <td>1</td>\n",
       "      <td>0.058754</td>\n",
       "      <td>float64</td>\n",
       "    </tr>\n",
       "    <tr>\n",
       "      <th>stock_return</th>\n",
       "      <td>1</td>\n",
       "      <td>0.058754</td>\n",
       "      <td>float64</td>\n",
       "    </tr>\n",
       "  </tbody>\n",
       "</table>\n",
       "</div>"
      ],
      "text/plain": [
       "              missing_values   percent_missing %       data type\n",
       "Date                        0           0.000000  datetime64[ns]\n",
       "Open                        0           0.000000         float64\n",
       "High                        0           0.000000         float64\n",
       "Low                         0           0.000000         float64\n",
       "Close                       0           0.000000         float64\n",
       "Adj Close                   0           0.000000         float64\n",
       "Volume                      0           0.000000           int64\n",
       "Mkt-RF                     48           2.820212         float64\n",
       "SMB                        48           2.820212         float64\n",
       "HML                        48           2.820212         float64\n",
       "RF                         48           2.820212         float64\n",
       "Yest_Close                  1           0.058754         float64\n",
       "stock_return                1           0.058754         float64"
      ]
     },
     "execution_count": 98,
     "metadata": {},
     "output_type": "execute_result"
    }
   ],
   "source": [
    "missing_values=stock.isnull().sum() # missing values\n",
    "\n",
    "percent_missing = stock.isnull().sum()/stock.shape[0]*100 # missing value %\n",
    "cols = list(stock.columns)\n",
    "value = {\n",
    "    'missing_values ':missing_values,\n",
    "    'percent_missing %':percent_missing , \n",
    "     'data type' : stock.dtypes\n",
    "}\n",
    "frame=pd.DataFrame(value)\n",
    "frame\n"
   ]
  },
  {
   "cell_type": "code",
   "execution_count": 99,
   "metadata": {},
   "outputs": [],
   "source": [
    "### 5. transformation, remove NaN from ff and stock dataset"
   ]
  },
  {
   "cell_type": "code",
   "execution_count": 100,
   "metadata": {},
   "outputs": [],
   "source": [
    "stock=stock.dropna()\n"
   ]
  },
  {
   "cell_type": "code",
   "execution_count": 101,
   "metadata": {},
   "outputs": [
    {
     "data": {
      "text/html": [
       "<div>\n",
       "<style scoped>\n",
       "    .dataframe tbody tr th:only-of-type {\n",
       "        vertical-align: middle;\n",
       "    }\n",
       "\n",
       "    .dataframe tbody tr th {\n",
       "        vertical-align: top;\n",
       "    }\n",
       "\n",
       "    .dataframe thead th {\n",
       "        text-align: right;\n",
       "    }\n",
       "</style>\n",
       "<table border=\"1\" class=\"dataframe\">\n",
       "  <thead>\n",
       "    <tr style=\"text-align: right;\">\n",
       "      <th></th>\n",
       "      <th>Date</th>\n",
       "      <th>Open</th>\n",
       "      <th>High</th>\n",
       "      <th>Low</th>\n",
       "      <th>Close</th>\n",
       "      <th>Adj Close</th>\n",
       "      <th>Volume</th>\n",
       "      <th>Mkt-RF</th>\n",
       "      <th>SMB</th>\n",
       "      <th>HML</th>\n",
       "      <th>RF</th>\n",
       "      <th>Yest_Close</th>\n",
       "      <th>stock_return</th>\n",
       "    </tr>\n",
       "  </thead>\n",
       "  <tbody>\n",
       "    <tr>\n",
       "      <th>1</th>\n",
       "      <td>2017-01-04</td>\n",
       "      <td>14.316667</td>\n",
       "      <td>15.200000</td>\n",
       "      <td>14.287333</td>\n",
       "      <td>15.132667</td>\n",
       "      <td>15.132667</td>\n",
       "      <td>168202500</td>\n",
       "      <td>0.79</td>\n",
       "      <td>0.95</td>\n",
       "      <td>-0.16</td>\n",
       "      <td>0.002</td>\n",
       "      <td>14.466000</td>\n",
       "      <td>0.046085</td>\n",
       "    </tr>\n",
       "    <tr>\n",
       "      <th>2</th>\n",
       "      <td>2017-01-05</td>\n",
       "      <td>15.094667</td>\n",
       "      <td>15.165333</td>\n",
       "      <td>14.796667</td>\n",
       "      <td>15.116667</td>\n",
       "      <td>15.116667</td>\n",
       "      <td>88675500</td>\n",
       "      <td>-0.21</td>\n",
       "      <td>-0.89</td>\n",
       "      <td>-0.79</td>\n",
       "      <td>0.002</td>\n",
       "      <td>15.132667</td>\n",
       "      <td>-0.001057</td>\n",
       "    </tr>\n",
       "    <tr>\n",
       "      <th>3</th>\n",
       "      <td>2017-01-06</td>\n",
       "      <td>15.128667</td>\n",
       "      <td>15.354000</td>\n",
       "      <td>15.030000</td>\n",
       "      <td>15.267333</td>\n",
       "      <td>15.267333</td>\n",
       "      <td>82918500</td>\n",
       "      <td>0.29</td>\n",
       "      <td>-0.66</td>\n",
       "      <td>-0.31</td>\n",
       "      <td>0.002</td>\n",
       "      <td>15.116667</td>\n",
       "      <td>0.009967</td>\n",
       "    </tr>\n",
       "    <tr>\n",
       "      <th>4</th>\n",
       "      <td>2017-01-09</td>\n",
       "      <td>15.264667</td>\n",
       "      <td>15.461333</td>\n",
       "      <td>15.200000</td>\n",
       "      <td>15.418667</td>\n",
       "      <td>15.418667</td>\n",
       "      <td>59692500</td>\n",
       "      <td>-0.37</td>\n",
       "      <td>-0.30</td>\n",
       "      <td>-1.03</td>\n",
       "      <td>0.002</td>\n",
       "      <td>15.267333</td>\n",
       "      <td>0.009912</td>\n",
       "    </tr>\n",
       "    <tr>\n",
       "      <th>5</th>\n",
       "      <td>2017-01-10</td>\n",
       "      <td>15.466667</td>\n",
       "      <td>15.466667</td>\n",
       "      <td>15.126000</td>\n",
       "      <td>15.324667</td>\n",
       "      <td>15.324667</td>\n",
       "      <td>54900000</td>\n",
       "      <td>0.16</td>\n",
       "      <td>0.89</td>\n",
       "      <td>0.43</td>\n",
       "      <td>0.002</td>\n",
       "      <td>15.418667</td>\n",
       "      <td>-0.006096</td>\n",
       "    </tr>\n",
       "    <tr>\n",
       "      <th>...</th>\n",
       "      <td>...</td>\n",
       "      <td>...</td>\n",
       "      <td>...</td>\n",
       "      <td>...</td>\n",
       "      <td>...</td>\n",
       "      <td>...</td>\n",
       "      <td>...</td>\n",
       "      <td>...</td>\n",
       "      <td>...</td>\n",
       "      <td>...</td>\n",
       "      <td>...</td>\n",
       "      <td>...</td>\n",
       "      <td>...</td>\n",
       "    </tr>\n",
       "    <tr>\n",
       "      <th>1649</th>\n",
       "      <td>2023-07-25</td>\n",
       "      <td>272.380005</td>\n",
       "      <td>272.899994</td>\n",
       "      <td>265.000000</td>\n",
       "      <td>265.279999</td>\n",
       "      <td>265.279999</td>\n",
       "      <td>112757300</td>\n",
       "      <td>0.25</td>\n",
       "      <td>-0.04</td>\n",
       "      <td>-0.79</td>\n",
       "      <td>0.022</td>\n",
       "      <td>269.059998</td>\n",
       "      <td>-0.014049</td>\n",
       "    </tr>\n",
       "    <tr>\n",
       "      <th>1650</th>\n",
       "      <td>2023-07-26</td>\n",
       "      <td>263.250000</td>\n",
       "      <td>268.040009</td>\n",
       "      <td>261.750000</td>\n",
       "      <td>264.350006</td>\n",
       "      <td>264.350006</td>\n",
       "      <td>95856200</td>\n",
       "      <td>0.02</td>\n",
       "      <td>0.68</td>\n",
       "      <td>1.03</td>\n",
       "      <td>0.022</td>\n",
       "      <td>265.279999</td>\n",
       "      <td>-0.003506</td>\n",
       "    </tr>\n",
       "    <tr>\n",
       "      <th>1651</th>\n",
       "      <td>2023-07-27</td>\n",
       "      <td>268.309998</td>\n",
       "      <td>269.130005</td>\n",
       "      <td>255.300003</td>\n",
       "      <td>255.710007</td>\n",
       "      <td>255.710007</td>\n",
       "      <td>103697300</td>\n",
       "      <td>-0.74</td>\n",
       "      <td>-0.90</td>\n",
       "      <td>0.27</td>\n",
       "      <td>0.022</td>\n",
       "      <td>264.350006</td>\n",
       "      <td>-0.032684</td>\n",
       "    </tr>\n",
       "    <tr>\n",
       "      <th>1652</th>\n",
       "      <td>2023-07-28</td>\n",
       "      <td>259.859985</td>\n",
       "      <td>267.250000</td>\n",
       "      <td>258.230011</td>\n",
       "      <td>266.440002</td>\n",
       "      <td>266.440002</td>\n",
       "      <td>111446000</td>\n",
       "      <td>1.14</td>\n",
       "      <td>0.53</td>\n",
       "      <td>-0.33</td>\n",
       "      <td>0.022</td>\n",
       "      <td>255.710007</td>\n",
       "      <td>0.041962</td>\n",
       "    </tr>\n",
       "    <tr>\n",
       "      <th>1653</th>\n",
       "      <td>2023-07-31</td>\n",
       "      <td>267.480011</td>\n",
       "      <td>269.079987</td>\n",
       "      <td>263.779999</td>\n",
       "      <td>267.429993</td>\n",
       "      <td>267.429993</td>\n",
       "      <td>84582200</td>\n",
       "      <td>0.26</td>\n",
       "      <td>1.06</td>\n",
       "      <td>-0.10</td>\n",
       "      <td>0.022</td>\n",
       "      <td>266.440002</td>\n",
       "      <td>0.003716</td>\n",
       "    </tr>\n",
       "  </tbody>\n",
       "</table>\n",
       "<p>1653 rows × 13 columns</p>\n",
       "</div>"
      ],
      "text/plain": [
       "           Date        Open        High         Low       Close   Adj Close  \\\n",
       "1    2017-01-04   14.316667   15.200000   14.287333   15.132667   15.132667   \n",
       "2    2017-01-05   15.094667   15.165333   14.796667   15.116667   15.116667   \n",
       "3    2017-01-06   15.128667   15.354000   15.030000   15.267333   15.267333   \n",
       "4    2017-01-09   15.264667   15.461333   15.200000   15.418667   15.418667   \n",
       "5    2017-01-10   15.466667   15.466667   15.126000   15.324667   15.324667   \n",
       "...         ...         ...         ...         ...         ...         ...   \n",
       "1649 2023-07-25  272.380005  272.899994  265.000000  265.279999  265.279999   \n",
       "1650 2023-07-26  263.250000  268.040009  261.750000  264.350006  264.350006   \n",
       "1651 2023-07-27  268.309998  269.130005  255.300003  255.710007  255.710007   \n",
       "1652 2023-07-28  259.859985  267.250000  258.230011  266.440002  266.440002   \n",
       "1653 2023-07-31  267.480011  269.079987  263.779999  267.429993  267.429993   \n",
       "\n",
       "         Volume  Mkt-RF   SMB   HML     RF  Yest_Close  stock_return  \n",
       "1     168202500    0.79  0.95 -0.16  0.002   14.466000      0.046085  \n",
       "2      88675500   -0.21 -0.89 -0.79  0.002   15.132667     -0.001057  \n",
       "3      82918500    0.29 -0.66 -0.31  0.002   15.116667      0.009967  \n",
       "4      59692500   -0.37 -0.30 -1.03  0.002   15.267333      0.009912  \n",
       "5      54900000    0.16  0.89  0.43  0.002   15.418667     -0.006096  \n",
       "...         ...     ...   ...   ...    ...         ...           ...  \n",
       "1649  112757300    0.25 -0.04 -0.79  0.022  269.059998     -0.014049  \n",
       "1650   95856200    0.02  0.68  1.03  0.022  265.279999     -0.003506  \n",
       "1651  103697300   -0.74 -0.90  0.27  0.022  264.350006     -0.032684  \n",
       "1652  111446000    1.14  0.53 -0.33  0.022  255.710007      0.041962  \n",
       "1653   84582200    0.26  1.06 -0.10  0.022  266.440002      0.003716  \n",
       "\n",
       "[1653 rows x 13 columns]"
      ]
     },
     "execution_count": 101,
     "metadata": {},
     "output_type": "execute_result"
    }
   ],
   "source": [
    "stock"
   ]
  },
  {
   "cell_type": "markdown",
   "metadata": {
    "id": "gvhgZ5hlKO7q"
   },
   "source": [
    "### Adding Extra Additional Stock Features of Moving Averages, MACD & RSI"
   ]
  },
  {
   "cell_type": "code",
   "execution_count": 102,
   "metadata": {},
   "outputs": [],
   "source": [
    "###data ingestion and transformation"
   ]
  },
  {
   "cell_type": "code",
   "execution_count": 103,
   "metadata": {
    "id": "tJNAZWv7xX_O"
   },
   "outputs": [
    {
     "data": {
      "text/html": [
       "<div>\n",
       "<style scoped>\n",
       "    .dataframe tbody tr th:only-of-type {\n",
       "        vertical-align: middle;\n",
       "    }\n",
       "\n",
       "    .dataframe tbody tr th {\n",
       "        vertical-align: top;\n",
       "    }\n",
       "\n",
       "    .dataframe thead th {\n",
       "        text-align: right;\n",
       "    }\n",
       "</style>\n",
       "<table border=\"1\" class=\"dataframe\">\n",
       "  <thead>\n",
       "    <tr style=\"text-align: right;\">\n",
       "      <th></th>\n",
       "      <th>Date</th>\n",
       "      <th>Open</th>\n",
       "      <th>High</th>\n",
       "      <th>Low</th>\n",
       "      <th>Close</th>\n",
       "      <th>Adj Close</th>\n",
       "      <th>Volume</th>\n",
       "      <th>Mkt-RF</th>\n",
       "      <th>SMB</th>\n",
       "      <th>HML</th>\n",
       "      <th>RF</th>\n",
       "      <th>Yest_Close</th>\n",
       "      <th>stock_return</th>\n",
       "      <th>SMA_20</th>\n",
       "      <th>SMA_50</th>\n",
       "      <th>EMA_12</th>\n",
       "      <th>EMA_26</th>\n",
       "      <th>MACD</th>\n",
       "      <th>RSI</th>\n",
       "    </tr>\n",
       "  </thead>\n",
       "  <tbody>\n",
       "    <tr>\n",
       "      <th>1</th>\n",
       "      <td>2017-01-04</td>\n",
       "      <td>14.316667</td>\n",
       "      <td>15.200000</td>\n",
       "      <td>14.287333</td>\n",
       "      <td>15.132667</td>\n",
       "      <td>15.132667</td>\n",
       "      <td>168202500</td>\n",
       "      <td>0.79</td>\n",
       "      <td>0.95</td>\n",
       "      <td>-0.16</td>\n",
       "      <td>0.002</td>\n",
       "      <td>14.466000</td>\n",
       "      <td>0.046085</td>\n",
       "      <td>15.132667</td>\n",
       "      <td>15.132667</td>\n",
       "      <td>15.132667</td>\n",
       "      <td>15.132667</td>\n",
       "      <td>0.000000</td>\n",
       "      <td>100.000000</td>\n",
       "    </tr>\n",
       "    <tr>\n",
       "      <th>2</th>\n",
       "      <td>2017-01-05</td>\n",
       "      <td>15.094667</td>\n",
       "      <td>15.165333</td>\n",
       "      <td>14.796667</td>\n",
       "      <td>15.116667</td>\n",
       "      <td>15.116667</td>\n",
       "      <td>88675500</td>\n",
       "      <td>-0.21</td>\n",
       "      <td>-0.89</td>\n",
       "      <td>-0.79</td>\n",
       "      <td>0.002</td>\n",
       "      <td>15.132667</td>\n",
       "      <td>-0.001057</td>\n",
       "      <td>15.124667</td>\n",
       "      <td>15.124667</td>\n",
       "      <td>15.130205</td>\n",
       "      <td>15.131481</td>\n",
       "      <td>-0.001276</td>\n",
       "      <td>0.000000</td>\n",
       "    </tr>\n",
       "    <tr>\n",
       "      <th>3</th>\n",
       "      <td>2017-01-06</td>\n",
       "      <td>15.128667</td>\n",
       "      <td>15.354000</td>\n",
       "      <td>15.030000</td>\n",
       "      <td>15.267333</td>\n",
       "      <td>15.267333</td>\n",
       "      <td>82918500</td>\n",
       "      <td>0.29</td>\n",
       "      <td>-0.66</td>\n",
       "      <td>-0.31</td>\n",
       "      <td>0.002</td>\n",
       "      <td>15.116667</td>\n",
       "      <td>0.009967</td>\n",
       "      <td>15.172222</td>\n",
       "      <td>15.172222</td>\n",
       "      <td>15.151302</td>\n",
       "      <td>15.141545</td>\n",
       "      <td>0.009757</td>\n",
       "      <td>91.024248</td>\n",
       "    </tr>\n",
       "    <tr>\n",
       "      <th>4</th>\n",
       "      <td>2017-01-09</td>\n",
       "      <td>15.264667</td>\n",
       "      <td>15.461333</td>\n",
       "      <td>15.200000</td>\n",
       "      <td>15.418667</td>\n",
       "      <td>15.418667</td>\n",
       "      <td>59692500</td>\n",
       "      <td>-0.37</td>\n",
       "      <td>-0.30</td>\n",
       "      <td>-1.03</td>\n",
       "      <td>0.002</td>\n",
       "      <td>15.267333</td>\n",
       "      <td>0.009912</td>\n",
       "      <td>15.233833</td>\n",
       "      <td>15.233833</td>\n",
       "      <td>15.192435</td>\n",
       "      <td>15.162072</td>\n",
       "      <td>0.030363</td>\n",
       "      <td>95.477309</td>\n",
       "    </tr>\n",
       "    <tr>\n",
       "      <th>5</th>\n",
       "      <td>2017-01-10</td>\n",
       "      <td>15.466667</td>\n",
       "      <td>15.466667</td>\n",
       "      <td>15.126000</td>\n",
       "      <td>15.324667</td>\n",
       "      <td>15.324667</td>\n",
       "      <td>54900000</td>\n",
       "      <td>0.16</td>\n",
       "      <td>0.89</td>\n",
       "      <td>0.43</td>\n",
       "      <td>0.002</td>\n",
       "      <td>15.418667</td>\n",
       "      <td>-0.006096</td>\n",
       "      <td>15.252000</td>\n",
       "      <td>15.252000</td>\n",
       "      <td>15.212778</td>\n",
       "      <td>15.174116</td>\n",
       "      <td>0.038662</td>\n",
       "      <td>71.686831</td>\n",
       "    </tr>\n",
       "    <tr>\n",
       "      <th>...</th>\n",
       "      <td>...</td>\n",
       "      <td>...</td>\n",
       "      <td>...</td>\n",
       "      <td>...</td>\n",
       "      <td>...</td>\n",
       "      <td>...</td>\n",
       "      <td>...</td>\n",
       "      <td>...</td>\n",
       "      <td>...</td>\n",
       "      <td>...</td>\n",
       "      <td>...</td>\n",
       "      <td>...</td>\n",
       "      <td>...</td>\n",
       "      <td>...</td>\n",
       "      <td>...</td>\n",
       "      <td>...</td>\n",
       "      <td>...</td>\n",
       "      <td>...</td>\n",
       "      <td>...</td>\n",
       "    </tr>\n",
       "    <tr>\n",
       "      <th>1649</th>\n",
       "      <td>2023-07-25</td>\n",
       "      <td>272.380005</td>\n",
       "      <td>272.899994</td>\n",
       "      <td>265.000000</td>\n",
       "      <td>265.279999</td>\n",
       "      <td>265.279999</td>\n",
       "      <td>112757300</td>\n",
       "      <td>0.25</td>\n",
       "      <td>-0.04</td>\n",
       "      <td>-0.79</td>\n",
       "      <td>0.022</td>\n",
       "      <td>269.059998</td>\n",
       "      <td>-0.014049</td>\n",
       "      <td>272.094999</td>\n",
       "      <td>239.121800</td>\n",
       "      <td>272.029478</td>\n",
       "      <td>264.035489</td>\n",
       "      <td>7.993989</td>\n",
       "      <td>51.187379</td>\n",
       "    </tr>\n",
       "    <tr>\n",
       "      <th>1650</th>\n",
       "      <td>2023-07-26</td>\n",
       "      <td>263.250000</td>\n",
       "      <td>268.040009</td>\n",
       "      <td>261.750000</td>\n",
       "      <td>264.350006</td>\n",
       "      <td>264.350006</td>\n",
       "      <td>95856200</td>\n",
       "      <td>0.02</td>\n",
       "      <td>0.68</td>\n",
       "      <td>1.03</td>\n",
       "      <td>0.022</td>\n",
       "      <td>265.279999</td>\n",
       "      <td>-0.003506</td>\n",
       "      <td>272.801999</td>\n",
       "      <td>241.049200</td>\n",
       "      <td>270.848021</td>\n",
       "      <td>264.058787</td>\n",
       "      <td>6.789234</td>\n",
       "      <td>50.639496</td>\n",
       "    </tr>\n",
       "    <tr>\n",
       "      <th>1651</th>\n",
       "      <td>2023-07-27</td>\n",
       "      <td>268.309998</td>\n",
       "      <td>269.130005</td>\n",
       "      <td>255.300003</td>\n",
       "      <td>255.710007</td>\n",
       "      <td>255.710007</td>\n",
       "      <td>103697300</td>\n",
       "      <td>-0.74</td>\n",
       "      <td>-0.90</td>\n",
       "      <td>0.27</td>\n",
       "      <td>0.022</td>\n",
       "      <td>264.350006</td>\n",
       "      <td>-0.032684</td>\n",
       "      <td>272.775500</td>\n",
       "      <td>242.836400</td>\n",
       "      <td>268.519095</td>\n",
       "      <td>263.440359</td>\n",
       "      <td>5.078737</td>\n",
       "      <td>45.741140</td>\n",
       "    </tr>\n",
       "    <tr>\n",
       "      <th>1652</th>\n",
       "      <td>2023-07-28</td>\n",
       "      <td>259.859985</td>\n",
       "      <td>267.250000</td>\n",
       "      <td>258.230011</td>\n",
       "      <td>266.440002</td>\n",
       "      <td>266.440002</td>\n",
       "      <td>111446000</td>\n",
       "      <td>1.14</td>\n",
       "      <td>0.53</td>\n",
       "      <td>-0.33</td>\n",
       "      <td>0.022</td>\n",
       "      <td>255.710007</td>\n",
       "      <td>0.041962</td>\n",
       "      <td>273.222500</td>\n",
       "      <td>244.834800</td>\n",
       "      <td>268.199235</td>\n",
       "      <td>263.662555</td>\n",
       "      <td>4.536680</td>\n",
       "      <td>51.956498</td>\n",
       "    </tr>\n",
       "    <tr>\n",
       "      <th>1653</th>\n",
       "      <td>2023-07-31</td>\n",
       "      <td>267.480011</td>\n",
       "      <td>269.079987</td>\n",
       "      <td>263.779999</td>\n",
       "      <td>267.429993</td>\n",
       "      <td>267.429993</td>\n",
       "      <td>84582200</td>\n",
       "      <td>0.26</td>\n",
       "      <td>1.06</td>\n",
       "      <td>-0.10</td>\n",
       "      <td>0.022</td>\n",
       "      <td>266.440002</td>\n",
       "      <td>0.003716</td>\n",
       "      <td>273.505500</td>\n",
       "      <td>246.706200</td>\n",
       "      <td>268.080890</td>\n",
       "      <td>263.941624</td>\n",
       "      <td>4.139266</td>\n",
       "      <td>52.497167</td>\n",
       "    </tr>\n",
       "  </tbody>\n",
       "</table>\n",
       "<p>1653 rows × 19 columns</p>\n",
       "</div>"
      ],
      "text/plain": [
       "           Date        Open        High         Low       Close   Adj Close  \\\n",
       "1    2017-01-04   14.316667   15.200000   14.287333   15.132667   15.132667   \n",
       "2    2017-01-05   15.094667   15.165333   14.796667   15.116667   15.116667   \n",
       "3    2017-01-06   15.128667   15.354000   15.030000   15.267333   15.267333   \n",
       "4    2017-01-09   15.264667   15.461333   15.200000   15.418667   15.418667   \n",
       "5    2017-01-10   15.466667   15.466667   15.126000   15.324667   15.324667   \n",
       "...         ...         ...         ...         ...         ...         ...   \n",
       "1649 2023-07-25  272.380005  272.899994  265.000000  265.279999  265.279999   \n",
       "1650 2023-07-26  263.250000  268.040009  261.750000  264.350006  264.350006   \n",
       "1651 2023-07-27  268.309998  269.130005  255.300003  255.710007  255.710007   \n",
       "1652 2023-07-28  259.859985  267.250000  258.230011  266.440002  266.440002   \n",
       "1653 2023-07-31  267.480011  269.079987  263.779999  267.429993  267.429993   \n",
       "\n",
       "         Volume  Mkt-RF   SMB   HML     RF  Yest_Close  stock_return  \\\n",
       "1     168202500    0.79  0.95 -0.16  0.002   14.466000      0.046085   \n",
       "2      88675500   -0.21 -0.89 -0.79  0.002   15.132667     -0.001057   \n",
       "3      82918500    0.29 -0.66 -0.31  0.002   15.116667      0.009967   \n",
       "4      59692500   -0.37 -0.30 -1.03  0.002   15.267333      0.009912   \n",
       "5      54900000    0.16  0.89  0.43  0.002   15.418667     -0.006096   \n",
       "...         ...     ...   ...   ...    ...         ...           ...   \n",
       "1649  112757300    0.25 -0.04 -0.79  0.022  269.059998     -0.014049   \n",
       "1650   95856200    0.02  0.68  1.03  0.022  265.279999     -0.003506   \n",
       "1651  103697300   -0.74 -0.90  0.27  0.022  264.350006     -0.032684   \n",
       "1652  111446000    1.14  0.53 -0.33  0.022  255.710007      0.041962   \n",
       "1653   84582200    0.26  1.06 -0.10  0.022  266.440002      0.003716   \n",
       "\n",
       "          SMA_20      SMA_50      EMA_12      EMA_26      MACD         RSI  \n",
       "1      15.132667   15.132667   15.132667   15.132667  0.000000  100.000000  \n",
       "2      15.124667   15.124667   15.130205   15.131481 -0.001276    0.000000  \n",
       "3      15.172222   15.172222   15.151302   15.141545  0.009757   91.024248  \n",
       "4      15.233833   15.233833   15.192435   15.162072  0.030363   95.477309  \n",
       "5      15.252000   15.252000   15.212778   15.174116  0.038662   71.686831  \n",
       "...          ...         ...         ...         ...       ...         ...  \n",
       "1649  272.094999  239.121800  272.029478  264.035489  7.993989   51.187379  \n",
       "1650  272.801999  241.049200  270.848021  264.058787  6.789234   50.639496  \n",
       "1651  272.775500  242.836400  268.519095  263.440359  5.078737   45.741140  \n",
       "1652  273.222500  244.834800  268.199235  263.662555  4.536680   51.956498  \n",
       "1653  273.505500  246.706200  268.080890  263.941624  4.139266   52.497167  \n",
       "\n",
       "[1653 rows x 19 columns]"
      ]
     },
     "execution_count": 103,
     "metadata": {},
     "output_type": "execute_result"
    }
   ],
   "source": [
    "# Calculate additional features\n",
    "stock[\"SMA_20\"] = ta.trend.sma_indicator(stock[\"Close\"], window=20, fillna = True)\n",
    "stock[\"SMA_50\"] = ta.trend.sma_indicator(stock[\"Close\"], window=50, fillna = True)\n",
    "\n",
    "stock[\"EMA_12\"] = ta.trend.ema_indicator(stock[\"Close\"], window=12, fillna = True)\n",
    "stock[\"EMA_26\"] = ta.trend.ema_indicator(stock[\"Close\"], window=26, fillna = True)\n",
    "stock[\"MACD\"] = ta.trend.macd(stock[\"Close\"], fillna = True)\n",
    "\n",
    "stock[\"RSI\"] = ta.momentum.rsi(stock[\"Close\"], fillna = True)\n",
    "\n",
    "stock"
   ]
  },
  {
   "cell_type": "markdown",
   "metadata": {
    "id": "ZJ5hODP_KQPK"
   },
   "source": [
    "### Importing ADS Index"
   ]
  },
  {
   "cell_type": "code",
   "execution_count": 104,
   "metadata": {
    "id": "DZ6-8nVr3cYj"
   },
   "outputs": [],
   "source": [
    "ads_df = pd.read_excel('ADS_Index_Most_Current_Vintage.xlsx')"
   ]
  },
  {
   "cell_type": "code",
   "execution_count": 105,
   "metadata": {
    "colab": {
     "base_uri": "https://localhost:8080/",
     "height": 206
    },
    "id": "tBqcZWim34gN",
    "outputId": "213fbd5a-1eb4-4d66-b92c-2a3a8832866c"
   },
   "outputs": [
    {
     "data": {
      "text/html": [
       "<div>\n",
       "<style scoped>\n",
       "    .dataframe tbody tr th:only-of-type {\n",
       "        vertical-align: middle;\n",
       "    }\n",
       "\n",
       "    .dataframe tbody tr th {\n",
       "        vertical-align: top;\n",
       "    }\n",
       "\n",
       "    .dataframe thead th {\n",
       "        text-align: right;\n",
       "    }\n",
       "</style>\n",
       "<table border=\"1\" class=\"dataframe\">\n",
       "  <thead>\n",
       "    <tr style=\"text-align: right;\">\n",
       "      <th></th>\n",
       "      <th>Unnamed: 0</th>\n",
       "      <th>ADS_Index</th>\n",
       "    </tr>\n",
       "  </thead>\n",
       "  <tbody>\n",
       "    <tr>\n",
       "      <th>23219</th>\n",
       "      <td>2023:09:26</td>\n",
       "      <td>0.288447</td>\n",
       "    </tr>\n",
       "    <tr>\n",
       "      <th>23220</th>\n",
       "      <td>2023:09:27</td>\n",
       "      <td>0.283718</td>\n",
       "    </tr>\n",
       "    <tr>\n",
       "      <th>23221</th>\n",
       "      <td>2023:09:28</td>\n",
       "      <td>0.278881</td>\n",
       "    </tr>\n",
       "    <tr>\n",
       "      <th>23222</th>\n",
       "      <td>2023:09:29</td>\n",
       "      <td>0.273935</td>\n",
       "    </tr>\n",
       "    <tr>\n",
       "      <th>23223</th>\n",
       "      <td>2023:09:30</td>\n",
       "      <td>0.268876</td>\n",
       "    </tr>\n",
       "  </tbody>\n",
       "</table>\n",
       "</div>"
      ],
      "text/plain": [
       "       Unnamed: 0  ADS_Index\n",
       "23219  2023:09:26   0.288447\n",
       "23220  2023:09:27   0.283718\n",
       "23221  2023:09:28   0.278881\n",
       "23222  2023:09:29   0.273935\n",
       "23223  2023:09:30   0.268876"
      ]
     },
     "execution_count": 105,
     "metadata": {},
     "output_type": "execute_result"
    }
   ],
   "source": [
    "ads_df.tail()"
   ]
  },
  {
   "cell_type": "code",
   "execution_count": 106,
   "metadata": {
    "id": "jyZ50maQ5gsE"
   },
   "outputs": [],
   "source": [
    "ads_df.rename(columns = {'Unnamed: 0':'Date'},inplace=True)\n",
    "\n",
    "ads_df['Date'] = pd.to_datetime(ads_df['Date'], format='%Y:%m:%d')"
   ]
  },
  {
   "cell_type": "code",
   "execution_count": 107,
   "metadata": {},
   "outputs": [
    {
     "data": {
      "text/html": [
       "<div>\n",
       "<style scoped>\n",
       "    .dataframe tbody tr th:only-of-type {\n",
       "        vertical-align: middle;\n",
       "    }\n",
       "\n",
       "    .dataframe tbody tr th {\n",
       "        vertical-align: top;\n",
       "    }\n",
       "\n",
       "    .dataframe thead th {\n",
       "        text-align: right;\n",
       "    }\n",
       "</style>\n",
       "<table border=\"1\" class=\"dataframe\">\n",
       "  <thead>\n",
       "    <tr style=\"text-align: right;\">\n",
       "      <th></th>\n",
       "      <th>Date</th>\n",
       "      <th>ADS_Index</th>\n",
       "    </tr>\n",
       "  </thead>\n",
       "  <tbody>\n",
       "    <tr>\n",
       "      <th>0</th>\n",
       "      <td>1960-03-01</td>\n",
       "      <td>-0.576619</td>\n",
       "    </tr>\n",
       "    <tr>\n",
       "      <th>1</th>\n",
       "      <td>1960-03-02</td>\n",
       "      <td>-0.625041</td>\n",
       "    </tr>\n",
       "    <tr>\n",
       "      <th>2</th>\n",
       "      <td>1960-03-03</td>\n",
       "      <td>-0.670413</td>\n",
       "    </tr>\n",
       "    <tr>\n",
       "      <th>3</th>\n",
       "      <td>1960-03-04</td>\n",
       "      <td>-0.712752</td>\n",
       "    </tr>\n",
       "    <tr>\n",
       "      <th>4</th>\n",
       "      <td>1960-03-05</td>\n",
       "      <td>-0.752074</td>\n",
       "    </tr>\n",
       "  </tbody>\n",
       "</table>\n",
       "</div>"
      ],
      "text/plain": [
       "        Date  ADS_Index\n",
       "0 1960-03-01  -0.576619\n",
       "1 1960-03-02  -0.625041\n",
       "2 1960-03-03  -0.670413\n",
       "3 1960-03-04  -0.712752\n",
       "4 1960-03-05  -0.752074"
      ]
     },
     "execution_count": 107,
     "metadata": {},
     "output_type": "execute_result"
    }
   ],
   "source": [
    "ads_df.head()"
   ]
  },
  {
   "cell_type": "code",
   "execution_count": 108,
   "metadata": {
    "id": "190n4pA-4yT9"
   },
   "outputs": [],
   "source": [
    "stock = stock.merge(ads_df, how='left', on='Date')"
   ]
  },
  {
   "cell_type": "code",
   "execution_count": 109,
   "metadata": {},
   "outputs": [],
   "source": [
    "stock.to_csv('Features included stock.csv', index=False)"
   ]
  },
  {
   "cell_type": "code",
   "execution_count": 110,
   "metadata": {
    "colab": {
     "base_uri": "https://localhost:8080/",
     "height": 679
    },
    "id": "-luGfyTL5ls4",
    "outputId": "9902b670-4292-419e-9cec-4830f929a856"
   },
   "outputs": [
    {
     "data": {
      "text/html": [
       "<div>\n",
       "<style scoped>\n",
       "    .dataframe tbody tr th:only-of-type {\n",
       "        vertical-align: middle;\n",
       "    }\n",
       "\n",
       "    .dataframe tbody tr th {\n",
       "        vertical-align: top;\n",
       "    }\n",
       "\n",
       "    .dataframe thead th {\n",
       "        text-align: right;\n",
       "    }\n",
       "</style>\n",
       "<table border=\"1\" class=\"dataframe\">\n",
       "  <thead>\n",
       "    <tr style=\"text-align: right;\">\n",
       "      <th></th>\n",
       "      <th>Date</th>\n",
       "      <th>Open</th>\n",
       "      <th>High</th>\n",
       "      <th>Low</th>\n",
       "      <th>Close</th>\n",
       "      <th>Adj Close</th>\n",
       "      <th>Volume</th>\n",
       "      <th>Mkt-RF</th>\n",
       "      <th>SMB</th>\n",
       "      <th>HML</th>\n",
       "      <th>RF</th>\n",
       "      <th>Yest_Close</th>\n",
       "      <th>stock_return</th>\n",
       "      <th>SMA_20</th>\n",
       "      <th>SMA_50</th>\n",
       "      <th>EMA_12</th>\n",
       "      <th>EMA_26</th>\n",
       "      <th>MACD</th>\n",
       "      <th>RSI</th>\n",
       "      <th>ADS_Index</th>\n",
       "    </tr>\n",
       "  </thead>\n",
       "  <tbody>\n",
       "    <tr>\n",
       "      <th>0</th>\n",
       "      <td>2017-01-04</td>\n",
       "      <td>14.316667</td>\n",
       "      <td>15.200000</td>\n",
       "      <td>14.287333</td>\n",
       "      <td>15.132667</td>\n",
       "      <td>15.132667</td>\n",
       "      <td>168202500</td>\n",
       "      <td>0.79</td>\n",
       "      <td>0.95</td>\n",
       "      <td>-0.16</td>\n",
       "      <td>0.002</td>\n",
       "      <td>14.466000</td>\n",
       "      <td>0.046085</td>\n",
       "      <td>15.132667</td>\n",
       "      <td>15.132667</td>\n",
       "      <td>15.132667</td>\n",
       "      <td>15.132667</td>\n",
       "      <td>0.000000</td>\n",
       "      <td>100.000000</td>\n",
       "      <td>0.174783</td>\n",
       "    </tr>\n",
       "    <tr>\n",
       "      <th>1</th>\n",
       "      <td>2017-01-05</td>\n",
       "      <td>15.094667</td>\n",
       "      <td>15.165333</td>\n",
       "      <td>14.796667</td>\n",
       "      <td>15.116667</td>\n",
       "      <td>15.116667</td>\n",
       "      <td>88675500</td>\n",
       "      <td>-0.21</td>\n",
       "      <td>-0.89</td>\n",
       "      <td>-0.79</td>\n",
       "      <td>0.002</td>\n",
       "      <td>15.132667</td>\n",
       "      <td>-0.001057</td>\n",
       "      <td>15.124667</td>\n",
       "      <td>15.124667</td>\n",
       "      <td>15.130205</td>\n",
       "      <td>15.131481</td>\n",
       "      <td>-0.001276</td>\n",
       "      <td>0.000000</td>\n",
       "      <td>0.154241</td>\n",
       "    </tr>\n",
       "    <tr>\n",
       "      <th>2</th>\n",
       "      <td>2017-01-06</td>\n",
       "      <td>15.128667</td>\n",
       "      <td>15.354000</td>\n",
       "      <td>15.030000</td>\n",
       "      <td>15.267333</td>\n",
       "      <td>15.267333</td>\n",
       "      <td>82918500</td>\n",
       "      <td>0.29</td>\n",
       "      <td>-0.66</td>\n",
       "      <td>-0.31</td>\n",
       "      <td>0.002</td>\n",
       "      <td>15.116667</td>\n",
       "      <td>0.009967</td>\n",
       "      <td>15.172222</td>\n",
       "      <td>15.172222</td>\n",
       "      <td>15.151302</td>\n",
       "      <td>15.141545</td>\n",
       "      <td>0.009757</td>\n",
       "      <td>91.024248</td>\n",
       "      <td>0.134146</td>\n",
       "    </tr>\n",
       "    <tr>\n",
       "      <th>3</th>\n",
       "      <td>2017-01-09</td>\n",
       "      <td>15.264667</td>\n",
       "      <td>15.461333</td>\n",
       "      <td>15.200000</td>\n",
       "      <td>15.418667</td>\n",
       "      <td>15.418667</td>\n",
       "      <td>59692500</td>\n",
       "      <td>-0.37</td>\n",
       "      <td>-0.30</td>\n",
       "      <td>-1.03</td>\n",
       "      <td>0.002</td>\n",
       "      <td>15.267333</td>\n",
       "      <td>0.009912</td>\n",
       "      <td>15.233833</td>\n",
       "      <td>15.233833</td>\n",
       "      <td>15.192435</td>\n",
       "      <td>15.162072</td>\n",
       "      <td>0.030363</td>\n",
       "      <td>95.477309</td>\n",
       "      <td>0.076169</td>\n",
       "    </tr>\n",
       "    <tr>\n",
       "      <th>4</th>\n",
       "      <td>2017-01-10</td>\n",
       "      <td>15.466667</td>\n",
       "      <td>15.466667</td>\n",
       "      <td>15.126000</td>\n",
       "      <td>15.324667</td>\n",
       "      <td>15.324667</td>\n",
       "      <td>54900000</td>\n",
       "      <td>0.16</td>\n",
       "      <td>0.89</td>\n",
       "      <td>0.43</td>\n",
       "      <td>0.002</td>\n",
       "      <td>15.418667</td>\n",
       "      <td>-0.006096</td>\n",
       "      <td>15.252000</td>\n",
       "      <td>15.252000</td>\n",
       "      <td>15.212778</td>\n",
       "      <td>15.174116</td>\n",
       "      <td>0.038662</td>\n",
       "      <td>71.686831</td>\n",
       "      <td>0.057208</td>\n",
       "    </tr>\n",
       "    <tr>\n",
       "      <th>...</th>\n",
       "      <td>...</td>\n",
       "      <td>...</td>\n",
       "      <td>...</td>\n",
       "      <td>...</td>\n",
       "      <td>...</td>\n",
       "      <td>...</td>\n",
       "      <td>...</td>\n",
       "      <td>...</td>\n",
       "      <td>...</td>\n",
       "      <td>...</td>\n",
       "      <td>...</td>\n",
       "      <td>...</td>\n",
       "      <td>...</td>\n",
       "      <td>...</td>\n",
       "      <td>...</td>\n",
       "      <td>...</td>\n",
       "      <td>...</td>\n",
       "      <td>...</td>\n",
       "      <td>...</td>\n",
       "      <td>...</td>\n",
       "    </tr>\n",
       "    <tr>\n",
       "      <th>1648</th>\n",
       "      <td>2023-07-25</td>\n",
       "      <td>272.380005</td>\n",
       "      <td>272.899994</td>\n",
       "      <td>265.000000</td>\n",
       "      <td>265.279999</td>\n",
       "      <td>265.279999</td>\n",
       "      <td>112757300</td>\n",
       "      <td>0.25</td>\n",
       "      <td>-0.04</td>\n",
       "      <td>-0.79</td>\n",
       "      <td>0.022</td>\n",
       "      <td>269.059998</td>\n",
       "      <td>-0.014049</td>\n",
       "      <td>272.094999</td>\n",
       "      <td>239.121800</td>\n",
       "      <td>272.029478</td>\n",
       "      <td>264.035489</td>\n",
       "      <td>7.993989</td>\n",
       "      <td>51.187379</td>\n",
       "      <td>0.310831</td>\n",
       "    </tr>\n",
       "    <tr>\n",
       "      <th>1649</th>\n",
       "      <td>2023-07-26</td>\n",
       "      <td>263.250000</td>\n",
       "      <td>268.040009</td>\n",
       "      <td>261.750000</td>\n",
       "      <td>264.350006</td>\n",
       "      <td>264.350006</td>\n",
       "      <td>95856200</td>\n",
       "      <td>0.02</td>\n",
       "      <td>0.68</td>\n",
       "      <td>1.03</td>\n",
       "      <td>0.022</td>\n",
       "      <td>265.279999</td>\n",
       "      <td>-0.003506</td>\n",
       "      <td>272.801999</td>\n",
       "      <td>241.049200</td>\n",
       "      <td>270.848021</td>\n",
       "      <td>264.058787</td>\n",
       "      <td>6.789234</td>\n",
       "      <td>50.639496</td>\n",
       "      <td>0.307146</td>\n",
       "    </tr>\n",
       "    <tr>\n",
       "      <th>1650</th>\n",
       "      <td>2023-07-27</td>\n",
       "      <td>268.309998</td>\n",
       "      <td>269.130005</td>\n",
       "      <td>255.300003</td>\n",
       "      <td>255.710007</td>\n",
       "      <td>255.710007</td>\n",
       "      <td>103697300</td>\n",
       "      <td>-0.74</td>\n",
       "      <td>-0.90</td>\n",
       "      <td>0.27</td>\n",
       "      <td>0.022</td>\n",
       "      <td>264.350006</td>\n",
       "      <td>-0.032684</td>\n",
       "      <td>272.775500</td>\n",
       "      <td>242.836400</td>\n",
       "      <td>268.519095</td>\n",
       "      <td>263.440359</td>\n",
       "      <td>5.078737</td>\n",
       "      <td>45.741140</td>\n",
       "      <td>0.302536</td>\n",
       "    </tr>\n",
       "    <tr>\n",
       "      <th>1651</th>\n",
       "      <td>2023-07-28</td>\n",
       "      <td>259.859985</td>\n",
       "      <td>267.250000</td>\n",
       "      <td>258.230011</td>\n",
       "      <td>266.440002</td>\n",
       "      <td>266.440002</td>\n",
       "      <td>111446000</td>\n",
       "      <td>1.14</td>\n",
       "      <td>0.53</td>\n",
       "      <td>-0.33</td>\n",
       "      <td>0.022</td>\n",
       "      <td>255.710007</td>\n",
       "      <td>0.041962</td>\n",
       "      <td>273.222500</td>\n",
       "      <td>244.834800</td>\n",
       "      <td>268.199235</td>\n",
       "      <td>263.662555</td>\n",
       "      <td>4.536680</td>\n",
       "      <td>51.956498</td>\n",
       "      <td>0.296997</td>\n",
       "    </tr>\n",
       "    <tr>\n",
       "      <th>1652</th>\n",
       "      <td>2023-07-31</td>\n",
       "      <td>267.480011</td>\n",
       "      <td>269.079987</td>\n",
       "      <td>263.779999</td>\n",
       "      <td>267.429993</td>\n",
       "      <td>267.429993</td>\n",
       "      <td>84582200</td>\n",
       "      <td>0.26</td>\n",
       "      <td>1.06</td>\n",
       "      <td>-0.10</td>\n",
       "      <td>0.022</td>\n",
       "      <td>266.440002</td>\n",
       "      <td>0.003716</td>\n",
       "      <td>273.505500</td>\n",
       "      <td>246.706200</td>\n",
       "      <td>268.080890</td>\n",
       "      <td>263.941624</td>\n",
       "      <td>4.139266</td>\n",
       "      <td>52.497167</td>\n",
       "      <td>0.275560</td>\n",
       "    </tr>\n",
       "  </tbody>\n",
       "</table>\n",
       "<p>1653 rows × 20 columns</p>\n",
       "</div>"
      ],
      "text/plain": [
       "           Date        Open        High         Low       Close   Adj Close  \\\n",
       "0    2017-01-04   14.316667   15.200000   14.287333   15.132667   15.132667   \n",
       "1    2017-01-05   15.094667   15.165333   14.796667   15.116667   15.116667   \n",
       "2    2017-01-06   15.128667   15.354000   15.030000   15.267333   15.267333   \n",
       "3    2017-01-09   15.264667   15.461333   15.200000   15.418667   15.418667   \n",
       "4    2017-01-10   15.466667   15.466667   15.126000   15.324667   15.324667   \n",
       "...         ...         ...         ...         ...         ...         ...   \n",
       "1648 2023-07-25  272.380005  272.899994  265.000000  265.279999  265.279999   \n",
       "1649 2023-07-26  263.250000  268.040009  261.750000  264.350006  264.350006   \n",
       "1650 2023-07-27  268.309998  269.130005  255.300003  255.710007  255.710007   \n",
       "1651 2023-07-28  259.859985  267.250000  258.230011  266.440002  266.440002   \n",
       "1652 2023-07-31  267.480011  269.079987  263.779999  267.429993  267.429993   \n",
       "\n",
       "         Volume  Mkt-RF   SMB   HML     RF  Yest_Close  stock_return  \\\n",
       "0     168202500    0.79  0.95 -0.16  0.002   14.466000      0.046085   \n",
       "1      88675500   -0.21 -0.89 -0.79  0.002   15.132667     -0.001057   \n",
       "2      82918500    0.29 -0.66 -0.31  0.002   15.116667      0.009967   \n",
       "3      59692500   -0.37 -0.30 -1.03  0.002   15.267333      0.009912   \n",
       "4      54900000    0.16  0.89  0.43  0.002   15.418667     -0.006096   \n",
       "...         ...     ...   ...   ...    ...         ...           ...   \n",
       "1648  112757300    0.25 -0.04 -0.79  0.022  269.059998     -0.014049   \n",
       "1649   95856200    0.02  0.68  1.03  0.022  265.279999     -0.003506   \n",
       "1650  103697300   -0.74 -0.90  0.27  0.022  264.350006     -0.032684   \n",
       "1651  111446000    1.14  0.53 -0.33  0.022  255.710007      0.041962   \n",
       "1652   84582200    0.26  1.06 -0.10  0.022  266.440002      0.003716   \n",
       "\n",
       "          SMA_20      SMA_50      EMA_12      EMA_26      MACD         RSI  \\\n",
       "0      15.132667   15.132667   15.132667   15.132667  0.000000  100.000000   \n",
       "1      15.124667   15.124667   15.130205   15.131481 -0.001276    0.000000   \n",
       "2      15.172222   15.172222   15.151302   15.141545  0.009757   91.024248   \n",
       "3      15.233833   15.233833   15.192435   15.162072  0.030363   95.477309   \n",
       "4      15.252000   15.252000   15.212778   15.174116  0.038662   71.686831   \n",
       "...          ...         ...         ...         ...       ...         ...   \n",
       "1648  272.094999  239.121800  272.029478  264.035489  7.993989   51.187379   \n",
       "1649  272.801999  241.049200  270.848021  264.058787  6.789234   50.639496   \n",
       "1650  272.775500  242.836400  268.519095  263.440359  5.078737   45.741140   \n",
       "1651  273.222500  244.834800  268.199235  263.662555  4.536680   51.956498   \n",
       "1652  273.505500  246.706200  268.080890  263.941624  4.139266   52.497167   \n",
       "\n",
       "      ADS_Index  \n",
       "0      0.174783  \n",
       "1      0.154241  \n",
       "2      0.134146  \n",
       "3      0.076169  \n",
       "4      0.057208  \n",
       "...         ...  \n",
       "1648   0.310831  \n",
       "1649   0.307146  \n",
       "1650   0.302536  \n",
       "1651   0.296997  \n",
       "1652   0.275560  \n",
       "\n",
       "[1653 rows x 20 columns]"
      ]
     },
     "execution_count": 110,
     "metadata": {},
     "output_type": "execute_result"
    }
   ],
   "source": [
    "stock"
   ]
  },
  {
   "cell_type": "code",
   "execution_count": 111,
   "metadata": {},
   "outputs": [],
   "source": [
    "## Competitor data ingestions"
   ]
  },
  {
   "cell_type": "markdown",
   "metadata": {
    "id": "GV9mRu_YKRqh"
   },
   "source": [
    "### Adding Competitor Stock Data for Analysis"
   ]
  },
  {
   "cell_type": "markdown",
   "metadata": {
    "id": "3kKQZfTbsh3d"
   },
   "source": [
    "* Nio Inc. (NIO)\n",
    "* Li Auto Inc. (LI)\n",
    "* Rivian Automotive Inc. (RIVN)\n",
    "* General Motors Co. (GM)\n",
    "* Toyota Motor Corp. (TM)\n",
    "* Ford Motor Co. (F)\n",
    "* RACE NV (RACE)"
   ]
  },
  {
   "cell_type": "code",
   "execution_count": 112,
   "metadata": {
    "colab": {
     "base_uri": "https://localhost:8080/"
    },
    "id": "GVVqcGK6zM4I",
    "outputId": "49f650cf-cc52-4b85-805b-71b415b8dc0b"
   },
   "outputs": [
    {
     "name": "stdout",
     "output_type": "stream",
     "text": [
      "[*********************100%%**********************]  1 of 1 completed\n",
      "[*********************100%%**********************]  1 of 1 completed\n",
      "[*********************100%%**********************]  1 of 1 completed\n",
      "[*********************100%%**********************]  1 of 1 completed\n"
     ]
    }
   ],
   "source": [
    "'''NIO = yf.download('NIO',start_date ,end_date)\n",
    "NIO.reset_index(inplace=True)\n",
    "\n",
    "LI = yf.download('LI',start_date ,end_date)\n",
    "LI.reset_index(inplace=True)\n",
    "\n",
    "RIVN = yf.download('RIVN',start_date ,end_date)\n",
    "RIVN.reset_index(inplace=True)'''\n",
    "\n",
    "GM = yf.download('GM',start_date ,end_date)\n",
    "GM.reset_index(inplace=True)\n",
    "\n",
    "TM = yf.download('TM',start_date ,end_date)\n",
    "TM.reset_index(inplace=True)\n",
    "\n",
    "F = yf.download('F',start_date ,end_date)\n",
    "F.reset_index(inplace=True)\n",
    "\n",
    "RACE = yf.download('RACE',start_date ,end_date)\n",
    "RACE.reset_index(inplace=True)"
   ]
  },
  {
   "cell_type": "code",
   "execution_count": 113,
   "metadata": {
    "id": "279K1_Eb0GwW"
   },
   "outputs": [],
   "source": [
    "'''NIO['NIO Yest_Close'] = NIO['Adj Close'].shift(periods=1)\n",
    "LI['LI Yest_Close'] = LI['Adj Close'].shift(periods=1)\n",
    "RIVN['RIVN Yest_Close'] = RIVN['Adj Close'].shift(periods=1)'''\n",
    "GM['GM Yest_Close'] = GM['Adj Close'].shift(periods=1)\n",
    "TM['TM Yest_Close'] = TM['Adj Close'].shift(periods=1)\n",
    "F['F Yest_Close'] = F['Adj Close'].shift(periods=1)\n",
    "RACE['RACE Yest_Close'] = RACE['Adj Close'].shift(periods=1)"
   ]
  },
  {
   "cell_type": "code",
   "execution_count": 114,
   "metadata": {
    "id": "XDkioJed1hzX"
   },
   "outputs": [],
   "source": [
    "'''stock = stock.merge(NIO[['Date', 'NIO Yest_Close']], how='left', on='Date')\n",
    "stock = stock.merge(LI, how='left', on='Date')\n",
    "stock = stock.merge(RIVN, how='left', on='Date')'''\n",
    "stock = stock.merge(GM[['Date', 'GM Yest_Close']], how='left', on='Date')\n",
    "stock = stock.merge(TM[['Date', 'TM Yest_Close']], how='left', on='Date')\n",
    "stock = stock.merge(F[['Date', 'F Yest_Close']], how='left', on='Date')\n",
    "stock = stock.merge(RACE[['Date', 'RACE Yest_Close']], how='left', on='Date')"
   ]
  },
  {
   "cell_type": "code",
   "execution_count": 115,
   "metadata": {
    "colab": {
     "base_uri": "https://localhost:8080/",
     "height": 679
    },
    "id": "CqFBRRYI2icJ",
    "outputId": "49fab1af-a1f4-4793-b63e-34975d6ace21"
   },
   "outputs": [
    {
     "data": {
      "text/html": [
       "<div>\n",
       "<style scoped>\n",
       "    .dataframe tbody tr th:only-of-type {\n",
       "        vertical-align: middle;\n",
       "    }\n",
       "\n",
       "    .dataframe tbody tr th {\n",
       "        vertical-align: top;\n",
       "    }\n",
       "\n",
       "    .dataframe thead th {\n",
       "        text-align: right;\n",
       "    }\n",
       "</style>\n",
       "<table border=\"1\" class=\"dataframe\">\n",
       "  <thead>\n",
       "    <tr style=\"text-align: right;\">\n",
       "      <th></th>\n",
       "      <th>Date</th>\n",
       "      <th>Open</th>\n",
       "      <th>High</th>\n",
       "      <th>Low</th>\n",
       "      <th>Close</th>\n",
       "      <th>Adj Close</th>\n",
       "      <th>Volume</th>\n",
       "      <th>Mkt-RF</th>\n",
       "      <th>SMB</th>\n",
       "      <th>HML</th>\n",
       "      <th>...</th>\n",
       "      <th>SMA_50</th>\n",
       "      <th>EMA_12</th>\n",
       "      <th>EMA_26</th>\n",
       "      <th>MACD</th>\n",
       "      <th>RSI</th>\n",
       "      <th>ADS_Index</th>\n",
       "      <th>GM Yest_Close</th>\n",
       "      <th>TM Yest_Close</th>\n",
       "      <th>F Yest_Close</th>\n",
       "      <th>RACE Yest_Close</th>\n",
       "    </tr>\n",
       "  </thead>\n",
       "  <tbody>\n",
       "    <tr>\n",
       "      <th>0</th>\n",
       "      <td>2017-01-04</td>\n",
       "      <td>14.316667</td>\n",
       "      <td>15.200000</td>\n",
       "      <td>14.287333</td>\n",
       "      <td>15.132667</td>\n",
       "      <td>15.132667</td>\n",
       "      <td>168202500</td>\n",
       "      <td>0.79</td>\n",
       "      <td>0.95</td>\n",
       "      <td>-0.16</td>\n",
       "      <td>...</td>\n",
       "      <td>15.132667</td>\n",
       "      <td>15.132667</td>\n",
       "      <td>15.132667</td>\n",
       "      <td>0.000000</td>\n",
       "      <td>100.000000</td>\n",
       "      <td>0.174783</td>\n",
       "      <td>30.369259</td>\n",
       "      <td>118.550003</td>\n",
       "      <td>9.082818</td>\n",
       "      <td>55.978443</td>\n",
       "    </tr>\n",
       "    <tr>\n",
       "      <th>1</th>\n",
       "      <td>2017-01-05</td>\n",
       "      <td>15.094667</td>\n",
       "      <td>15.165333</td>\n",
       "      <td>14.796667</td>\n",
       "      <td>15.116667</td>\n",
       "      <td>15.116667</td>\n",
       "      <td>88675500</td>\n",
       "      <td>-0.21</td>\n",
       "      <td>-0.89</td>\n",
       "      <td>-0.79</td>\n",
       "      <td>...</td>\n",
       "      <td>15.124667</td>\n",
       "      <td>15.130205</td>\n",
       "      <td>15.131481</td>\n",
       "      <td>-0.001276</td>\n",
       "      <td>0.000000</td>\n",
       "      <td>0.154241</td>\n",
       "      <td>32.045399</td>\n",
       "      <td>121.190002</td>\n",
       "      <td>9.501246</td>\n",
       "      <td>56.424824</td>\n",
       "    </tr>\n",
       "    <tr>\n",
       "      <th>2</th>\n",
       "      <td>2017-01-06</td>\n",
       "      <td>15.128667</td>\n",
       "      <td>15.354000</td>\n",
       "      <td>15.030000</td>\n",
       "      <td>15.267333</td>\n",
       "      <td>15.267333</td>\n",
       "      <td>82918500</td>\n",
       "      <td>0.29</td>\n",
       "      <td>-0.66</td>\n",
       "      <td>-0.31</td>\n",
       "      <td>...</td>\n",
       "      <td>15.172222</td>\n",
       "      <td>15.151302</td>\n",
       "      <td>15.141545</td>\n",
       "      <td>0.009757</td>\n",
       "      <td>91.024248</td>\n",
       "      <td>0.134146</td>\n",
       "      <td>31.440609</td>\n",
       "      <td>120.440002</td>\n",
       "      <td>9.212674</td>\n",
       "      <td>56.377335</td>\n",
       "    </tr>\n",
       "    <tr>\n",
       "      <th>3</th>\n",
       "      <td>2017-01-09</td>\n",
       "      <td>15.264667</td>\n",
       "      <td>15.461333</td>\n",
       "      <td>15.200000</td>\n",
       "      <td>15.418667</td>\n",
       "      <td>15.418667</td>\n",
       "      <td>59692500</td>\n",
       "      <td>-0.37</td>\n",
       "      <td>-0.30</td>\n",
       "      <td>-1.03</td>\n",
       "      <td>...</td>\n",
       "      <td>15.233833</td>\n",
       "      <td>15.192435</td>\n",
       "      <td>15.162072</td>\n",
       "      <td>0.030363</td>\n",
       "      <td>95.477309</td>\n",
       "      <td>0.076169</td>\n",
       "      <td>31.095015</td>\n",
       "      <td>120.129997</td>\n",
       "      <td>9.205460</td>\n",
       "      <td>55.978443</td>\n",
       "    </tr>\n",
       "    <tr>\n",
       "      <th>4</th>\n",
       "      <td>2017-01-10</td>\n",
       "      <td>15.466667</td>\n",
       "      <td>15.466667</td>\n",
       "      <td>15.126000</td>\n",
       "      <td>15.324667</td>\n",
       "      <td>15.324667</td>\n",
       "      <td>54900000</td>\n",
       "      <td>0.16</td>\n",
       "      <td>0.89</td>\n",
       "      <td>0.43</td>\n",
       "      <td>...</td>\n",
       "      <td>15.252000</td>\n",
       "      <td>15.212778</td>\n",
       "      <td>15.174116</td>\n",
       "      <td>0.038662</td>\n",
       "      <td>71.686831</td>\n",
       "      <td>0.057208</td>\n",
       "      <td>31.112295</td>\n",
       "      <td>119.739998</td>\n",
       "      <td>9.111673</td>\n",
       "      <td>55.351604</td>\n",
       "    </tr>\n",
       "    <tr>\n",
       "      <th>...</th>\n",
       "      <td>...</td>\n",
       "      <td>...</td>\n",
       "      <td>...</td>\n",
       "      <td>...</td>\n",
       "      <td>...</td>\n",
       "      <td>...</td>\n",
       "      <td>...</td>\n",
       "      <td>...</td>\n",
       "      <td>...</td>\n",
       "      <td>...</td>\n",
       "      <td>...</td>\n",
       "      <td>...</td>\n",
       "      <td>...</td>\n",
       "      <td>...</td>\n",
       "      <td>...</td>\n",
       "      <td>...</td>\n",
       "      <td>...</td>\n",
       "      <td>...</td>\n",
       "      <td>...</td>\n",
       "      <td>...</td>\n",
       "      <td>...</td>\n",
       "    </tr>\n",
       "    <tr>\n",
       "      <th>1648</th>\n",
       "      <td>2023-07-25</td>\n",
       "      <td>272.380005</td>\n",
       "      <td>272.899994</td>\n",
       "      <td>265.000000</td>\n",
       "      <td>265.279999</td>\n",
       "      <td>265.279999</td>\n",
       "      <td>112757300</td>\n",
       "      <td>0.25</td>\n",
       "      <td>-0.04</td>\n",
       "      <td>-0.79</td>\n",
       "      <td>...</td>\n",
       "      <td>239.121800</td>\n",
       "      <td>272.029478</td>\n",
       "      <td>264.035489</td>\n",
       "      <td>7.993989</td>\n",
       "      <td>51.187379</td>\n",
       "      <td>0.310831</td>\n",
       "      <td>39.194069</td>\n",
       "      <td>164.529999</td>\n",
       "      <td>13.960000</td>\n",
       "      <td>317.160004</td>\n",
       "    </tr>\n",
       "    <tr>\n",
       "      <th>1649</th>\n",
       "      <td>2023-07-26</td>\n",
       "      <td>263.250000</td>\n",
       "      <td>268.040009</td>\n",
       "      <td>261.750000</td>\n",
       "      <td>264.350006</td>\n",
       "      <td>264.350006</td>\n",
       "      <td>95856200</td>\n",
       "      <td>0.02</td>\n",
       "      <td>0.68</td>\n",
       "      <td>1.03</td>\n",
       "      <td>...</td>\n",
       "      <td>241.049200</td>\n",
       "      <td>270.848021</td>\n",
       "      <td>264.058787</td>\n",
       "      <td>6.789234</td>\n",
       "      <td>50.639496</td>\n",
       "      <td>0.307146</td>\n",
       "      <td>37.817787</td>\n",
       "      <td>165.559998</td>\n",
       "      <td>13.580000</td>\n",
       "      <td>316.109985</td>\n",
       "    </tr>\n",
       "    <tr>\n",
       "      <th>1650</th>\n",
       "      <td>2023-07-27</td>\n",
       "      <td>268.309998</td>\n",
       "      <td>269.130005</td>\n",
       "      <td>255.300003</td>\n",
       "      <td>255.710007</td>\n",
       "      <td>255.710007</td>\n",
       "      <td>103697300</td>\n",
       "      <td>-0.74</td>\n",
       "      <td>-0.90</td>\n",
       "      <td>0.27</td>\n",
       "      <td>...</td>\n",
       "      <td>242.836400</td>\n",
       "      <td>268.519095</td>\n",
       "      <td>263.440359</td>\n",
       "      <td>5.078737</td>\n",
       "      <td>45.741140</td>\n",
       "      <td>0.302536</td>\n",
       "      <td>38.186794</td>\n",
       "      <td>165.699997</td>\n",
       "      <td>13.670000</td>\n",
       "      <td>317.350006</td>\n",
       "    </tr>\n",
       "    <tr>\n",
       "      <th>1651</th>\n",
       "      <td>2023-07-28</td>\n",
       "      <td>259.859985</td>\n",
       "      <td>267.250000</td>\n",
       "      <td>258.230011</td>\n",
       "      <td>266.440002</td>\n",
       "      <td>266.440002</td>\n",
       "      <td>111446000</td>\n",
       "      <td>1.14</td>\n",
       "      <td>0.53</td>\n",
       "      <td>-0.33</td>\n",
       "      <td>...</td>\n",
       "      <td>244.834800</td>\n",
       "      <td>268.199235</td>\n",
       "      <td>263.662555</td>\n",
       "      <td>4.536680</td>\n",
       "      <td>51.956498</td>\n",
       "      <td>0.296997</td>\n",
       "      <td>38.864960</td>\n",
       "      <td>165.429993</td>\n",
       "      <td>13.730000</td>\n",
       "      <td>317.269989</td>\n",
       "    </tr>\n",
       "    <tr>\n",
       "      <th>1652</th>\n",
       "      <td>2023-07-31</td>\n",
       "      <td>267.480011</td>\n",
       "      <td>269.079987</td>\n",
       "      <td>263.779999</td>\n",
       "      <td>267.429993</td>\n",
       "      <td>267.429993</td>\n",
       "      <td>84582200</td>\n",
       "      <td>0.26</td>\n",
       "      <td>1.06</td>\n",
       "      <td>-0.10</td>\n",
       "      <td>...</td>\n",
       "      <td>246.706200</td>\n",
       "      <td>268.080890</td>\n",
       "      <td>263.941624</td>\n",
       "      <td>4.139266</td>\n",
       "      <td>52.497167</td>\n",
       "      <td>0.275560</td>\n",
       "      <td>37.947437</td>\n",
       "      <td>167.149994</td>\n",
       "      <td>13.260000</td>\n",
       "      <td>321.820007</td>\n",
       "    </tr>\n",
       "  </tbody>\n",
       "</table>\n",
       "<p>1653 rows × 24 columns</p>\n",
       "</div>"
      ],
      "text/plain": [
       "           Date        Open        High         Low       Close   Adj Close  \\\n",
       "0    2017-01-04   14.316667   15.200000   14.287333   15.132667   15.132667   \n",
       "1    2017-01-05   15.094667   15.165333   14.796667   15.116667   15.116667   \n",
       "2    2017-01-06   15.128667   15.354000   15.030000   15.267333   15.267333   \n",
       "3    2017-01-09   15.264667   15.461333   15.200000   15.418667   15.418667   \n",
       "4    2017-01-10   15.466667   15.466667   15.126000   15.324667   15.324667   \n",
       "...         ...         ...         ...         ...         ...         ...   \n",
       "1648 2023-07-25  272.380005  272.899994  265.000000  265.279999  265.279999   \n",
       "1649 2023-07-26  263.250000  268.040009  261.750000  264.350006  264.350006   \n",
       "1650 2023-07-27  268.309998  269.130005  255.300003  255.710007  255.710007   \n",
       "1651 2023-07-28  259.859985  267.250000  258.230011  266.440002  266.440002   \n",
       "1652 2023-07-31  267.480011  269.079987  263.779999  267.429993  267.429993   \n",
       "\n",
       "         Volume  Mkt-RF   SMB   HML  ...      SMA_50      EMA_12      EMA_26  \\\n",
       "0     168202500    0.79  0.95 -0.16  ...   15.132667   15.132667   15.132667   \n",
       "1      88675500   -0.21 -0.89 -0.79  ...   15.124667   15.130205   15.131481   \n",
       "2      82918500    0.29 -0.66 -0.31  ...   15.172222   15.151302   15.141545   \n",
       "3      59692500   -0.37 -0.30 -1.03  ...   15.233833   15.192435   15.162072   \n",
       "4      54900000    0.16  0.89  0.43  ...   15.252000   15.212778   15.174116   \n",
       "...         ...     ...   ...   ...  ...         ...         ...         ...   \n",
       "1648  112757300    0.25 -0.04 -0.79  ...  239.121800  272.029478  264.035489   \n",
       "1649   95856200    0.02  0.68  1.03  ...  241.049200  270.848021  264.058787   \n",
       "1650  103697300   -0.74 -0.90  0.27  ...  242.836400  268.519095  263.440359   \n",
       "1651  111446000    1.14  0.53 -0.33  ...  244.834800  268.199235  263.662555   \n",
       "1652   84582200    0.26  1.06 -0.10  ...  246.706200  268.080890  263.941624   \n",
       "\n",
       "          MACD         RSI  ADS_Index  GM Yest_Close  TM Yest_Close  \\\n",
       "0     0.000000  100.000000   0.174783      30.369259     118.550003   \n",
       "1    -0.001276    0.000000   0.154241      32.045399     121.190002   \n",
       "2     0.009757   91.024248   0.134146      31.440609     120.440002   \n",
       "3     0.030363   95.477309   0.076169      31.095015     120.129997   \n",
       "4     0.038662   71.686831   0.057208      31.112295     119.739998   \n",
       "...        ...         ...        ...            ...            ...   \n",
       "1648  7.993989   51.187379   0.310831      39.194069     164.529999   \n",
       "1649  6.789234   50.639496   0.307146      37.817787     165.559998   \n",
       "1650  5.078737   45.741140   0.302536      38.186794     165.699997   \n",
       "1651  4.536680   51.956498   0.296997      38.864960     165.429993   \n",
       "1652  4.139266   52.497167   0.275560      37.947437     167.149994   \n",
       "\n",
       "      F Yest_Close  RACE Yest_Close  \n",
       "0         9.082818        55.978443  \n",
       "1         9.501246        56.424824  \n",
       "2         9.212674        56.377335  \n",
       "3         9.205460        55.978443  \n",
       "4         9.111673        55.351604  \n",
       "...            ...              ...  \n",
       "1648     13.960000       317.160004  \n",
       "1649     13.580000       316.109985  \n",
       "1650     13.670000       317.350006  \n",
       "1651     13.730000       317.269989  \n",
       "1652     13.260000       321.820007  \n",
       "\n",
       "[1653 rows x 24 columns]"
      ]
     },
     "execution_count": 115,
     "metadata": {},
     "output_type": "execute_result"
    }
   ],
   "source": [
    "stock"
   ]
  },
  {
   "cell_type": "code",
   "execution_count": 116,
   "metadata": {},
   "outputs": [
    {
     "name": "stdout",
     "output_type": "stream",
     "text": [
      "<class 'pandas.core.frame.DataFrame'>\n",
      "RangeIndex: 1653 entries, 0 to 1652\n",
      "Data columns (total 24 columns):\n",
      " #   Column           Non-Null Count  Dtype         \n",
      "---  ------           --------------  -----         \n",
      " 0   Date             1653 non-null   datetime64[ns]\n",
      " 1   Open             1653 non-null   float64       \n",
      " 2   High             1653 non-null   float64       \n",
      " 3   Low              1653 non-null   float64       \n",
      " 4   Close            1653 non-null   float64       \n",
      " 5   Adj Close        1653 non-null   float64       \n",
      " 6   Volume           1653 non-null   int64         \n",
      " 7   Mkt-RF           1653 non-null   float64       \n",
      " 8   SMB              1653 non-null   float64       \n",
      " 9   HML              1653 non-null   float64       \n",
      " 10  RF               1653 non-null   float64       \n",
      " 11  Yest_Close       1653 non-null   float64       \n",
      " 12  stock_return     1653 non-null   float64       \n",
      " 13  SMA_20           1653 non-null   float64       \n",
      " 14  SMA_50           1653 non-null   float64       \n",
      " 15  EMA_12           1653 non-null   float64       \n",
      " 16  EMA_26           1653 non-null   float64       \n",
      " 17  MACD             1653 non-null   float64       \n",
      " 18  RSI              1653 non-null   float64       \n",
      " 19  ADS_Index        1653 non-null   float64       \n",
      " 20  GM Yest_Close    1653 non-null   float64       \n",
      " 21  TM Yest_Close    1653 non-null   float64       \n",
      " 22  F Yest_Close     1653 non-null   float64       \n",
      " 23  RACE Yest_Close  1653 non-null   float64       \n",
      "dtypes: datetime64[ns](1), float64(22), int64(1)\n",
      "memory usage: 310.1 KB\n",
      "None\n"
     ]
    }
   ],
   "source": [
    "print(stock.info())"
   ]
  },
  {
   "cell_type": "markdown",
   "metadata": {},
   "source": []
  },
  {
   "cell_type": "code",
   "execution_count": 117,
   "metadata": {
    "id": "OCU27qnF2sGB"
   },
   "outputs": [
    {
     "data": {
      "text/html": [
       "<div>\n",
       "<style scoped>\n",
       "    .dataframe tbody tr th:only-of-type {\n",
       "        vertical-align: middle;\n",
       "    }\n",
       "\n",
       "    .dataframe tbody tr th {\n",
       "        vertical-align: top;\n",
       "    }\n",
       "\n",
       "    .dataframe thead th {\n",
       "        text-align: right;\n",
       "    }\n",
       "</style>\n",
       "<table border=\"1\" class=\"dataframe\">\n",
       "  <thead>\n",
       "    <tr style=\"text-align: right;\">\n",
       "      <th></th>\n",
       "      <th>Date</th>\n",
       "      <th>Open</th>\n",
       "      <th>High</th>\n",
       "      <th>Low</th>\n",
       "      <th>Close</th>\n",
       "      <th>Adj Close</th>\n",
       "      <th>Volume</th>\n",
       "      <th>Mkt-RF</th>\n",
       "      <th>SMB</th>\n",
       "      <th>HML</th>\n",
       "      <th>...</th>\n",
       "      <th>SMA_50</th>\n",
       "      <th>EMA_12</th>\n",
       "      <th>EMA_26</th>\n",
       "      <th>MACD</th>\n",
       "      <th>RSI</th>\n",
       "      <th>ADS_Index</th>\n",
       "      <th>GM Yest_Close</th>\n",
       "      <th>TM Yest_Close</th>\n",
       "      <th>F Yest_Close</th>\n",
       "      <th>RACE Yest_Close</th>\n",
       "    </tr>\n",
       "  </thead>\n",
       "  <tbody>\n",
       "    <tr>\n",
       "      <th>0</th>\n",
       "      <td>2017-01-04</td>\n",
       "      <td>14.316667</td>\n",
       "      <td>15.200000</td>\n",
       "      <td>14.287333</td>\n",
       "      <td>15.132667</td>\n",
       "      <td>15.132667</td>\n",
       "      <td>168202500</td>\n",
       "      <td>0.79</td>\n",
       "      <td>0.95</td>\n",
       "      <td>-0.16</td>\n",
       "      <td>...</td>\n",
       "      <td>15.132667</td>\n",
       "      <td>15.132667</td>\n",
       "      <td>15.132667</td>\n",
       "      <td>0.000000</td>\n",
       "      <td>100.000000</td>\n",
       "      <td>0.174783</td>\n",
       "      <td>30.369259</td>\n",
       "      <td>118.550003</td>\n",
       "      <td>9.082818</td>\n",
       "      <td>55.978443</td>\n",
       "    </tr>\n",
       "    <tr>\n",
       "      <th>1</th>\n",
       "      <td>2017-01-05</td>\n",
       "      <td>15.094667</td>\n",
       "      <td>15.165333</td>\n",
       "      <td>14.796667</td>\n",
       "      <td>15.116667</td>\n",
       "      <td>15.116667</td>\n",
       "      <td>88675500</td>\n",
       "      <td>-0.21</td>\n",
       "      <td>-0.89</td>\n",
       "      <td>-0.79</td>\n",
       "      <td>...</td>\n",
       "      <td>15.124667</td>\n",
       "      <td>15.130205</td>\n",
       "      <td>15.131481</td>\n",
       "      <td>-0.001276</td>\n",
       "      <td>0.000000</td>\n",
       "      <td>0.154241</td>\n",
       "      <td>32.045399</td>\n",
       "      <td>121.190002</td>\n",
       "      <td>9.501246</td>\n",
       "      <td>56.424824</td>\n",
       "    </tr>\n",
       "    <tr>\n",
       "      <th>2</th>\n",
       "      <td>2017-01-06</td>\n",
       "      <td>15.128667</td>\n",
       "      <td>15.354000</td>\n",
       "      <td>15.030000</td>\n",
       "      <td>15.267333</td>\n",
       "      <td>15.267333</td>\n",
       "      <td>82918500</td>\n",
       "      <td>0.29</td>\n",
       "      <td>-0.66</td>\n",
       "      <td>-0.31</td>\n",
       "      <td>...</td>\n",
       "      <td>15.172222</td>\n",
       "      <td>15.151302</td>\n",
       "      <td>15.141545</td>\n",
       "      <td>0.009757</td>\n",
       "      <td>91.024248</td>\n",
       "      <td>0.134146</td>\n",
       "      <td>31.440609</td>\n",
       "      <td>120.440002</td>\n",
       "      <td>9.212674</td>\n",
       "      <td>56.377335</td>\n",
       "    </tr>\n",
       "    <tr>\n",
       "      <th>3</th>\n",
       "      <td>2017-01-09</td>\n",
       "      <td>15.264667</td>\n",
       "      <td>15.461333</td>\n",
       "      <td>15.200000</td>\n",
       "      <td>15.418667</td>\n",
       "      <td>15.418667</td>\n",
       "      <td>59692500</td>\n",
       "      <td>-0.37</td>\n",
       "      <td>-0.30</td>\n",
       "      <td>-1.03</td>\n",
       "      <td>...</td>\n",
       "      <td>15.233833</td>\n",
       "      <td>15.192435</td>\n",
       "      <td>15.162072</td>\n",
       "      <td>0.030363</td>\n",
       "      <td>95.477309</td>\n",
       "      <td>0.076169</td>\n",
       "      <td>31.095015</td>\n",
       "      <td>120.129997</td>\n",
       "      <td>9.205460</td>\n",
       "      <td>55.978443</td>\n",
       "    </tr>\n",
       "    <tr>\n",
       "      <th>4</th>\n",
       "      <td>2017-01-10</td>\n",
       "      <td>15.466667</td>\n",
       "      <td>15.466667</td>\n",
       "      <td>15.126000</td>\n",
       "      <td>15.324667</td>\n",
       "      <td>15.324667</td>\n",
       "      <td>54900000</td>\n",
       "      <td>0.16</td>\n",
       "      <td>0.89</td>\n",
       "      <td>0.43</td>\n",
       "      <td>...</td>\n",
       "      <td>15.252000</td>\n",
       "      <td>15.212778</td>\n",
       "      <td>15.174116</td>\n",
       "      <td>0.038662</td>\n",
       "      <td>71.686831</td>\n",
       "      <td>0.057208</td>\n",
       "      <td>31.112295</td>\n",
       "      <td>119.739998</td>\n",
       "      <td>9.111673</td>\n",
       "      <td>55.351604</td>\n",
       "    </tr>\n",
       "    <tr>\n",
       "      <th>...</th>\n",
       "      <td>...</td>\n",
       "      <td>...</td>\n",
       "      <td>...</td>\n",
       "      <td>...</td>\n",
       "      <td>...</td>\n",
       "      <td>...</td>\n",
       "      <td>...</td>\n",
       "      <td>...</td>\n",
       "      <td>...</td>\n",
       "      <td>...</td>\n",
       "      <td>...</td>\n",
       "      <td>...</td>\n",
       "      <td>...</td>\n",
       "      <td>...</td>\n",
       "      <td>...</td>\n",
       "      <td>...</td>\n",
       "      <td>...</td>\n",
       "      <td>...</td>\n",
       "      <td>...</td>\n",
       "      <td>...</td>\n",
       "      <td>...</td>\n",
       "    </tr>\n",
       "    <tr>\n",
       "      <th>1648</th>\n",
       "      <td>2023-07-25</td>\n",
       "      <td>272.380005</td>\n",
       "      <td>272.899994</td>\n",
       "      <td>265.000000</td>\n",
       "      <td>265.279999</td>\n",
       "      <td>265.279999</td>\n",
       "      <td>112757300</td>\n",
       "      <td>0.25</td>\n",
       "      <td>-0.04</td>\n",
       "      <td>-0.79</td>\n",
       "      <td>...</td>\n",
       "      <td>239.121800</td>\n",
       "      <td>272.029478</td>\n",
       "      <td>264.035489</td>\n",
       "      <td>7.993989</td>\n",
       "      <td>51.187379</td>\n",
       "      <td>0.310831</td>\n",
       "      <td>39.194069</td>\n",
       "      <td>164.529999</td>\n",
       "      <td>13.960000</td>\n",
       "      <td>317.160004</td>\n",
       "    </tr>\n",
       "    <tr>\n",
       "      <th>1649</th>\n",
       "      <td>2023-07-26</td>\n",
       "      <td>263.250000</td>\n",
       "      <td>268.040009</td>\n",
       "      <td>261.750000</td>\n",
       "      <td>264.350006</td>\n",
       "      <td>264.350006</td>\n",
       "      <td>95856200</td>\n",
       "      <td>0.02</td>\n",
       "      <td>0.68</td>\n",
       "      <td>1.03</td>\n",
       "      <td>...</td>\n",
       "      <td>241.049200</td>\n",
       "      <td>270.848021</td>\n",
       "      <td>264.058787</td>\n",
       "      <td>6.789234</td>\n",
       "      <td>50.639496</td>\n",
       "      <td>0.307146</td>\n",
       "      <td>37.817787</td>\n",
       "      <td>165.559998</td>\n",
       "      <td>13.580000</td>\n",
       "      <td>316.109985</td>\n",
       "    </tr>\n",
       "    <tr>\n",
       "      <th>1650</th>\n",
       "      <td>2023-07-27</td>\n",
       "      <td>268.309998</td>\n",
       "      <td>269.130005</td>\n",
       "      <td>255.300003</td>\n",
       "      <td>255.710007</td>\n",
       "      <td>255.710007</td>\n",
       "      <td>103697300</td>\n",
       "      <td>-0.74</td>\n",
       "      <td>-0.90</td>\n",
       "      <td>0.27</td>\n",
       "      <td>...</td>\n",
       "      <td>242.836400</td>\n",
       "      <td>268.519095</td>\n",
       "      <td>263.440359</td>\n",
       "      <td>5.078737</td>\n",
       "      <td>45.741140</td>\n",
       "      <td>0.302536</td>\n",
       "      <td>38.186794</td>\n",
       "      <td>165.699997</td>\n",
       "      <td>13.670000</td>\n",
       "      <td>317.350006</td>\n",
       "    </tr>\n",
       "    <tr>\n",
       "      <th>1651</th>\n",
       "      <td>2023-07-28</td>\n",
       "      <td>259.859985</td>\n",
       "      <td>267.250000</td>\n",
       "      <td>258.230011</td>\n",
       "      <td>266.440002</td>\n",
       "      <td>266.440002</td>\n",
       "      <td>111446000</td>\n",
       "      <td>1.14</td>\n",
       "      <td>0.53</td>\n",
       "      <td>-0.33</td>\n",
       "      <td>...</td>\n",
       "      <td>244.834800</td>\n",
       "      <td>268.199235</td>\n",
       "      <td>263.662555</td>\n",
       "      <td>4.536680</td>\n",
       "      <td>51.956498</td>\n",
       "      <td>0.296997</td>\n",
       "      <td>38.864960</td>\n",
       "      <td>165.429993</td>\n",
       "      <td>13.730000</td>\n",
       "      <td>317.269989</td>\n",
       "    </tr>\n",
       "    <tr>\n",
       "      <th>1652</th>\n",
       "      <td>2023-07-31</td>\n",
       "      <td>267.480011</td>\n",
       "      <td>269.079987</td>\n",
       "      <td>263.779999</td>\n",
       "      <td>267.429993</td>\n",
       "      <td>267.429993</td>\n",
       "      <td>84582200</td>\n",
       "      <td>0.26</td>\n",
       "      <td>1.06</td>\n",
       "      <td>-0.10</td>\n",
       "      <td>...</td>\n",
       "      <td>246.706200</td>\n",
       "      <td>268.080890</td>\n",
       "      <td>263.941624</td>\n",
       "      <td>4.139266</td>\n",
       "      <td>52.497167</td>\n",
       "      <td>0.275560</td>\n",
       "      <td>37.947437</td>\n",
       "      <td>167.149994</td>\n",
       "      <td>13.260000</td>\n",
       "      <td>321.820007</td>\n",
       "    </tr>\n",
       "  </tbody>\n",
       "</table>\n",
       "<p>1653 rows × 24 columns</p>\n",
       "</div>"
      ],
      "text/plain": [
       "           Date        Open        High         Low       Close   Adj Close  \\\n",
       "0    2017-01-04   14.316667   15.200000   14.287333   15.132667   15.132667   \n",
       "1    2017-01-05   15.094667   15.165333   14.796667   15.116667   15.116667   \n",
       "2    2017-01-06   15.128667   15.354000   15.030000   15.267333   15.267333   \n",
       "3    2017-01-09   15.264667   15.461333   15.200000   15.418667   15.418667   \n",
       "4    2017-01-10   15.466667   15.466667   15.126000   15.324667   15.324667   \n",
       "...         ...         ...         ...         ...         ...         ...   \n",
       "1648 2023-07-25  272.380005  272.899994  265.000000  265.279999  265.279999   \n",
       "1649 2023-07-26  263.250000  268.040009  261.750000  264.350006  264.350006   \n",
       "1650 2023-07-27  268.309998  269.130005  255.300003  255.710007  255.710007   \n",
       "1651 2023-07-28  259.859985  267.250000  258.230011  266.440002  266.440002   \n",
       "1652 2023-07-31  267.480011  269.079987  263.779999  267.429993  267.429993   \n",
       "\n",
       "         Volume  Mkt-RF   SMB   HML  ...      SMA_50      EMA_12      EMA_26  \\\n",
       "0     168202500    0.79  0.95 -0.16  ...   15.132667   15.132667   15.132667   \n",
       "1      88675500   -0.21 -0.89 -0.79  ...   15.124667   15.130205   15.131481   \n",
       "2      82918500    0.29 -0.66 -0.31  ...   15.172222   15.151302   15.141545   \n",
       "3      59692500   -0.37 -0.30 -1.03  ...   15.233833   15.192435   15.162072   \n",
       "4      54900000    0.16  0.89  0.43  ...   15.252000   15.212778   15.174116   \n",
       "...         ...     ...   ...   ...  ...         ...         ...         ...   \n",
       "1648  112757300    0.25 -0.04 -0.79  ...  239.121800  272.029478  264.035489   \n",
       "1649   95856200    0.02  0.68  1.03  ...  241.049200  270.848021  264.058787   \n",
       "1650  103697300   -0.74 -0.90  0.27  ...  242.836400  268.519095  263.440359   \n",
       "1651  111446000    1.14  0.53 -0.33  ...  244.834800  268.199235  263.662555   \n",
       "1652   84582200    0.26  1.06 -0.10  ...  246.706200  268.080890  263.941624   \n",
       "\n",
       "          MACD         RSI  ADS_Index  GM Yest_Close  TM Yest_Close  \\\n",
       "0     0.000000  100.000000   0.174783      30.369259     118.550003   \n",
       "1    -0.001276    0.000000   0.154241      32.045399     121.190002   \n",
       "2     0.009757   91.024248   0.134146      31.440609     120.440002   \n",
       "3     0.030363   95.477309   0.076169      31.095015     120.129997   \n",
       "4     0.038662   71.686831   0.057208      31.112295     119.739998   \n",
       "...        ...         ...        ...            ...            ...   \n",
       "1648  7.993989   51.187379   0.310831      39.194069     164.529999   \n",
       "1649  6.789234   50.639496   0.307146      37.817787     165.559998   \n",
       "1650  5.078737   45.741140   0.302536      38.186794     165.699997   \n",
       "1651  4.536680   51.956498   0.296997      38.864960     165.429993   \n",
       "1652  4.139266   52.497167   0.275560      37.947437     167.149994   \n",
       "\n",
       "      F Yest_Close  RACE Yest_Close  \n",
       "0         9.082818        55.978443  \n",
       "1         9.501246        56.424824  \n",
       "2         9.212674        56.377335  \n",
       "3         9.205460        55.978443  \n",
       "4         9.111673        55.351604  \n",
       "...            ...              ...  \n",
       "1648     13.960000       317.160004  \n",
       "1649     13.580000       316.109985  \n",
       "1650     13.670000       317.350006  \n",
       "1651     13.730000       317.269989  \n",
       "1652     13.260000       321.820007  \n",
       "\n",
       "[1653 rows x 24 columns]"
      ]
     },
     "execution_count": 117,
     "metadata": {},
     "output_type": "execute_result"
    }
   ],
   "source": [
    "df=stock\n",
    "df.dropna()"
   ]
  },
  {
   "cell_type": "code",
   "execution_count": 118,
   "metadata": {
    "colab": {
     "base_uri": "https://localhost:8080/",
     "height": 679
    },
    "id": "DkDcOwXU23F8",
    "outputId": "ffc97c97-56b3-407f-f696-226fa2638510"
   },
   "outputs": [
    {
     "name": "stdout",
     "output_type": "stream",
     "text": [
      "<class 'pandas.core.frame.DataFrame'>\n",
      "RangeIndex: 1653 entries, 0 to 1652\n",
      "Data columns (total 24 columns):\n",
      " #   Column           Non-Null Count  Dtype         \n",
      "---  ------           --------------  -----         \n",
      " 0   Date             1653 non-null   datetime64[ns]\n",
      " 1   Open             1653 non-null   float64       \n",
      " 2   High             1653 non-null   float64       \n",
      " 3   Low              1653 non-null   float64       \n",
      " 4   Close            1653 non-null   float64       \n",
      " 5   Adj Close        1653 non-null   float64       \n",
      " 6   Volume           1653 non-null   int64         \n",
      " 7   Mkt-RF           1653 non-null   float64       \n",
      " 8   SMB              1653 non-null   float64       \n",
      " 9   HML              1653 non-null   float64       \n",
      " 10  RF               1653 non-null   float64       \n",
      " 11  Yest_Close       1653 non-null   float64       \n",
      " 12  stock_return     1653 non-null   float64       \n",
      " 13  SMA_20           1653 non-null   float64       \n",
      " 14  SMA_50           1653 non-null   float64       \n",
      " 15  EMA_12           1653 non-null   float64       \n",
      " 16  EMA_26           1653 non-null   float64       \n",
      " 17  MACD             1653 non-null   float64       \n",
      " 18  RSI              1653 non-null   float64       \n",
      " 19  ADS_Index        1653 non-null   float64       \n",
      " 20  GM Yest_Close    1653 non-null   float64       \n",
      " 21  TM Yest_Close    1653 non-null   float64       \n",
      " 22  F Yest_Close     1653 non-null   float64       \n",
      " 23  RACE Yest_Close  1653 non-null   float64       \n",
      "dtypes: datetime64[ns](1), float64(22), int64(1)\n",
      "memory usage: 310.1 KB\n"
     ]
    }
   ],
   "source": [
    "df.info()"
   ]
  },
  {
   "cell_type": "markdown",
   "metadata": {
    "id": "CCoyUPpXKTx0"
   },
   "source": []
  },
  {
   "cell_type": "code",
   "execution_count": 127,
   "metadata": {
    "id": "6AI6leaJ-Th3"
   },
   "outputs": [],
   "source": [
    "df.to_csv('stockffads.csv', index = False, sep = ',')"
   ]
  },
  {
   "cell_type": "code",
   "execution_count": 120,
   "metadata": {},
   "outputs": [
    {
     "name": "stdout",
     "output_type": "stream",
     "text": [
      "0        9.082818\n",
      "1        9.501246\n",
      "2        9.212674\n",
      "3        9.205460\n",
      "4        9.111673\n",
      "          ...    \n",
      "1648    13.960000\n",
      "1649    13.580000\n",
      "1650    13.670000\n",
      "1651    13.730000\n",
      "1652    13.260000\n",
      "Name: F Yest_Close, Length: 1653, dtype: float64\n"
     ]
    }
   ],
   "source": [
    "y = df.iloc[:, -2]\n",
    "print(y)"
   ]
  },
  {
   "cell_type": "markdown",
   "metadata": {
    "id": "ywtnhS4RKVDX"
   },
   "source": [
    "### Correlation Matrix of Final Dataframe to check the multi-collinearity between variables"
   ]
  },
  {
   "cell_type": "code",
   "execution_count": 121,
   "metadata": {
    "colab": {
     "base_uri": "https://localhost:8080/",
     "height": 935
    },
    "id": "dkQ3Z4wL8Bue",
    "outputId": "14ac4def-b182-478d-cb37-5dbc990b7fb2"
   },
   "outputs": [
    {
     "data": {
      "application/vnd.plotly.v1+json": {
       "config": {
        "plotlyServerURL": "https://plot.ly"
       },
       "data": [
        {
         "coloraxis": "coloraxis",
         "hovertemplate": "x: %{x}<br>y: %{y}<br>color: %{z}<extra></extra>",
         "name": "0",
         "texttemplate": "%{z}",
         "type": "heatmap",
         "x": [
          "Date",
          "Open",
          "High",
          "Low",
          "Close",
          "Adj Close",
          "Volume",
          "Mkt-RF",
          "SMB",
          "HML",
          "RF",
          "Yest_Close",
          "stock_return",
          "SMA_20",
          "SMA_50",
          "EMA_12",
          "EMA_26",
          "MACD",
          "RSI",
          "ADS_Index",
          "GM Yest_Close",
          "TM Yest_Close",
          "F Yest_Close",
          "RACE Yest_Close"
         ],
         "xaxis": "x",
         "y": [
          "Date",
          "Open",
          "High",
          "Low",
          "Close",
          "Adj Close",
          "Volume",
          "Mkt-RF",
          "SMB",
          "HML",
          "RF",
          "Yest_Close",
          "stock_return",
          "SMA_20",
          "SMA_50",
          "EMA_12",
          "EMA_26",
          "MACD",
          "RSI",
          "ADS_Index",
          "GM Yest_Close",
          "TM Yest_Close",
          "F Yest_Close",
          "RACE Yest_Close"
         ],
         "yaxis": "y",
         "z": [
          [
           1,
           0.8232142676877091,
           0.8238206889290898,
           0.8231652851514697,
           0.8235360593851038,
           0.8235360593851038,
           -0.01955944387513181,
           -0.005309085562801917,
           0.005874915429550557,
           0.02876907713858322,
           0.24218632795497283,
           0.8233576830017676,
           0.0011282976361442426,
           0.8262804066591073,
           0.8313151305085017,
           0.8266525952167614,
           0.8306058010620787,
           0.038195470997621696,
           -0.04974237447851221,
           0.020026074653577905,
           0.3715413619483867,
           0.6975793384548834,
           0.5857131163606212,
           0.9322637295819605
          ],
          [
           0.8232142676877091,
           1,
           0.9995893951558271,
           0.9994188598445757,
           0.9988103894858991,
           0.9988103894858991,
           -0.2431049571669365,
           -0.021191807132695466,
           -0.003927010938283227,
           0.07693687515113629,
           -0.14984752482724287,
           0.9995114258923072,
           -0.020900447886639733,
           0.9902892196261324,
           0.972464994950349,
           0.9965233352120358,
           0.9906181445231498,
           0.20236725805966332,
           0.03071461543370003,
           0.10580286939309765,
           0.646542664081491,
           0.849055219919395,
           0.7922842543320325,
           0.804212718901659
          ],
          [
           0.8238206889290898,
           0.9995893951558271,
           1,
           0.9994308292688007,
           0.9994626408564883,
           0.9994626408564883,
           -0.23735235367734914,
           -0.01718844064272775,
           0.0007706416191654177,
           0.07101824539461778,
           -0.15062419244772984,
           0.9992024092466065,
           -0.007985158990014996,
           0.9902510327167174,
           0.9728212852872196,
           0.9965116114882876,
           0.9906886604711767,
           0.201161111382763,
           0.03353763254054135,
           0.10543219144543219,
           0.6447622837305116,
           0.8489523065883421,
           0.7918472295507821,
           0.8041925895251019
          ],
          [
           0.8231652851514697,
           0.9994188598445757,
           0.9994308292688007,
           1,
           0.9995234854601306,
           0.9995234854601306,
           -0.24868370908151882,
           -0.014780803361358104,
           0.0019961111037280536,
           0.06884611618925954,
           -0.1487179120790319,
           0.9989867463754559,
           -0.00590562593850061,
           0.9891674725425631,
           0.971075597889836,
           0.995792985990716,
           0.9895516654271806,
           0.2072065359986506,
           0.038933384644469056,
           0.10669071194918808,
           0.6477674069872377,
           0.8496380747749642,
           0.791927206583823,
           0.804946934569735
          ],
          [
           0.8235360593851038,
           0.9988103894858991,
           0.9994626408564883,
           0.9995234854601306,
           1,
           1,
           -0.24180397152354224,
           -0.005592200416150104,
           0.007252889694502479,
           0.06139732045300566,
           -0.14989248719230627,
           0.9983920365985597,
           0.008504575552939979,
           0.9891748579780452,
           0.9713972695650319,
           0.99575564969778,
           0.9896252475903812,
           0.20557727695697006,
           0.04077658244072383,
           0.10646589190119675,
           0.6459410893229005,
           0.8488220646474076,
           0.7909095668007868,
           0.8049080275226729
          ],
          [
           0.8235360593851038,
           0.9988103894858991,
           0.9994626408564883,
           0.9995234854601306,
           1,
           1,
           -0.24180397152354224,
           -0.005592200416150104,
           0.007252889694502479,
           0.06139732045300566,
           -0.14989248719230627,
           0.9983920365985597,
           0.008504575552939979,
           0.9891748579780452,
           0.9713972695650319,
           0.99575564969778,
           0.9896252475903812,
           0.20557727695697006,
           0.04077658244072383,
           0.10646589190119675,
           0.6459410893229005,
           0.8488220646474076,
           0.7909095668007868,
           0.8049080275226729
          ],
          [
           -0.01955944387513181,
           -0.2431049571669365,
           -0.23735235367734914,
           -0.24868370908151882,
           -0.24180397152354224,
           -0.24180397152354224,
           1,
           -0.006587059335025053,
           -0.014074802224261407,
           -0.065013452032946,
           0.10987590974478892,
           -0.24449104604210975,
           0.10560730519466045,
           -0.2607037597154397,
           -0.2727259414668934,
           -0.25350441086858455,
           -0.26235736637081447,
           0.10021980257048581,
           0.14439460941186996,
           -0.19903637656339454,
           -0.36746117962169367,
           -0.23615101513454706,
           -0.37822352718099145,
           -0.0130240352242881
          ],
          [
           -0.005309085562801917,
           -0.021191807132695466,
           -0.01718844064272775,
           -0.014780803361358104,
           -0.005592200416150104,
           -0.005592200416150104,
           -0.006587059335025053,
           1,
           0.20920359047373235,
           -0.067219296767516,
           -0.009489036416082152,
           -0.028950608468157803,
           0.4992127337232923,
           -0.024442328758138353,
           -0.020708306009150832,
           -0.023060104374000995,
           -0.023081914517018888,
           -0.0023615117316138352,
           0.12261599396513702,
           -0.010767654852265204,
           -0.03771344870902386,
           -0.04331914829620612,
           -0.050430910734458045,
           -0.010255007906170802
          ],
          [
           0.005874915429550557,
           -0.003927010938283227,
           0.0007706416191654177,
           0.0019961111037280536,
           0.007252889694502479,
           0.007252889694502479,
           -0.014074802224261407,
           0.20920359047373235,
           1,
           -0.017741370407302736,
           -0.015675069307689634,
           -0.006258837684826454,
           0.21569861179490296,
           -0.005876038476484698,
           -0.00554073143907868,
           -0.00378265079534885,
           -0.005025852813159072,
           0.017772713150199158,
           0.07615639140794014,
           0.0035701563369330866,
           -0.05115429093644434,
           -0.019901480914398313,
           -0.054775243496180036,
           0.002146014257956921
          ],
          [
           0.02876907713858322,
           0.07693687515113629,
           0.07101824539461778,
           0.06884611618925954,
           0.06139732045300566,
           0.06139732045300566,
           -0.065013452032946,
           -0.067219296767516,
           -0.017741370407302736,
           1,
           -0.032456395659299656,
           0.07949419086945964,
           -0.23153510239967456,
           0.07718875021030278,
           0.0743998090680161,
           0.07529120787914677,
           0.07609967545085435,
           -0.0030902428191838718,
           -0.06225724714339746,
           0.045604813563104266,
           0.07268835576861454,
           0.05820178032780882,
           0.0673588688267419,
           0.042678741923188566
          ],
          [
           0.24218632795497283,
           -0.14984752482724287,
           -0.15062419244772984,
           -0.1487179120790319,
           -0.14989248719230627,
           -0.14989248719230627,
           0.10987590974478892,
           -0.009489036416082152,
           -0.015675069307689634,
           -0.032456395659299656,
           1,
           -0.14902059214078398,
           -0.03182111791308768,
           -0.1457860953871679,
           -0.13614599553793805,
           -0.14730419547374488,
           -0.14341727492851847,
           -0.0740680231568083,
           -0.141588129664116,
           -0.041762488998724714,
           -0.2793045718934599,
           -0.22686252938274556,
           0.05252213886806575,
           0.2414625553853141
          ],
          [
           0.8233576830017676,
           0.9995114258923072,
           0.9992024092466065,
           0.9989867463754559,
           0.9983920365985597,
           0.9983920365985597,
           -0.24449104604210975,
           -0.028950608468157803,
           -0.006258837684826454,
           0.07949419086945964,
           -0.14902059214078398,
           1,
           -0.034255168532560026,
           0.9907941506566439,
           0.9730247970414655,
           0.9969361537629688,
           0.9911131826600674,
           0.2012107639355712,
           0.025788104692119194,
           0.10561908477671868,
           0.6471796031060847,
           0.849105006637709,
           0.793171285499703,
           0.8040018814633225
          ],
          [
           0.0011282976361442426,
           -0.020900447886639733,
           -0.007985158990014996,
           -0.00590562593850061,
           0.008504575552939979,
           0.008504575552939979,
           0.10560730519466045,
           0.4992127337232923,
           0.21569861179490296,
           -0.23153510239967456,
           -0.03182111791308768,
           -0.034255168532560026,
           1,
           -0.03526619588746689,
           -0.03536737680672252,
           -0.028951251654238484,
           -0.03334588666309915,
           0.061013989145338364,
           0.3454265599917395,
           -0.0064607014902651385,
           -0.0477944210897361,
           -0.009096909532383003,
           -0.05177930921957395,
           0.009399877365412248
          ],
          [
           0.8262804066591073,
           0.9902892196261324,
           0.9902510327167174,
           0.9891674725425631,
           0.9891748579780452,
           0.9891748579780452,
           -0.2607037597154397,
           -0.024442328758138353,
           -0.005876038476484698,
           0.07718875021030278,
           -0.1457860953871679,
           0.9907941506566439,
           -0.03526619588746689,
           1,
           0.9889327606270016,
           0.9979419350225132,
           0.9992249196732914,
           0.0972278265367217,
           -0.05965378345217926,
           0.09715458189870828,
           0.6440259667065362,
           0.8452991220408514,
           0.7985949828427789,
           0.7903583366395999
          ],
          [
           0.8313151305085017,
           0.972464994950349,
           0.9728212852872196,
           0.971075597889836,
           0.9713972695650319,
           0.9713972695650319,
           -0.2727259414668934,
           -0.020708306009150832,
           -0.00554073143907868,
           0.0743998090680161,
           -0.13614599553793805,
           0.9730247970414655,
           -0.03536737680672252,
           0.9889327606270016,
           1,
           0.9834094645183223,
           0.992937525385214,
           -0.025249358538383247,
           -0.1179341822841525,
           0.08157169858992906,
           0.6357041851803491,
           0.8414416533401781,
           0.8040020548157638,
           0.7686209559585233
          ],
          [
           0.8266525952167614,
           0.9965233352120358,
           0.9965116114882876,
           0.995792985990716,
           0.99575564969778,
           0.99575564969778,
           -0.25350441086858455,
           -0.023060104374000995,
           -0.00378265079534885,
           0.07529120787914677,
           -0.14730419547374488,
           0.9969361537629688,
           -0.028951251654238484,
           0.9979419350225132,
           0.9834094645183223,
           1,
           0.9977198091094079,
           0.14966643044511455,
           -0.019903867721903827,
           0.10146828680621398,
           0.6468454356537865,
           0.8487707846761091,
           0.797837547547302,
           0.7985303343148941
          ],
          [
           0.8306058010620787,
           0.9906181445231498,
           0.9906886604711767,
           0.9895516654271806,
           0.9896252475903812,
           0.9896252475903812,
           -0.26235736637081447,
           -0.023081914517018888,
           -0.005025852813159072,
           0.07609967545085435,
           -0.14341727492851847,
           0.9911131826600674,
           -0.03334588666309915,
           0.9992249196732914,
           0.992937525385214,
           0.9977198091094079,
           1,
           0.08259326420607518,
           -0.06181637752443521,
           0.09487278782564894,
           0.6444201229153081,
           0.8480766831284767,
           0.802245825949693,
           0.7898966416058115
          ],
          [
           0.038195470997621696,
           0.20236725805966332,
           0.201161111382763,
           0.2072065359986506,
           0.20557727695697006,
           0.20557727695697006,
           0.10021980257048581,
           -0.0023615117316138352,
           0.017772713150199158,
           -0.0030902428191838718,
           -0.0740680231568083,
           0.2012107639355712,
           0.061013989145338364,
           0.0972278265367217,
           -0.025249358538383247,
           0.14966643044511455,
           0.08259326420607518,
           1,
           0.6116901603283518,
           0.10841879747010313,
           0.11073382055544993,
           0.10884848161313958,
           0.028178703916854928,
           0.2193197578708336
          ],
          [
           -0.04974237447851221,
           0.03071461543370003,
           0.03353763254054135,
           0.038933384644469056,
           0.04077658244072383,
           0.04077658244072383,
           0.14439460941186996,
           0.12261599396513702,
           0.07615639140794014,
           -0.06225724714339746,
           -0.141588129664116,
           0.025788104692119194,
           0.3454265599917395,
           -0.05965378345217926,
           -0.1179341822841525,
           -0.019903867721903827,
           -0.06181637752443521,
           0.6116901603283518,
           1,
           0.12170966720636886,
           -0.030402324017714224,
           0.042127889388759665,
           -0.07127309351596314,
           0.0531056030589395
          ],
          [
           0.020026074653577905,
           0.10580286939309765,
           0.10543219144543219,
           0.10669071194918808,
           0.10646589190119675,
           0.10646589190119675,
           -0.19903637656339454,
           -0.010767654852265204,
           0.0035701563369330866,
           0.045604813563104266,
           -0.041762488998724714,
           0.10561908477671868,
           -0.0064607014902651385,
           0.09715458189870828,
           0.08157169858992906,
           0.10146828680621398,
           0.09487278782564894,
           0.10841879747010313,
           0.12170966720636886,
           1,
           0.20108027678687065,
           0.10035248073232175,
           0.15328689938492446,
           0.07761326337637664
          ],
          [
           0.3715413619483867,
           0.646542664081491,
           0.6447622837305116,
           0.6477674069872377,
           0.6459410893229005,
           0.6459410893229005,
           -0.36746117962169367,
           -0.03771344870902386,
           -0.05115429093644434,
           0.07268835576861454,
           -0.2793045718934599,
           0.6471796031060847,
           -0.0477944210897361,
           0.6440259667065362,
           0.6357041851803491,
           0.6468454356537865,
           0.6444201229153081,
           0.11073382055544993,
           -0.030402324017714224,
           0.20108027678687065,
           1,
           0.7721877498544699,
           0.7140589819976607,
           0.4691138269915617
          ],
          [
           0.6975793384548834,
           0.849055219919395,
           0.8489523065883421,
           0.8496380747749642,
           0.8488220646474076,
           0.8488220646474076,
           -0.23615101513454706,
           -0.04331914829620612,
           -0.019901480914398313,
           0.05820178032780882,
           -0.22686252938274556,
           0.849105006637709,
           -0.009096909532383003,
           0.8452991220408514,
           0.8414416533401781,
           0.8487707846761091,
           0.8480766831284767,
           0.10884848161313958,
           0.042127889388759665,
           0.10035248073232175,
           0.7721877498544699,
           1,
           0.7956546890685591,
           0.7295672622859435
          ],
          [
           0.5857131163606212,
           0.7922842543320325,
           0.7918472295507821,
           0.791927206583823,
           0.7909095668007868,
           0.7909095668007868,
           -0.37822352718099145,
           -0.050430910734458045,
           -0.054775243496180036,
           0.0673588688267419,
           0.05252213886806575,
           0.793171285499703,
           -0.05177930921957395,
           0.7985949828427789,
           0.8040020548157638,
           0.797837547547302,
           0.802245825949693,
           0.028178703916854928,
           -0.07127309351596314,
           0.15328689938492446,
           0.7140589819976607,
           0.7956546890685591,
           1,
           0.6230755987390398
          ],
          [
           0.9322637295819605,
           0.804212718901659,
           0.8041925895251019,
           0.804946934569735,
           0.8049080275226729,
           0.8049080275226729,
           -0.0130240352242881,
           -0.010255007906170802,
           0.002146014257956921,
           0.042678741923188566,
           0.2414625553853141,
           0.8040018814633225,
           0.009399877365412248,
           0.7903583366395999,
           0.7686209559585233,
           0.7985303343148941,
           0.7898966416058115,
           0.2193197578708336,
           0.0531056030589395,
           0.07761326337637664,
           0.4691138269915617,
           0.7295672622859435,
           0.6230755987390398,
           1
          ]
         ]
        }
       ],
       "layout": {
        "coloraxis": {
         "colorscale": [
          [
           0,
           "#0d0887"
          ],
          [
           0.1111111111111111,
           "#46039f"
          ],
          [
           0.2222222222222222,
           "#7201a8"
          ],
          [
           0.3333333333333333,
           "#9c179e"
          ],
          [
           0.4444444444444444,
           "#bd3786"
          ],
          [
           0.5555555555555556,
           "#d8576b"
          ],
          [
           0.6666666666666666,
           "#ed7953"
          ],
          [
           0.7777777777777778,
           "#fb9f3a"
          ],
          [
           0.8888888888888888,
           "#fdca26"
          ],
          [
           1,
           "#f0f921"
          ]
         ]
        },
        "margin": {
         "t": 60
        },
        "template": {
         "data": {
          "bar": [
           {
            "error_x": {
             "color": "#2a3f5f"
            },
            "error_y": {
             "color": "#2a3f5f"
            },
            "marker": {
             "line": {
              "color": "#E5ECF6",
              "width": 0.5
             },
             "pattern": {
              "fillmode": "overlay",
              "size": 10,
              "solidity": 0.2
             }
            },
            "type": "bar"
           }
          ],
          "barpolar": [
           {
            "marker": {
             "line": {
              "color": "#E5ECF6",
              "width": 0.5
             },
             "pattern": {
              "fillmode": "overlay",
              "size": 10,
              "solidity": 0.2
             }
            },
            "type": "barpolar"
           }
          ],
          "carpet": [
           {
            "aaxis": {
             "endlinecolor": "#2a3f5f",
             "gridcolor": "white",
             "linecolor": "white",
             "minorgridcolor": "white",
             "startlinecolor": "#2a3f5f"
            },
            "baxis": {
             "endlinecolor": "#2a3f5f",
             "gridcolor": "white",
             "linecolor": "white",
             "minorgridcolor": "white",
             "startlinecolor": "#2a3f5f"
            },
            "type": "carpet"
           }
          ],
          "choropleth": [
           {
            "colorbar": {
             "outlinewidth": 0,
             "ticks": ""
            },
            "type": "choropleth"
           }
          ],
          "contour": [
           {
            "colorbar": {
             "outlinewidth": 0,
             "ticks": ""
            },
            "colorscale": [
             [
              0,
              "#0d0887"
             ],
             [
              0.1111111111111111,
              "#46039f"
             ],
             [
              0.2222222222222222,
              "#7201a8"
             ],
             [
              0.3333333333333333,
              "#9c179e"
             ],
             [
              0.4444444444444444,
              "#bd3786"
             ],
             [
              0.5555555555555556,
              "#d8576b"
             ],
             [
              0.6666666666666666,
              "#ed7953"
             ],
             [
              0.7777777777777778,
              "#fb9f3a"
             ],
             [
              0.8888888888888888,
              "#fdca26"
             ],
             [
              1,
              "#f0f921"
             ]
            ],
            "type": "contour"
           }
          ],
          "contourcarpet": [
           {
            "colorbar": {
             "outlinewidth": 0,
             "ticks": ""
            },
            "type": "contourcarpet"
           }
          ],
          "heatmap": [
           {
            "colorbar": {
             "outlinewidth": 0,
             "ticks": ""
            },
            "colorscale": [
             [
              0,
              "#0d0887"
             ],
             [
              0.1111111111111111,
              "#46039f"
             ],
             [
              0.2222222222222222,
              "#7201a8"
             ],
             [
              0.3333333333333333,
              "#9c179e"
             ],
             [
              0.4444444444444444,
              "#bd3786"
             ],
             [
              0.5555555555555556,
              "#d8576b"
             ],
             [
              0.6666666666666666,
              "#ed7953"
             ],
             [
              0.7777777777777778,
              "#fb9f3a"
             ],
             [
              0.8888888888888888,
              "#fdca26"
             ],
             [
              1,
              "#f0f921"
             ]
            ],
            "type": "heatmap"
           }
          ],
          "heatmapgl": [
           {
            "colorbar": {
             "outlinewidth": 0,
             "ticks": ""
            },
            "colorscale": [
             [
              0,
              "#0d0887"
             ],
             [
              0.1111111111111111,
              "#46039f"
             ],
             [
              0.2222222222222222,
              "#7201a8"
             ],
             [
              0.3333333333333333,
              "#9c179e"
             ],
             [
              0.4444444444444444,
              "#bd3786"
             ],
             [
              0.5555555555555556,
              "#d8576b"
             ],
             [
              0.6666666666666666,
              "#ed7953"
             ],
             [
              0.7777777777777778,
              "#fb9f3a"
             ],
             [
              0.8888888888888888,
              "#fdca26"
             ],
             [
              1,
              "#f0f921"
             ]
            ],
            "type": "heatmapgl"
           }
          ],
          "histogram": [
           {
            "marker": {
             "pattern": {
              "fillmode": "overlay",
              "size": 10,
              "solidity": 0.2
             }
            },
            "type": "histogram"
           }
          ],
          "histogram2d": [
           {
            "colorbar": {
             "outlinewidth": 0,
             "ticks": ""
            },
            "colorscale": [
             [
              0,
              "#0d0887"
             ],
             [
              0.1111111111111111,
              "#46039f"
             ],
             [
              0.2222222222222222,
              "#7201a8"
             ],
             [
              0.3333333333333333,
              "#9c179e"
             ],
             [
              0.4444444444444444,
              "#bd3786"
             ],
             [
              0.5555555555555556,
              "#d8576b"
             ],
             [
              0.6666666666666666,
              "#ed7953"
             ],
             [
              0.7777777777777778,
              "#fb9f3a"
             ],
             [
              0.8888888888888888,
              "#fdca26"
             ],
             [
              1,
              "#f0f921"
             ]
            ],
            "type": "histogram2d"
           }
          ],
          "histogram2dcontour": [
           {
            "colorbar": {
             "outlinewidth": 0,
             "ticks": ""
            },
            "colorscale": [
             [
              0,
              "#0d0887"
             ],
             [
              0.1111111111111111,
              "#46039f"
             ],
             [
              0.2222222222222222,
              "#7201a8"
             ],
             [
              0.3333333333333333,
              "#9c179e"
             ],
             [
              0.4444444444444444,
              "#bd3786"
             ],
             [
              0.5555555555555556,
              "#d8576b"
             ],
             [
              0.6666666666666666,
              "#ed7953"
             ],
             [
              0.7777777777777778,
              "#fb9f3a"
             ],
             [
              0.8888888888888888,
              "#fdca26"
             ],
             [
              1,
              "#f0f921"
             ]
            ],
            "type": "histogram2dcontour"
           }
          ],
          "mesh3d": [
           {
            "colorbar": {
             "outlinewidth": 0,
             "ticks": ""
            },
            "type": "mesh3d"
           }
          ],
          "parcoords": [
           {
            "line": {
             "colorbar": {
              "outlinewidth": 0,
              "ticks": ""
             }
            },
            "type": "parcoords"
           }
          ],
          "pie": [
           {
            "automargin": true,
            "type": "pie"
           }
          ],
          "scatter": [
           {
            "fillpattern": {
             "fillmode": "overlay",
             "size": 10,
             "solidity": 0.2
            },
            "type": "scatter"
           }
          ],
          "scatter3d": [
           {
            "line": {
             "colorbar": {
              "outlinewidth": 0,
              "ticks": ""
             }
            },
            "marker": {
             "colorbar": {
              "outlinewidth": 0,
              "ticks": ""
             }
            },
            "type": "scatter3d"
           }
          ],
          "scattercarpet": [
           {
            "marker": {
             "colorbar": {
              "outlinewidth": 0,
              "ticks": ""
             }
            },
            "type": "scattercarpet"
           }
          ],
          "scattergeo": [
           {
            "marker": {
             "colorbar": {
              "outlinewidth": 0,
              "ticks": ""
             }
            },
            "type": "scattergeo"
           }
          ],
          "scattergl": [
           {
            "marker": {
             "colorbar": {
              "outlinewidth": 0,
              "ticks": ""
             }
            },
            "type": "scattergl"
           }
          ],
          "scattermapbox": [
           {
            "marker": {
             "colorbar": {
              "outlinewidth": 0,
              "ticks": ""
             }
            },
            "type": "scattermapbox"
           }
          ],
          "scatterpolar": [
           {
            "marker": {
             "colorbar": {
              "outlinewidth": 0,
              "ticks": ""
             }
            },
            "type": "scatterpolar"
           }
          ],
          "scatterpolargl": [
           {
            "marker": {
             "colorbar": {
              "outlinewidth": 0,
              "ticks": ""
             }
            },
            "type": "scatterpolargl"
           }
          ],
          "scatterternary": [
           {
            "marker": {
             "colorbar": {
              "outlinewidth": 0,
              "ticks": ""
             }
            },
            "type": "scatterternary"
           }
          ],
          "surface": [
           {
            "colorbar": {
             "outlinewidth": 0,
             "ticks": ""
            },
            "colorscale": [
             [
              0,
              "#0d0887"
             ],
             [
              0.1111111111111111,
              "#46039f"
             ],
             [
              0.2222222222222222,
              "#7201a8"
             ],
             [
              0.3333333333333333,
              "#9c179e"
             ],
             [
              0.4444444444444444,
              "#bd3786"
             ],
             [
              0.5555555555555556,
              "#d8576b"
             ],
             [
              0.6666666666666666,
              "#ed7953"
             ],
             [
              0.7777777777777778,
              "#fb9f3a"
             ],
             [
              0.8888888888888888,
              "#fdca26"
             ],
             [
              1,
              "#f0f921"
             ]
            ],
            "type": "surface"
           }
          ],
          "table": [
           {
            "cells": {
             "fill": {
              "color": "#EBF0F8"
             },
             "line": {
              "color": "white"
             }
            },
            "header": {
             "fill": {
              "color": "#C8D4E3"
             },
             "line": {
              "color": "white"
             }
            },
            "type": "table"
           }
          ]
         },
         "layout": {
          "annotationdefaults": {
           "arrowcolor": "#2a3f5f",
           "arrowhead": 0,
           "arrowwidth": 1
          },
          "autotypenumbers": "strict",
          "coloraxis": {
           "colorbar": {
            "outlinewidth": 0,
            "ticks": ""
           }
          },
          "colorscale": {
           "diverging": [
            [
             0,
             "#8e0152"
            ],
            [
             0.1,
             "#c51b7d"
            ],
            [
             0.2,
             "#de77ae"
            ],
            [
             0.3,
             "#f1b6da"
            ],
            [
             0.4,
             "#fde0ef"
            ],
            [
             0.5,
             "#f7f7f7"
            ],
            [
             0.6,
             "#e6f5d0"
            ],
            [
             0.7,
             "#b8e186"
            ],
            [
             0.8,
             "#7fbc41"
            ],
            [
             0.9,
             "#4d9221"
            ],
            [
             1,
             "#276419"
            ]
           ],
           "sequential": [
            [
             0,
             "#0d0887"
            ],
            [
             0.1111111111111111,
             "#46039f"
            ],
            [
             0.2222222222222222,
             "#7201a8"
            ],
            [
             0.3333333333333333,
             "#9c179e"
            ],
            [
             0.4444444444444444,
             "#bd3786"
            ],
            [
             0.5555555555555556,
             "#d8576b"
            ],
            [
             0.6666666666666666,
             "#ed7953"
            ],
            [
             0.7777777777777778,
             "#fb9f3a"
            ],
            [
             0.8888888888888888,
             "#fdca26"
            ],
            [
             1,
             "#f0f921"
            ]
           ],
           "sequentialminus": [
            [
             0,
             "#0d0887"
            ],
            [
             0.1111111111111111,
             "#46039f"
            ],
            [
             0.2222222222222222,
             "#7201a8"
            ],
            [
             0.3333333333333333,
             "#9c179e"
            ],
            [
             0.4444444444444444,
             "#bd3786"
            ],
            [
             0.5555555555555556,
             "#d8576b"
            ],
            [
             0.6666666666666666,
             "#ed7953"
            ],
            [
             0.7777777777777778,
             "#fb9f3a"
            ],
            [
             0.8888888888888888,
             "#fdca26"
            ],
            [
             1,
             "#f0f921"
            ]
           ]
          },
          "colorway": [
           "#636efa",
           "#EF553B",
           "#00cc96",
           "#ab63fa",
           "#FFA15A",
           "#19d3f3",
           "#FF6692",
           "#B6E880",
           "#FF97FF",
           "#FECB52"
          ],
          "font": {
           "color": "#2a3f5f"
          },
          "geo": {
           "bgcolor": "white",
           "lakecolor": "white",
           "landcolor": "#E5ECF6",
           "showlakes": true,
           "showland": true,
           "subunitcolor": "white"
          },
          "hoverlabel": {
           "align": "left"
          },
          "hovermode": "closest",
          "mapbox": {
           "style": "light"
          },
          "paper_bgcolor": "white",
          "plot_bgcolor": "#E5ECF6",
          "polar": {
           "angularaxis": {
            "gridcolor": "white",
            "linecolor": "white",
            "ticks": ""
           },
           "bgcolor": "#E5ECF6",
           "radialaxis": {
            "gridcolor": "white",
            "linecolor": "white",
            "ticks": ""
           }
          },
          "scene": {
           "xaxis": {
            "backgroundcolor": "#E5ECF6",
            "gridcolor": "white",
            "gridwidth": 2,
            "linecolor": "white",
            "showbackground": true,
            "ticks": "",
            "zerolinecolor": "white"
           },
           "yaxis": {
            "backgroundcolor": "#E5ECF6",
            "gridcolor": "white",
            "gridwidth": 2,
            "linecolor": "white",
            "showbackground": true,
            "ticks": "",
            "zerolinecolor": "white"
           },
           "zaxis": {
            "backgroundcolor": "#E5ECF6",
            "gridcolor": "white",
            "gridwidth": 2,
            "linecolor": "white",
            "showbackground": true,
            "ticks": "",
            "zerolinecolor": "white"
           }
          },
          "shapedefaults": {
           "line": {
            "color": "#2a3f5f"
           }
          },
          "ternary": {
           "aaxis": {
            "gridcolor": "white",
            "linecolor": "white",
            "ticks": ""
           },
           "baxis": {
            "gridcolor": "white",
            "linecolor": "white",
            "ticks": ""
           },
           "bgcolor": "#E5ECF6",
           "caxis": {
            "gridcolor": "white",
            "linecolor": "white",
            "ticks": ""
           }
          },
          "title": {
           "x": 0.05
          },
          "xaxis": {
           "automargin": true,
           "gridcolor": "white",
           "linecolor": "white",
           "ticks": "",
           "title": {
            "standoff": 15
           },
           "zerolinecolor": "white",
           "zerolinewidth": 2
          },
          "yaxis": {
           "automargin": true,
           "gridcolor": "white",
           "linecolor": "white",
           "ticks": "",
           "title": {
            "standoff": 15
           },
           "zerolinecolor": "white",
           "zerolinewidth": 2
          }
         }
        },
        "xaxis": {
         "anchor": "y",
         "constrain": "domain",
         "domain": [
          0,
          1
         ],
         "scaleanchor": "y"
        },
        "yaxis": {
         "anchor": "x",
         "autorange": "reversed",
         "constrain": "domain",
         "domain": [
          0,
          1
         ]
        }
       }
      }
     },
     "metadata": {},
     "output_type": "display_data"
    }
   ],
   "source": [
    "x = df.iloc[1:, 1:]\n",
    "y = df.iloc[:, -2]\n",
    "corrmat = df.corr()\n",
    "top_corr_features = corrmat.index\n",
    "\n",
    "import plotly.express as px\n",
    "z= df[top_corr_features].corr()\n",
    "fig = px.imshow(z, text_auto=True)\n",
    "fig.show()"
   ]
  },
  {
   "cell_type": "code",
   "execution_count": 122,
   "metadata": {
    "id": "XgQwv9xVJEND"
   },
   "outputs": [
    {
     "name": "stdout",
     "output_type": "stream",
     "text": [
      "                            OLS Regression Results                            \n",
      "==============================================================================\n",
      "Dep. Variable:                      y   R-squared:                       0.293\n",
      "Model:                            OLS   Adj. R-squared:                  0.291\n",
      "Method:                 Least Squares   F-statistic:                     170.7\n",
      "Date:                Sun, 08 Oct 2023   Prob (F-statistic):          2.04e-122\n",
      "Time:                        13:35:12   Log-Likelihood:                 3297.0\n",
      "No. Observations:                1653   AIC:                            -6584.\n",
      "Df Residuals:                    1648   BIC:                            -6557.\n",
      "Df Model:                           4                                         \n",
      "Covariance Type:            nonrobust                                         \n",
      "==============================================================================\n",
      "                 coef    std err          t      P>|t|      [0.025      0.975]\n",
      "------------------------------------------------------------------------------\n",
      "const         -0.0038      0.001     -4.699      0.000      -0.005      -0.002\n",
      "Mkt-RF         1.4078      0.065     21.504      0.000       1.279       1.536\n",
      "SMB            0.6767      0.124      5.471      0.000       0.434       0.919\n",
      "HML           -0.7367      0.080     -9.219      0.000      -0.893      -0.580\n",
      "ADS_Index      0.0142      0.023      0.612      0.541      -0.031       0.060\n",
      "==============================================================================\n",
      "Omnibus:                      196.713   Durbin-Watson:                   1.935\n",
      "Prob(Omnibus):                  0.000   Jarque-Bera (JB):             1503.589\n",
      "Skew:                           0.262   Prob(JB):                         0.00\n",
      "Kurtosis:                       7.643   Cond. No.                         154.\n",
      "==============================================================================\n",
      "\n",
      "Notes:\n",
      "[1] Standard Errors assume that the covariance matrix of the errors is correctly specified.\n"
     ]
    }
   ],
   "source": [
    "X = df[['Mkt-RF', 'SMB', 'HML', 'ADS_Index']]/100\n",
    "y = df['stock_return'] - df['RF']\n",
    "X = sm.add_constant(X)\n",
    "\n",
    "ff_model = sm.OLS(y, X).fit()\n",
    "print(ff_model.summary())"
   ]
  },
  {
   "cell_type": "code",
   "execution_count": 123,
   "metadata": {},
   "outputs": [
    {
     "data": {
      "text/html": [
       "<div>\n",
       "<style scoped>\n",
       "    .dataframe tbody tr th:only-of-type {\n",
       "        vertical-align: middle;\n",
       "    }\n",
       "\n",
       "    .dataframe tbody tr th {\n",
       "        vertical-align: top;\n",
       "    }\n",
       "\n",
       "    .dataframe thead th {\n",
       "        text-align: right;\n",
       "    }\n",
       "</style>\n",
       "<table border=\"1\" class=\"dataframe\">\n",
       "  <thead>\n",
       "    <tr style=\"text-align: right;\">\n",
       "      <th></th>\n",
       "      <th>const</th>\n",
       "      <th>Mkt-RF</th>\n",
       "      <th>SMB</th>\n",
       "      <th>HML</th>\n",
       "      <th>ADS_Index</th>\n",
       "    </tr>\n",
       "  </thead>\n",
       "  <tbody>\n",
       "    <tr>\n",
       "      <th>0</th>\n",
       "      <td>1.0</td>\n",
       "      <td>0.0079</td>\n",
       "      <td>0.0095</td>\n",
       "      <td>-0.0016</td>\n",
       "      <td>0.001748</td>\n",
       "    </tr>\n",
       "    <tr>\n",
       "      <th>1</th>\n",
       "      <td>1.0</td>\n",
       "      <td>-0.0021</td>\n",
       "      <td>-0.0089</td>\n",
       "      <td>-0.0079</td>\n",
       "      <td>0.001542</td>\n",
       "    </tr>\n",
       "    <tr>\n",
       "      <th>2</th>\n",
       "      <td>1.0</td>\n",
       "      <td>0.0029</td>\n",
       "      <td>-0.0066</td>\n",
       "      <td>-0.0031</td>\n",
       "      <td>0.001341</td>\n",
       "    </tr>\n",
       "    <tr>\n",
       "      <th>3</th>\n",
       "      <td>1.0</td>\n",
       "      <td>-0.0037</td>\n",
       "      <td>-0.0030</td>\n",
       "      <td>-0.0103</td>\n",
       "      <td>0.000762</td>\n",
       "    </tr>\n",
       "    <tr>\n",
       "      <th>4</th>\n",
       "      <td>1.0</td>\n",
       "      <td>0.0016</td>\n",
       "      <td>0.0089</td>\n",
       "      <td>0.0043</td>\n",
       "      <td>0.000572</td>\n",
       "    </tr>\n",
       "    <tr>\n",
       "      <th>...</th>\n",
       "      <td>...</td>\n",
       "      <td>...</td>\n",
       "      <td>...</td>\n",
       "      <td>...</td>\n",
       "      <td>...</td>\n",
       "    </tr>\n",
       "    <tr>\n",
       "      <th>1648</th>\n",
       "      <td>1.0</td>\n",
       "      <td>0.0025</td>\n",
       "      <td>-0.0004</td>\n",
       "      <td>-0.0079</td>\n",
       "      <td>0.003108</td>\n",
       "    </tr>\n",
       "    <tr>\n",
       "      <th>1649</th>\n",
       "      <td>1.0</td>\n",
       "      <td>0.0002</td>\n",
       "      <td>0.0068</td>\n",
       "      <td>0.0103</td>\n",
       "      <td>0.003071</td>\n",
       "    </tr>\n",
       "    <tr>\n",
       "      <th>1650</th>\n",
       "      <td>1.0</td>\n",
       "      <td>-0.0074</td>\n",
       "      <td>-0.0090</td>\n",
       "      <td>0.0027</td>\n",
       "      <td>0.003025</td>\n",
       "    </tr>\n",
       "    <tr>\n",
       "      <th>1651</th>\n",
       "      <td>1.0</td>\n",
       "      <td>0.0114</td>\n",
       "      <td>0.0053</td>\n",
       "      <td>-0.0033</td>\n",
       "      <td>0.002970</td>\n",
       "    </tr>\n",
       "    <tr>\n",
       "      <th>1652</th>\n",
       "      <td>1.0</td>\n",
       "      <td>0.0026</td>\n",
       "      <td>0.0106</td>\n",
       "      <td>-0.0010</td>\n",
       "      <td>0.002756</td>\n",
       "    </tr>\n",
       "  </tbody>\n",
       "</table>\n",
       "<p>1653 rows × 5 columns</p>\n",
       "</div>"
      ],
      "text/plain": [
       "      const  Mkt-RF     SMB     HML  ADS_Index\n",
       "0       1.0  0.0079  0.0095 -0.0016   0.001748\n",
       "1       1.0 -0.0021 -0.0089 -0.0079   0.001542\n",
       "2       1.0  0.0029 -0.0066 -0.0031   0.001341\n",
       "3       1.0 -0.0037 -0.0030 -0.0103   0.000762\n",
       "4       1.0  0.0016  0.0089  0.0043   0.000572\n",
       "...     ...     ...     ...     ...        ...\n",
       "1648    1.0  0.0025 -0.0004 -0.0079   0.003108\n",
       "1649    1.0  0.0002  0.0068  0.0103   0.003071\n",
       "1650    1.0 -0.0074 -0.0090  0.0027   0.003025\n",
       "1651    1.0  0.0114  0.0053 -0.0033   0.002970\n",
       "1652    1.0  0.0026  0.0106 -0.0010   0.002756\n",
       "\n",
       "[1653 rows x 5 columns]"
      ]
     },
     "execution_count": 123,
     "metadata": {},
     "output_type": "execute_result"
    }
   ],
   "source": [
    "X"
   ]
  },
  {
   "cell_type": "code",
   "execution_count": 124,
   "metadata": {},
   "outputs": [
    {
     "data": {
      "text/plain": [
       "0       0.044085\n",
       "1      -0.003057\n",
       "2       0.007967\n",
       "3       0.007912\n",
       "4      -0.008096\n",
       "          ...   \n",
       "1648   -0.036049\n",
       "1649   -0.025506\n",
       "1650   -0.054684\n",
       "1651    0.019962\n",
       "1652   -0.018284\n",
       "Length: 1653, dtype: float64"
      ]
     },
     "execution_count": 124,
     "metadata": {},
     "output_type": "execute_result"
    }
   ],
   "source": [
    "y"
   ]
  },
  {
   "cell_type": "code",
   "execution_count": 125,
   "metadata": {},
   "outputs": [
    {
     "data": {
      "text/plain": [
       "const       -0.003824\n",
       "Mkt-RF       1.407786\n",
       "SMB          0.676675\n",
       "HML         -0.736692\n",
       "ADS_Index    0.014202\n",
       "dtype: float64"
      ]
     },
     "execution_count": 125,
     "metadata": {},
     "output_type": "execute_result"
    }
   ],
   "source": [
    "ff_model.params"
   ]
  }
 ],
 "metadata": {
  "colab": {
   "provenance": []
  },
  "kernelspec": {
   "display_name": "Python 3 (ipykernel)",
   "language": "python",
   "name": "python3"
  },
  "language_info": {
   "codemirror_mode": {
    "name": "ipython",
    "version": 3
   },
   "file_extension": ".py",
   "mimetype": "text/x-python",
   "name": "python",
   "nbconvert_exporter": "python",
   "pygments_lexer": "ipython3",
   "version": "3.8.0"
  }
 },
 "nbformat": 4,
 "nbformat_minor": 1
}
