{
 "cells": [
  {
   "cell_type": "markdown",
   "metadata": {},
   "source": [
    "# **Stock ElasticNet Model**"
   ]
  },
  {
   "cell_type": "code",
   "execution_count": 1,
   "metadata": {
    "id": "0QmpxOpkXpQL"
   },
   "outputs": [],
   "source": [
    "import warnings\n",
    "warnings.filterwarnings(\"ignore\")\n",
    "\n",
    "import math\n",
    "import numpy as np\n",
    "import pandas as pd\n",
    "import seaborn as sns\n",
    "import yfinance as yf\n",
    "import scipy.stats as ss\n",
    "import statsmodels as smt\n",
    "import statsmodels.api as sm\n",
    "from datetime import datetime\n",
    "import matplotlib.pyplot as plt\n",
    "from scipy.optimize import minimize\n",
    "from sklearn.metrics import mean_absolute_error\n",
    "from sklearn.model_selection import GridSearchCV\n",
    "from prompt_toolkit.filters.cli import emacs_insert_mode\n",
    "from sklearn import linear_model, model_selection, metrics"
   ]
  },
  {
   "cell_type": "code",
   "execution_count": 2,
   "metadata": {
    "id": "8dujIhRRX9xw"
   },
   "outputs": [],
   "source": [
    "stock = pd.read_csv('stockffads.csv')\n",
    "stock.drop(columns='Close', inplace=True)"
   ]
  },
  {
   "cell_type": "code",
   "execution_count": 3,
   "metadata": {
    "colab": {
     "base_uri": "https://localhost:8080/"
    },
    "id": "JV4Ps2XzYCw0",
    "outputId": "73b32622-4ae6-4220-a819-e50c8df45bb2"
   },
   "outputs": [
    {
     "data": {
      "text/html": [
       "<div>\n",
       "<style scoped>\n",
       "    .dataframe tbody tr th:only-of-type {\n",
       "        vertical-align: middle;\n",
       "    }\n",
       "\n",
       "    .dataframe tbody tr th {\n",
       "        vertical-align: top;\n",
       "    }\n",
       "\n",
       "    .dataframe thead th {\n",
       "        text-align: right;\n",
       "    }\n",
       "</style>\n",
       "<table border=\"1\" class=\"dataframe\">\n",
       "  <thead>\n",
       "    <tr style=\"text-align: right;\">\n",
       "      <th></th>\n",
       "      <th>Date</th>\n",
       "      <th>Open</th>\n",
       "      <th>High</th>\n",
       "      <th>Low</th>\n",
       "      <th>Adj Close</th>\n",
       "      <th>Volume</th>\n",
       "      <th>Mkt-RF</th>\n",
       "      <th>SMB</th>\n",
       "      <th>HML</th>\n",
       "      <th>RF</th>\n",
       "      <th>...</th>\n",
       "      <th>SMA_50</th>\n",
       "      <th>EMA_12</th>\n",
       "      <th>EMA_26</th>\n",
       "      <th>MACD</th>\n",
       "      <th>RSI</th>\n",
       "      <th>ADS_Index</th>\n",
       "      <th>GM Yest_Close</th>\n",
       "      <th>TM Yest_Close</th>\n",
       "      <th>F Yest_Close</th>\n",
       "      <th>RACE Yest_Close</th>\n",
       "    </tr>\n",
       "  </thead>\n",
       "  <tbody>\n",
       "    <tr>\n",
       "      <th>0</th>\n",
       "      <td>2017-01-04</td>\n",
       "      <td>14.316667</td>\n",
       "      <td>15.200000</td>\n",
       "      <td>14.287333</td>\n",
       "      <td>15.132667</td>\n",
       "      <td>168202500</td>\n",
       "      <td>0.79</td>\n",
       "      <td>0.95</td>\n",
       "      <td>-0.16</td>\n",
       "      <td>0.002</td>\n",
       "      <td>...</td>\n",
       "      <td>15.132667</td>\n",
       "      <td>15.132667</td>\n",
       "      <td>15.132667</td>\n",
       "      <td>0.000000</td>\n",
       "      <td>100.000000</td>\n",
       "      <td>0.174783</td>\n",
       "      <td>30.369259</td>\n",
       "      <td>118.550003</td>\n",
       "      <td>9.082818</td>\n",
       "      <td>55.978443</td>\n",
       "    </tr>\n",
       "    <tr>\n",
       "      <th>1</th>\n",
       "      <td>2017-01-05</td>\n",
       "      <td>15.094667</td>\n",
       "      <td>15.165333</td>\n",
       "      <td>14.796667</td>\n",
       "      <td>15.116667</td>\n",
       "      <td>88675500</td>\n",
       "      <td>-0.21</td>\n",
       "      <td>-0.89</td>\n",
       "      <td>-0.79</td>\n",
       "      <td>0.002</td>\n",
       "      <td>...</td>\n",
       "      <td>15.124667</td>\n",
       "      <td>15.130205</td>\n",
       "      <td>15.131481</td>\n",
       "      <td>-0.001276</td>\n",
       "      <td>0.000000</td>\n",
       "      <td>0.154241</td>\n",
       "      <td>32.045399</td>\n",
       "      <td>121.190002</td>\n",
       "      <td>9.501246</td>\n",
       "      <td>56.424824</td>\n",
       "    </tr>\n",
       "    <tr>\n",
       "      <th>2</th>\n",
       "      <td>2017-01-06</td>\n",
       "      <td>15.128667</td>\n",
       "      <td>15.354000</td>\n",
       "      <td>15.030000</td>\n",
       "      <td>15.267333</td>\n",
       "      <td>82918500</td>\n",
       "      <td>0.29</td>\n",
       "      <td>-0.66</td>\n",
       "      <td>-0.31</td>\n",
       "      <td>0.002</td>\n",
       "      <td>...</td>\n",
       "      <td>15.172222</td>\n",
       "      <td>15.151302</td>\n",
       "      <td>15.141545</td>\n",
       "      <td>0.009757</td>\n",
       "      <td>91.024248</td>\n",
       "      <td>0.134146</td>\n",
       "      <td>31.440609</td>\n",
       "      <td>120.440002</td>\n",
       "      <td>9.212674</td>\n",
       "      <td>56.377335</td>\n",
       "    </tr>\n",
       "    <tr>\n",
       "      <th>3</th>\n",
       "      <td>2017-01-09</td>\n",
       "      <td>15.264667</td>\n",
       "      <td>15.461333</td>\n",
       "      <td>15.200000</td>\n",
       "      <td>15.418667</td>\n",
       "      <td>59692500</td>\n",
       "      <td>-0.37</td>\n",
       "      <td>-0.30</td>\n",
       "      <td>-1.03</td>\n",
       "      <td>0.002</td>\n",
       "      <td>...</td>\n",
       "      <td>15.233833</td>\n",
       "      <td>15.192435</td>\n",
       "      <td>15.162072</td>\n",
       "      <td>0.030363</td>\n",
       "      <td>95.477309</td>\n",
       "      <td>0.076169</td>\n",
       "      <td>31.095015</td>\n",
       "      <td>120.129997</td>\n",
       "      <td>9.205460</td>\n",
       "      <td>55.978443</td>\n",
       "    </tr>\n",
       "    <tr>\n",
       "      <th>4</th>\n",
       "      <td>2017-01-10</td>\n",
       "      <td>15.466667</td>\n",
       "      <td>15.466667</td>\n",
       "      <td>15.126000</td>\n",
       "      <td>15.324667</td>\n",
       "      <td>54900000</td>\n",
       "      <td>0.16</td>\n",
       "      <td>0.89</td>\n",
       "      <td>0.43</td>\n",
       "      <td>0.002</td>\n",
       "      <td>...</td>\n",
       "      <td>15.252000</td>\n",
       "      <td>15.212778</td>\n",
       "      <td>15.174116</td>\n",
       "      <td>0.038662</td>\n",
       "      <td>71.686831</td>\n",
       "      <td>0.057208</td>\n",
       "      <td>31.112295</td>\n",
       "      <td>119.739998</td>\n",
       "      <td>9.111673</td>\n",
       "      <td>55.351604</td>\n",
       "    </tr>\n",
       "    <tr>\n",
       "      <th>...</th>\n",
       "      <td>...</td>\n",
       "      <td>...</td>\n",
       "      <td>...</td>\n",
       "      <td>...</td>\n",
       "      <td>...</td>\n",
       "      <td>...</td>\n",
       "      <td>...</td>\n",
       "      <td>...</td>\n",
       "      <td>...</td>\n",
       "      <td>...</td>\n",
       "      <td>...</td>\n",
       "      <td>...</td>\n",
       "      <td>...</td>\n",
       "      <td>...</td>\n",
       "      <td>...</td>\n",
       "      <td>...</td>\n",
       "      <td>...</td>\n",
       "      <td>...</td>\n",
       "      <td>...</td>\n",
       "      <td>...</td>\n",
       "      <td>...</td>\n",
       "    </tr>\n",
       "    <tr>\n",
       "      <th>1648</th>\n",
       "      <td>2023-07-25</td>\n",
       "      <td>272.380005</td>\n",
       "      <td>272.899994</td>\n",
       "      <td>265.000000</td>\n",
       "      <td>265.279999</td>\n",
       "      <td>112757300</td>\n",
       "      <td>0.25</td>\n",
       "      <td>-0.04</td>\n",
       "      <td>-0.79</td>\n",
       "      <td>0.022</td>\n",
       "      <td>...</td>\n",
       "      <td>239.121800</td>\n",
       "      <td>272.029478</td>\n",
       "      <td>264.035489</td>\n",
       "      <td>7.993989</td>\n",
       "      <td>51.187379</td>\n",
       "      <td>0.310831</td>\n",
       "      <td>39.194069</td>\n",
       "      <td>164.529999</td>\n",
       "      <td>13.960000</td>\n",
       "      <td>317.160004</td>\n",
       "    </tr>\n",
       "    <tr>\n",
       "      <th>1649</th>\n",
       "      <td>2023-07-26</td>\n",
       "      <td>263.250000</td>\n",
       "      <td>268.040009</td>\n",
       "      <td>261.750000</td>\n",
       "      <td>264.350006</td>\n",
       "      <td>95856200</td>\n",
       "      <td>0.02</td>\n",
       "      <td>0.68</td>\n",
       "      <td>1.03</td>\n",
       "      <td>0.022</td>\n",
       "      <td>...</td>\n",
       "      <td>241.049200</td>\n",
       "      <td>270.848021</td>\n",
       "      <td>264.058787</td>\n",
       "      <td>6.789234</td>\n",
       "      <td>50.639496</td>\n",
       "      <td>0.307146</td>\n",
       "      <td>37.817787</td>\n",
       "      <td>165.559998</td>\n",
       "      <td>13.580000</td>\n",
       "      <td>316.109985</td>\n",
       "    </tr>\n",
       "    <tr>\n",
       "      <th>1650</th>\n",
       "      <td>2023-07-27</td>\n",
       "      <td>268.309998</td>\n",
       "      <td>269.130005</td>\n",
       "      <td>255.300003</td>\n",
       "      <td>255.710007</td>\n",
       "      <td>103697300</td>\n",
       "      <td>-0.74</td>\n",
       "      <td>-0.90</td>\n",
       "      <td>0.27</td>\n",
       "      <td>0.022</td>\n",
       "      <td>...</td>\n",
       "      <td>242.836400</td>\n",
       "      <td>268.519095</td>\n",
       "      <td>263.440359</td>\n",
       "      <td>5.078737</td>\n",
       "      <td>45.741140</td>\n",
       "      <td>0.302536</td>\n",
       "      <td>38.186794</td>\n",
       "      <td>165.699997</td>\n",
       "      <td>13.670000</td>\n",
       "      <td>317.350006</td>\n",
       "    </tr>\n",
       "    <tr>\n",
       "      <th>1651</th>\n",
       "      <td>2023-07-28</td>\n",
       "      <td>259.859985</td>\n",
       "      <td>267.250000</td>\n",
       "      <td>258.230011</td>\n",
       "      <td>266.440002</td>\n",
       "      <td>111446000</td>\n",
       "      <td>1.14</td>\n",
       "      <td>0.53</td>\n",
       "      <td>-0.33</td>\n",
       "      <td>0.022</td>\n",
       "      <td>...</td>\n",
       "      <td>244.834800</td>\n",
       "      <td>268.199235</td>\n",
       "      <td>263.662555</td>\n",
       "      <td>4.536680</td>\n",
       "      <td>51.956498</td>\n",
       "      <td>0.296997</td>\n",
       "      <td>38.864960</td>\n",
       "      <td>165.429993</td>\n",
       "      <td>13.730000</td>\n",
       "      <td>317.269989</td>\n",
       "    </tr>\n",
       "    <tr>\n",
       "      <th>1652</th>\n",
       "      <td>2023-07-31</td>\n",
       "      <td>267.480011</td>\n",
       "      <td>269.079987</td>\n",
       "      <td>263.779999</td>\n",
       "      <td>267.429993</td>\n",
       "      <td>84582200</td>\n",
       "      <td>0.26</td>\n",
       "      <td>1.06</td>\n",
       "      <td>-0.10</td>\n",
       "      <td>0.022</td>\n",
       "      <td>...</td>\n",
       "      <td>246.706200</td>\n",
       "      <td>268.080890</td>\n",
       "      <td>263.941624</td>\n",
       "      <td>4.139266</td>\n",
       "      <td>52.497167</td>\n",
       "      <td>0.275560</td>\n",
       "      <td>37.947437</td>\n",
       "      <td>167.149994</td>\n",
       "      <td>13.260000</td>\n",
       "      <td>321.820007</td>\n",
       "    </tr>\n",
       "  </tbody>\n",
       "</table>\n",
       "<p>1653 rows × 23 columns</p>\n",
       "</div>"
      ],
      "text/plain": [
       "            Date        Open        High         Low   Adj Close     Volume  \\\n",
       "0     2017-01-04   14.316667   15.200000   14.287333   15.132667  168202500   \n",
       "1     2017-01-05   15.094667   15.165333   14.796667   15.116667   88675500   \n",
       "2     2017-01-06   15.128667   15.354000   15.030000   15.267333   82918500   \n",
       "3     2017-01-09   15.264667   15.461333   15.200000   15.418667   59692500   \n",
       "4     2017-01-10   15.466667   15.466667   15.126000   15.324667   54900000   \n",
       "...          ...         ...         ...         ...         ...        ...   \n",
       "1648  2023-07-25  272.380005  272.899994  265.000000  265.279999  112757300   \n",
       "1649  2023-07-26  263.250000  268.040009  261.750000  264.350006   95856200   \n",
       "1650  2023-07-27  268.309998  269.130005  255.300003  255.710007  103697300   \n",
       "1651  2023-07-28  259.859985  267.250000  258.230011  266.440002  111446000   \n",
       "1652  2023-07-31  267.480011  269.079987  263.779999  267.429993   84582200   \n",
       "\n",
       "      Mkt-RF   SMB   HML     RF  ...      SMA_50      EMA_12      EMA_26  \\\n",
       "0       0.79  0.95 -0.16  0.002  ...   15.132667   15.132667   15.132667   \n",
       "1      -0.21 -0.89 -0.79  0.002  ...   15.124667   15.130205   15.131481   \n",
       "2       0.29 -0.66 -0.31  0.002  ...   15.172222   15.151302   15.141545   \n",
       "3      -0.37 -0.30 -1.03  0.002  ...   15.233833   15.192435   15.162072   \n",
       "4       0.16  0.89  0.43  0.002  ...   15.252000   15.212778   15.174116   \n",
       "...      ...   ...   ...    ...  ...         ...         ...         ...   \n",
       "1648    0.25 -0.04 -0.79  0.022  ...  239.121800  272.029478  264.035489   \n",
       "1649    0.02  0.68  1.03  0.022  ...  241.049200  270.848021  264.058787   \n",
       "1650   -0.74 -0.90  0.27  0.022  ...  242.836400  268.519095  263.440359   \n",
       "1651    1.14  0.53 -0.33  0.022  ...  244.834800  268.199235  263.662555   \n",
       "1652    0.26  1.06 -0.10  0.022  ...  246.706200  268.080890  263.941624   \n",
       "\n",
       "          MACD         RSI  ADS_Index  GM Yest_Close  TM Yest_Close  \\\n",
       "0     0.000000  100.000000   0.174783      30.369259     118.550003   \n",
       "1    -0.001276    0.000000   0.154241      32.045399     121.190002   \n",
       "2     0.009757   91.024248   0.134146      31.440609     120.440002   \n",
       "3     0.030363   95.477309   0.076169      31.095015     120.129997   \n",
       "4     0.038662   71.686831   0.057208      31.112295     119.739998   \n",
       "...        ...         ...        ...            ...            ...   \n",
       "1648  7.993989   51.187379   0.310831      39.194069     164.529999   \n",
       "1649  6.789234   50.639496   0.307146      37.817787     165.559998   \n",
       "1650  5.078737   45.741140   0.302536      38.186794     165.699997   \n",
       "1651  4.536680   51.956498   0.296997      38.864960     165.429993   \n",
       "1652  4.139266   52.497167   0.275560      37.947437     167.149994   \n",
       "\n",
       "      F Yest_Close  RACE Yest_Close  \n",
       "0         9.082818        55.978443  \n",
       "1         9.501246        56.424824  \n",
       "2         9.212674        56.377335  \n",
       "3         9.205460        55.978443  \n",
       "4         9.111673        55.351604  \n",
       "...            ...              ...  \n",
       "1648     13.960000       317.160004  \n",
       "1649     13.580000       316.109985  \n",
       "1650     13.670000       317.350006  \n",
       "1651     13.730000       317.269989  \n",
       "1652     13.260000       321.820007  \n",
       "\n",
       "[1653 rows x 23 columns]"
      ]
     },
     "execution_count": 3,
     "metadata": {},
     "output_type": "execute_result"
    }
   ],
   "source": [
    "stock"
   ]
  },
  {
   "cell_type": "code",
   "execution_count": 4,
   "metadata": {
    "id": "ui4c99QnYGq9"
   },
   "outputs": [],
   "source": [
    "n = stock.shape[0]\n",
    "test_ratio = 0.8\n",
    "stock_train = stock[:int(n*test_ratio)]\n",
    "stock_test = stock[int(n*test_ratio):]"
   ]
  },
  {
   "cell_type": "code",
   "execution_count": 5,
   "metadata": {
    "id": "MLEcb5MGYJsp"
   },
   "outputs": [],
   "source": [
    "stock_DateIndex =  stock.copy()\n",
    "stock_DateIndex.set_index('Date', inplace = True)"
   ]
  },
  {
   "cell_type": "code",
   "execution_count": 6,
   "metadata": {
    "id": "AG6jM54fYNcB"
   },
   "outputs": [],
   "source": [
    "X = stock_DateIndex.drop(columns = 'Adj Close')\n",
    "y = stock_DateIndex['Adj Close']"
   ]
  },
  {
   "cell_type": "markdown",
   "metadata": {
    "id": "L2d827Whluk6"
   },
   "source": [
    "## Splitting the train and test data"
   ]
  },
  {
   "cell_type": "code",
   "execution_count": 7,
   "metadata": {
    "colab": {
     "base_uri": "https://localhost:8080/"
    },
    "id": "EM4pRuTkYUd8",
    "outputId": "e6e124ac-e8ea-4514-d285-4483e3db334e"
   },
   "outputs": [],
   "source": [
    "stock_train.set_index('Date', inplace = True)\n",
    "stock_test.set_index('Date', inplace = True)\n",
    "\n",
    "X_train, X_test = stock_train.drop(columns = 'Adj Close'), stock_test.drop(columns = 'Adj Close')\n",
    "y_train, y_test = stock_train['Adj Close'], stock_test['Adj Close']"
   ]
  },
  {
   "cell_type": "code",
   "execution_count": 8,
   "metadata": {
    "colab": {
     "base_uri": "https://localhost:8080/"
    },
    "id": "aW5wsP1wnUNd",
    "outputId": "521077a9-1a80-48e8-90dd-f1ec8ae5f6f1"
   },
   "outputs": [
    {
     "name": "stdout",
     "output_type": "stream",
     "text": [
      "The importatnt feature as per Elastic Net with cross validation: Index(['Volume'], dtype='object')\n",
      "The optimum alpha as per elastic net with cross validataion: 4136936337.6243973\n"
     ]
    }
   ],
   "source": [
    "enetcv_model = linear_model.ElasticNetCV(fit_intercept=True).fit(X_train,y_train)\n",
    "enetcv_filtered = X_train.columns[np.abs(enetcv_model.coef_) != 0.0]\n",
    "print('The importatnt feature as per Elastic Net with cross validation:', enetcv_filtered)\n",
    "print('The optimum alpha as per elastic net with cross validataion:', enetcv_model.alpha_)"
   ]
  },
  {
   "cell_type": "code",
   "execution_count": 9,
   "metadata": {
    "colab": {
     "base_uri": "https://localhost:8080/"
    },
    "id": "5buMd3pio9bz",
    "outputId": "2edc41ec-811b-45ac-9a30-d21c2c9a3891"
   },
   "outputs": [
    {
     "name": "stdout",
     "output_type": "stream",
     "text": [
      "The optimal value of alpha as per Grid Search is: 12.328467394420684\n"
     ]
    }
   ],
   "source": [
    "#Grid Search\n",
    "alpha_range = np.logspace(-4, 4, 100)\n",
    "enet_model = linear_model.ElasticNet()\n",
    "\n",
    "enet_grid_search = GridSearchCV(enet_model, param_grid = {'alpha': alpha_range}, scoring = 'r2', cv = 10)\n",
    "enet_grid_search.fit(X_train, y_train)\n",
    "\n",
    "enet_optimal_alpha = enet_grid_search.best_params_['alpha']\n",
    "print('The optimal value of alpha as per Grid Search is:', enet_optimal_alpha)"
   ]
  },
  {
   "cell_type": "code",
   "execution_count": 10,
   "metadata": {
    "colab": {
     "base_uri": "https://localhost:8080/"
    },
    "id": "7lpJosKOyEHG",
    "outputId": "684ad3bf-9511-43f5-b3b2-d4d24236e9ba"
   },
   "outputs": [
    {
     "name": "stdout",
     "output_type": "stream",
     "text": [
      "The selected features by elastic Net\n",
      " ['Open', 'High', 'Low', 'Volume', 'RSI']\n"
     ]
    }
   ],
   "source": [
    "# Elastic net with optimal alpha value\n",
    "enet_model_with_optimal_alpha = linear_model.ElasticNet(enet_optimal_alpha)\n",
    "enet_model_with_optimal_alpha.fit(X_train,y_train)\n",
    "\n",
    "enet_filtered = X_train.columns[np.abs(enet_model_with_optimal_alpha.coef_) != 0.0]\n",
    "print('The selected features by elastic Net\\n',list(enet_filtered))"
   ]
  },
  {
   "cell_type": "code",
   "execution_count": 11,
   "metadata": {
    "colab": {
     "base_uri": "https://localhost:8080/"
    },
    "id": "3DhEmKvf1Skm",
    "outputId": "f71e4c84-b17c-4d82-8d1a-c8c9d959a95c"
   },
   "outputs": [
    {
     "name": "stdout",
     "output_type": "stream",
     "text": [
      "                                 OLS Regression Results                                \n",
      "=======================================================================================\n",
      "Dep. Variable:              Adj Close   R-squared (uncentered):                   1.000\n",
      "Model:                            OLS   Adj. R-squared (uncentered):              1.000\n",
      "Method:                 Least Squares   F-statistic:                          1.329e+06\n",
      "Date:                Mon, 09 Oct 2023   Prob (F-statistic):                        0.00\n",
      "Time:                        23:29:08   Log-Likelihood:                         -2814.5\n",
      "No. Observations:                1322   AIC:                                      5639.\n",
      "Df Residuals:                    1317   BIC:                                      5665.\n",
      "Df Model:                           5                                                  \n",
      "Covariance Type:            nonrobust                                                  \n",
      "==============================================================================\n",
      "                 coef    std err          t      P>|t|      [0.025      0.975]\n",
      "------------------------------------------------------------------------------\n",
      "Open          -0.6755      0.021    -31.575      0.000      -0.717      -0.633\n",
      "High           0.9083      0.021     42.655      0.000       0.867       0.950\n",
      "Low            0.7652      0.019     39.264      0.000       0.727       0.803\n",
      "Volume     -1.208e-10   6.89e-10     -0.175      0.861   -1.47e-09    1.23e-09\n",
      "RSI            0.0013      0.002      0.598      0.550      -0.003       0.006\n",
      "==============================================================================\n",
      "Omnibus:                      285.008   Durbin-Watson:                   2.259\n",
      "Prob(Omnibus):                  0.000   Jarque-Bera (JB):             9554.003\n",
      "Skew:                          -0.146   Prob(JB):                         0.00\n",
      "Kurtosis:                      16.167   Cond. No.                     7.69e+07\n",
      "==============================================================================\n",
      "\n",
      "Notes:\n",
      "[1] R² is computed without centering (uncentered) since the model does not contain a constant.\n",
      "[2] Standard Errors assume that the covariance matrix of the errors is correctly specified.\n",
      "[3] The condition number is large, 7.69e+07. This might indicate that there are\n",
      "strong multicollinearity or other numerical problems.\n"
     ]
    },
    {
     "name": "stderr",
     "output_type": "stream",
     "text": [
      "c:\\Users\\aksha\\DSE_1\\venv\\lib\\site-packages\\statsmodels\\base\\model.py:130: ValueWarning: unknown kwargs ['normalize']\n",
      "  warnings.warn(msg, ValueWarning)\n"
     ]
    }
   ],
   "source": [
    "## Fitting the model in OLS\n",
    "X_train_enet = X_train[enet_filtered]\n",
    "X_test_enet = X_test[enet_filtered]\n",
    "\n",
    "enet_OLS = sm.OLS(y_train, X_train_enet, normalize = True).fit()\n",
    "print(enet_OLS.summary())"
   ]
  },
  {
   "cell_type": "code",
   "execution_count": 12,
   "metadata": {
    "id": "0HM0JQJj1ivi"
   },
   "outputs": [
    {
     "data": {
      "text/html": [
       "<div>\n",
       "<style scoped>\n",
       "    .dataframe tbody tr th:only-of-type {\n",
       "        vertical-align: middle;\n",
       "    }\n",
       "\n",
       "    .dataframe tbody tr th {\n",
       "        vertical-align: top;\n",
       "    }\n",
       "\n",
       "    .dataframe thead th {\n",
       "        text-align: right;\n",
       "    }\n",
       "</style>\n",
       "<table border=\"1\" class=\"dataframe\">\n",
       "  <thead>\n",
       "    <tr style=\"text-align: right;\">\n",
       "      <th></th>\n",
       "      <th>feature</th>\n",
       "      <th>pValue</th>\n",
       "    </tr>\n",
       "  </thead>\n",
       "  <tbody>\n",
       "    <tr>\n",
       "      <th>0</th>\n",
       "      <td>Open</td>\n",
       "      <td>0.0</td>\n",
       "    </tr>\n",
       "    <tr>\n",
       "      <th>1</th>\n",
       "      <td>High</td>\n",
       "      <td>0.0</td>\n",
       "    </tr>\n",
       "    <tr>\n",
       "      <th>2</th>\n",
       "      <td>Low</td>\n",
       "      <td>0.0</td>\n",
       "    </tr>\n",
       "  </tbody>\n",
       "</table>\n",
       "</div>"
      ],
      "text/plain": [
       "  feature  pValue\n",
       "0    Open     0.0\n",
       "1    High     0.0\n",
       "2     Low     0.0"
      ]
     },
     "execution_count": 12,
     "metadata": {},
     "output_type": "execute_result"
    }
   ],
   "source": [
    "enet_pval = pd.DataFrame(enet_OLS.pvalues).reset_index()\n",
    "\n",
    "enet_pval.rename(columns = {'index': 'feature', 0: 'pValue'}, inplace = True)\n",
    "enet_pval['pValue'] = enet_pval['pValue'].apply(lambda x: \"{:f}\".format(x))\n",
    "enet_pval['pValue'] = enet_pval['pValue'].astype(float)\n",
    "enet_pval[enet_pval['pValue'] <= 0.05]"
   ]
  },
  {
   "cell_type": "code",
   "execution_count": 13,
   "metadata": {},
   "outputs": [
    {
     "name": "stdout",
     "output_type": "stream",
     "text": [
      "The R2 of training set for ElasticNet is: 1.0\n",
      "The MSE of training set for ElasticNet is: 4.14%\n",
      "\n",
      "The R2 of testing set for ElasticNet is: 1.0\n",
      "The Adjusted R2 of testing set for ElasticNet is: 1.0\n",
      "The MSE of testing set for ElasticNet is: 10.17%\n",
      "\n",
      "The correlation of ElasticNet model is: 1.0\n"
     ]
    }
   ],
   "source": [
    "y_train_pred_enet = enet_OLS.predict(X_train_enet)\n",
    "train_r2_enet = round(metrics.r2_score(y_train, y_train_pred_enet), 2)\n",
    "print('The R2 of training set for ElasticNet is:', round(metrics.r2_score(y_train, y_train_pred_enet), 2))\n",
    "print('The MSE of training set for ElasticNet is:', (str(round(metrics.mean_squared_error(y_train, y_train_pred_enet), 2)) + '%'))\n",
    "\n",
    "y_test_pred_enet = enet_OLS.predict(X_test_enet)\n",
    "test_r2_enet = round(metrics.r2_score(y_test, y_test_pred_enet), 2)\n",
    "\n",
    "p_enet = X_test_enet.shape[1]  # Number of columns\n",
    "n_enet = len(y_test_pred_enet)  # Number of records\n",
    "\n",
    "# Calculate the adjusted R-squared\n",
    "adjusted_r2_enet = 1 - (1 - test_r2_enet) * ((n_enet - 1) / (n_enet - p_enet - 1))\n",
    "\n",
    "print('\\nThe R2 of testing set for ElasticNet is:', round(metrics.r2_score(y_test, y_test_pred_enet), 2))\n",
    "print('The Adjusted R2 of testing set for ElasticNet is:', round(adjusted_r2_enet, 2))\n",
    "print('The MSE of testing set for ElasticNet is:', (str(round(metrics.mean_squared_error(y_test, y_test_pred_enet), 2)) + '%'))\n",
    "\n",
    "# Correlation between y predicted and y\n",
    "corr_enet = ss.pearsonr(y_test_pred_enet, y_test)[0]\n",
    "print('\\nThe correlation of ElasticNet model is:', round(corr_enet, 2))"
   ]
  },
  {
   "cell_type": "code",
   "execution_count": 15,
   "metadata": {},
   "outputs": [
    {
     "data": {
      "application/vnd.plotly.v1+json": {
       "config": {
        "plotlyServerURL": "https://plot.ly"
       },
       "data": [
        {
         "mode": "lines",
         "name": "Actual",
         "type": "scatter",
         "x": [
          "2022-04-05",
          "2022-04-06",
          "2022-04-07",
          "2022-04-08",
          "2022-04-11",
          "2022-04-12",
          "2022-04-13",
          "2022-04-14",
          "2022-04-18",
          "2022-04-19",
          "2022-04-20",
          "2022-04-21",
          "2022-04-22",
          "2022-04-25",
          "2022-04-26",
          "2022-04-27",
          "2022-04-28",
          "2022-04-29",
          "2022-05-02",
          "2022-05-03",
          "2022-05-04",
          "2022-05-05",
          "2022-05-06",
          "2022-05-09",
          "2022-05-10",
          "2022-05-11",
          "2022-05-12",
          "2022-05-13",
          "2022-05-16",
          "2022-05-17",
          "2022-05-18",
          "2022-05-19",
          "2022-05-20",
          "2022-05-23",
          "2022-05-24",
          "2022-05-25",
          "2022-05-26",
          "2022-05-27",
          "2022-05-31",
          "2022-06-01",
          "2022-06-02",
          "2022-06-03",
          "2022-06-06",
          "2022-06-07",
          "2022-06-08",
          "2022-06-09",
          "2022-06-10",
          "2022-06-13",
          "2022-06-14",
          "2022-06-15",
          "2022-06-16",
          "2022-06-17",
          "2022-06-21",
          "2022-06-22",
          "2022-06-23",
          "2022-06-24",
          "2022-06-27",
          "2022-06-28",
          "2022-06-29",
          "2022-06-30",
          "2022-07-01",
          "2022-07-05",
          "2022-07-06",
          "2022-07-07",
          "2022-07-08",
          "2022-07-11",
          "2022-07-12",
          "2022-07-13",
          "2022-07-14",
          "2022-07-15",
          "2022-07-18",
          "2022-07-19",
          "2022-07-20",
          "2022-07-21",
          "2022-07-22",
          "2022-07-25",
          "2022-07-26",
          "2022-07-27",
          "2022-07-28",
          "2022-07-29",
          "2022-08-01",
          "2022-08-02",
          "2022-08-03",
          "2022-08-04",
          "2022-08-05",
          "2022-08-08",
          "2022-08-09",
          "2022-08-10",
          "2022-08-11",
          "2022-08-12",
          "2022-08-15",
          "2022-08-16",
          "2022-08-17",
          "2022-08-18",
          "2022-08-19",
          "2022-08-22",
          "2022-08-23",
          "2022-08-24",
          "2022-08-25",
          "2022-08-26",
          "2022-08-29",
          "2022-08-30",
          "2022-08-31",
          "2022-09-01",
          "2022-09-02",
          "2022-09-06",
          "2022-09-07",
          "2022-09-08",
          "2022-09-09",
          "2022-09-12",
          "2022-09-13",
          "2022-09-14",
          "2022-09-15",
          "2022-09-16",
          "2022-09-19",
          "2022-09-20",
          "2022-09-21",
          "2022-09-22",
          "2022-09-23",
          "2022-09-26",
          "2022-09-27",
          "2022-09-28",
          "2022-09-29",
          "2022-09-30",
          "2022-10-03",
          "2022-10-04",
          "2022-10-05",
          "2022-10-06",
          "2022-10-07",
          "2022-10-10",
          "2022-10-11",
          "2022-10-12",
          "2022-10-13",
          "2022-10-14",
          "2022-10-17",
          "2022-10-18",
          "2022-10-19",
          "2022-10-20",
          "2022-10-21",
          "2022-10-24",
          "2022-10-25",
          "2022-10-26",
          "2022-10-27",
          "2022-10-28",
          "2022-10-31",
          "2022-11-01",
          "2022-11-02",
          "2022-11-03",
          "2022-11-04",
          "2022-11-07",
          "2022-11-08",
          "2022-11-09",
          "2022-11-10",
          "2022-11-11",
          "2022-11-14",
          "2022-11-15",
          "2022-11-16",
          "2022-11-17",
          "2022-11-18",
          "2022-11-21",
          "2022-11-22",
          "2022-11-23",
          "2022-11-25",
          "2022-11-28",
          "2022-11-29",
          "2022-11-30",
          "2022-12-01",
          "2022-12-02",
          "2022-12-05",
          "2022-12-06",
          "2022-12-07",
          "2022-12-08",
          "2022-12-09",
          "2022-12-12",
          "2022-12-13",
          "2022-12-14",
          "2022-12-15",
          "2022-12-16",
          "2022-12-19",
          "2022-12-20",
          "2022-12-21",
          "2022-12-22",
          "2022-12-23",
          "2022-12-27",
          "2022-12-28",
          "2022-12-29",
          "2022-12-30",
          "2023-01-03",
          "2023-01-04",
          "2023-01-05",
          "2023-01-06",
          "2023-01-09",
          "2023-01-10",
          "2023-01-11",
          "2023-01-12",
          "2023-01-13",
          "2023-01-17",
          "2023-01-18",
          "2023-01-19",
          "2023-01-20",
          "2023-01-23",
          "2023-01-24",
          "2023-01-25",
          "2023-01-26",
          "2023-01-27",
          "2023-01-30",
          "2023-01-31",
          "2023-02-01",
          "2023-02-02",
          "2023-02-03",
          "2023-02-06",
          "2023-02-07",
          "2023-02-08",
          "2023-02-09",
          "2023-02-10",
          "2023-02-13",
          "2023-02-14",
          "2023-02-15",
          "2023-02-16",
          "2023-02-17",
          "2023-02-21",
          "2023-02-22",
          "2023-02-23",
          "2023-02-24",
          "2023-02-27",
          "2023-02-28",
          "2023-03-01",
          "2023-03-02",
          "2023-03-03",
          "2023-03-06",
          "2023-03-07",
          "2023-03-08",
          "2023-03-09",
          "2023-03-10",
          "2023-03-13",
          "2023-03-14",
          "2023-03-15",
          "2023-03-16",
          "2023-03-17",
          "2023-03-20",
          "2023-03-21",
          "2023-03-22",
          "2023-03-23",
          "2023-03-24",
          "2023-03-27",
          "2023-03-28",
          "2023-03-29",
          "2023-03-30",
          "2023-03-31",
          "2023-04-03",
          "2023-04-04",
          "2023-04-05",
          "2023-04-06",
          "2023-04-10",
          "2023-04-11",
          "2023-04-12",
          "2023-04-13",
          "2023-04-14",
          "2023-04-17",
          "2023-04-18",
          "2023-04-19",
          "2023-04-20",
          "2023-04-21",
          "2023-04-24",
          "2023-04-25",
          "2023-04-26",
          "2023-04-27",
          "2023-04-28",
          "2023-05-01",
          "2023-05-02",
          "2023-05-03",
          "2023-05-04",
          "2023-05-05",
          "2023-05-08",
          "2023-05-09",
          "2023-05-10",
          "2023-05-11",
          "2023-05-12",
          "2023-05-15",
          "2023-05-16",
          "2023-05-17",
          "2023-05-18",
          "2023-05-19",
          "2023-05-22",
          "2023-05-23",
          "2023-05-24",
          "2023-05-25",
          "2023-05-26",
          "2023-05-30",
          "2023-05-31",
          "2023-06-01",
          "2023-06-02",
          "2023-06-05",
          "2023-06-06",
          "2023-06-07",
          "2023-06-08",
          "2023-06-09",
          "2023-06-12",
          "2023-06-13",
          "2023-06-14",
          "2023-06-15",
          "2023-06-16",
          "2023-06-20",
          "2023-06-21",
          "2023-06-22",
          "2023-06-23",
          "2023-06-26",
          "2023-06-27",
          "2023-06-28",
          "2023-06-29",
          "2023-06-30",
          "2023-07-03",
          "2023-07-05",
          "2023-07-06",
          "2023-07-07",
          "2023-07-10",
          "2023-07-11",
          "2023-07-12",
          "2023-07-13",
          "2023-07-14",
          "2023-07-17",
          "2023-07-18",
          "2023-07-19",
          "2023-07-20",
          "2023-07-21",
          "2023-07-24",
          "2023-07-25",
          "2023-07-26",
          "2023-07-27",
          "2023-07-28",
          "2023-07-31"
         ],
         "y": [
          363.7533264160156,
          348.586669921875,
          352.4200134277344,
          341.8299865722656,
          325.3099975585937,
          328.9833374023437,
          340.7900085449219,
          328.3333435058594,
          334.7633361816406,
          342.7166748046875,
          325.7333374023437,
          336.260009765625,
          335.01666259765625,
          332.67333984375,
          292.1400146484375,
          293.836669921875,
          292.5033264160156,
          290.2533264160156,
          300.9800109863281,
          303.0833435058594,
          317.5400085449219,
          291.09332275390625,
          288.54998779296875,
          262.3699951171875,
          266.67999267578125,
          244.6666717529297,
          242.6666717529297,
          256.5299987792969,
          241.4566650390625,
          253.8699951171875,
          236.60333251953125,
          236.47332763671875,
          221.3000030517578,
          224.96665954589844,
          209.3866729736328,
          219.6000061035156,
          235.91000366210935,
          253.2100067138672,
          252.7533264160156,
          246.7899932861328,
          258.3333435058594,
          234.51666259765625,
          238.27999877929688,
          238.8866729736328,
          241.86666870117188,
          239.7066650390625,
          232.22999572753903,
          215.73666381835935,
          220.88999938964844,
          233,
          213.1000061035156,
          216.75999450683597,
          237.0366668701172,
          236.086669921875,
          235.07000732421875,
          245.7066650390625,
          244.9199981689453,
          232.663330078125,
          228.4900054931641,
          224.47332763671875,
          227.26333618164065,
          233.0666656494141,
          231.73333740234372,
          244.5433349609375,
          250.76333618164065,
          234.3433380126953,
          233.07000732421875,
          237.0399932861328,
          238.31333923339844,
          240.0666656494141,
          240.54666137695312,
          245.52999877929688,
          247.5,
          271.7066650390625,
          272.24334716796875,
          268.4333190917969,
          258.8599853515625,
          274.82000732421875,
          280.8999938964844,
          297.1499938964844,
          297.27667236328125,
          300.586669921875,
          307.39666748046875,
          308.6333312988281,
          288.1700134277344,
          290.42333984375,
          283.3333435058594,
          294.3566589355469,
          286.6300048828125,
          300.0299987792969,
          309.32000732421875,
          306.5633239746094,
          303.9966735839844,
          302.8699951171875,
          296.6666564941406,
          289.913330078125,
          296.4533386230469,
          297.0966796875,
          296.07000732421875,
          288.0899963378906,
          284.82000732421875,
          277.70001220703125,
          275.6099853515625,
          277.1600036621094,
          270.2099914550781,
          274.4200134277344,
          283.70001220703125,
          289.260009765625,
          299.67999267578125,
          304.4200134277344,
          292.1300048828125,
          302.6099853515625,
          303.75,
          303.3500061035156,
          309.07000732421875,
          308.7300109863281,
          300.79998779296875,
          288.5899963378906,
          275.3299865722656,
          276.010009765625,
          282.94000244140625,
          287.8099975585937,
          268.2099914550781,
          265.25,
          242.3999938964844,
          249.44000244140625,
          240.80999755859372,
          238.1300048828125,
          223.07000732421875,
          222.9600067138672,
          216.5,
          217.2400054931641,
          221.72000122070312,
          204.9900054931641,
          219.3500061035156,
          220.19000244140625,
          222.0399932861328,
          207.27999877929688,
          214.44000244140625,
          211.25,
          222.4199981689453,
          224.63999938964844,
          225.08999633789065,
          228.5200042724609,
          227.5399932861328,
          227.82000732421875,
          214.97999572753903,
          215.30999755859372,
          207.47000122070312,
          197.0800018310547,
          191.3000030517578,
          177.58999633789062,
          190.72000122070312,
          195.97000122070312,
          190.9499969482422,
          194.4199981689453,
          186.9199981689453,
          183.1699981689453,
          180.19000244140625,
          167.8699951171875,
          169.91000366210938,
          183.1999969482422,
          182.8600006103516,
          182.9199981689453,
          180.8300018310547,
          194.6999969482422,
          194.6999969482422,
          194.8600006103516,
          182.4499969482422,
          179.82000732421875,
          174.0399932861328,
          173.44000244140625,
          179.0500030517578,
          167.82000732421875,
          160.9499969482422,
          156.8000030517578,
          157.6699981689453,
          150.22999572753906,
          149.8699951171875,
          137.8000030517578,
          137.57000732421875,
          125.3499984741211,
          123.1500015258789,
          109.0999984741211,
          112.70999908447266,
          121.81999969482422,
          123.18000030517578,
          108.0999984741211,
          113.63999938964844,
          110.33999633789062,
          113.05999755859376,
          119.7699966430664,
          118.8499984741211,
          123.22000122070312,
          123.55999755859376,
          122.4000015258789,
          131.49000549316406,
          128.77999877929688,
          127.16999816894533,
          133.4199981689453,
          143.75,
          143.88999938964844,
          144.42999267578125,
          160.27000427246094,
          177.89999389648438,
          166.66000366210938,
          173.22000122070312,
          181.41000366210935,
          188.2700042724609,
          189.97999572753903,
          194.75999450683597,
          196.80999755859372,
          201.2899932861328,
          207.32000732421875,
          196.88999938964844,
          194.63999938964844,
          209.25,
          214.2400054931641,
          202.0399932861328,
          208.30999755859372,
          197.3699951171875,
          200.8600006103516,
          202.07000732421875,
          196.8800048828125,
          207.6300048828125,
          205.7100067138672,
          202.7700042724609,
          190.8999938964844,
          197.7899932861328,
          193.80999755859372,
          187.7100067138672,
          182,
          172.9199981689453,
          173.44000244140625,
          174.47999572753906,
          183.25999450683597,
          180.4499969482422,
          184.1300048828125,
          180.1300048828125,
          183.25,
          197.5800018310547,
          191.1499938964844,
          192.22000122070312,
          190.41000366210935,
          191.80999755859372,
          189.19000244140625,
          193.8800048828125,
          195.27999877929688,
          207.4600067138672,
          194.7700042724609,
          192.5800018310547,
          185.5200042724609,
          185.05999755859372,
          184.50999450683597,
          186.7899932861328,
          180.5399932861328,
          185.8999938964844,
          185,
          187.0399932861328,
          184.30999755859372,
          180.58999633789065,
          162.99000549316406,
          165.0800018310547,
          162.5500030517578,
          160.6699981689453,
          153.75,
          160.19000244140625,
          164.30999755859375,
          161.8300018310547,
          160.30999755859375,
          160.61000061035156,
          161.1999969482422,
          170.05999755859375,
          171.7899932861328,
          169.14999389648438,
          168.5399932861328,
          172.0800018310547,
          167.97999572753906,
          166.35000610351562,
          166.52000427246094,
          173.86000061035156,
          176.88999938964844,
          180.13999938964844,
          188.8699951171875,
          185.7700042724609,
          182.8999938964844,
          184.47000122070312,
          193.1699981689453,
          201.16000366210935,
          203.92999267578125,
          207.5200042724609,
          213.97000122070312,
          217.6100006103516,
          221.30999755859372,
          224.57000732421875,
          234.8600006103516,
          244.3999938964844,
          249.8300018310547,
          258.7099914550781,
          256.7900085449219,
          255.8999938964844,
          260.5400085449219,
          274.45001220703125,
          259.4599914550781,
          264.6099853515625,
          256.6000061035156,
          241.0500030517578,
          250.2100067138672,
          256.239990234375,
          257.5,
          261.7699890136719,
          279.82000732421875,
          282.4800109863281,
          276.5400085449219,
          274.42999267578125,
          269.6099853515625,
          269.7900085449219,
          271.989990234375,
          277.8999938964844,
          281.3800048828125,
          290.3800048828125,
          293.3399963378906,
          291.260009765625,
          262.8999938964844,
          260.0199890136719,
          269.0599975585937,
          265.2799987792969,
          264.3500061035156,
          255.7100067138672,
          266.44000244140625,
          267.42999267578125
         ]
        },
        {
         "mode": "lines",
         "name": "Prediction",
         "type": "scatter",
         "x": [
          "2022-04-05",
          "2022-04-06",
          "2022-04-07",
          "2022-04-08",
          "2022-04-11",
          "2022-04-12",
          "2022-04-13",
          "2022-04-14",
          "2022-04-18",
          "2022-04-19",
          "2022-04-20",
          "2022-04-21",
          "2022-04-22",
          "2022-04-25",
          "2022-04-26",
          "2022-04-27",
          "2022-04-28",
          "2022-04-29",
          "2022-05-02",
          "2022-05-03",
          "2022-05-04",
          "2022-05-05",
          "2022-05-06",
          "2022-05-09",
          "2022-05-10",
          "2022-05-11",
          "2022-05-12",
          "2022-05-13",
          "2022-05-16",
          "2022-05-17",
          "2022-05-18",
          "2022-05-19",
          "2022-05-20",
          "2022-05-23",
          "2022-05-24",
          "2022-05-25",
          "2022-05-26",
          "2022-05-27",
          "2022-05-31",
          "2022-06-01",
          "2022-06-02",
          "2022-06-03",
          "2022-06-06",
          "2022-06-07",
          "2022-06-08",
          "2022-06-09",
          "2022-06-10",
          "2022-06-13",
          "2022-06-14",
          "2022-06-15",
          "2022-06-16",
          "2022-06-17",
          "2022-06-21",
          "2022-06-22",
          "2022-06-23",
          "2022-06-24",
          "2022-06-27",
          "2022-06-28",
          "2022-06-29",
          "2022-06-30",
          "2022-07-01",
          "2022-07-05",
          "2022-07-06",
          "2022-07-07",
          "2022-07-08",
          "2022-07-11",
          "2022-07-12",
          "2022-07-13",
          "2022-07-14",
          "2022-07-15",
          "2022-07-18",
          "2022-07-19",
          "2022-07-20",
          "2022-07-21",
          "2022-07-22",
          "2022-07-25",
          "2022-07-26",
          "2022-07-27",
          "2022-07-28",
          "2022-07-29",
          "2022-08-01",
          "2022-08-02",
          "2022-08-03",
          "2022-08-04",
          "2022-08-05",
          "2022-08-08",
          "2022-08-09",
          "2022-08-10",
          "2022-08-11",
          "2022-08-12",
          "2022-08-15",
          "2022-08-16",
          "2022-08-17",
          "2022-08-18",
          "2022-08-19",
          "2022-08-22",
          "2022-08-23",
          "2022-08-24",
          "2022-08-25",
          "2022-08-26",
          "2022-08-29",
          "2022-08-30",
          "2022-08-31",
          "2022-09-01",
          "2022-09-02",
          "2022-09-06",
          "2022-09-07",
          "2022-09-08",
          "2022-09-09",
          "2022-09-12",
          "2022-09-13",
          "2022-09-14",
          "2022-09-15",
          "2022-09-16",
          "2022-09-19",
          "2022-09-20",
          "2022-09-21",
          "2022-09-22",
          "2022-09-23",
          "2022-09-26",
          "2022-09-27",
          "2022-09-28",
          "2022-09-29",
          "2022-09-30",
          "2022-10-03",
          "2022-10-04",
          "2022-10-05",
          "2022-10-06",
          "2022-10-07",
          "2022-10-10",
          "2022-10-11",
          "2022-10-12",
          "2022-10-13",
          "2022-10-14",
          "2022-10-17",
          "2022-10-18",
          "2022-10-19",
          "2022-10-20",
          "2022-10-21",
          "2022-10-24",
          "2022-10-25",
          "2022-10-26",
          "2022-10-27",
          "2022-10-28",
          "2022-10-31",
          "2022-11-01",
          "2022-11-02",
          "2022-11-03",
          "2022-11-04",
          "2022-11-07",
          "2022-11-08",
          "2022-11-09",
          "2022-11-10",
          "2022-11-11",
          "2022-11-14",
          "2022-11-15",
          "2022-11-16",
          "2022-11-17",
          "2022-11-18",
          "2022-11-21",
          "2022-11-22",
          "2022-11-23",
          "2022-11-25",
          "2022-11-28",
          "2022-11-29",
          "2022-11-30",
          "2022-12-01",
          "2022-12-02",
          "2022-12-05",
          "2022-12-06",
          "2022-12-07",
          "2022-12-08",
          "2022-12-09",
          "2022-12-12",
          "2022-12-13",
          "2022-12-14",
          "2022-12-15",
          "2022-12-16",
          "2022-12-19",
          "2022-12-20",
          "2022-12-21",
          "2022-12-22",
          "2022-12-23",
          "2022-12-27",
          "2022-12-28",
          "2022-12-29",
          "2022-12-30",
          "2023-01-03",
          "2023-01-04",
          "2023-01-05",
          "2023-01-06",
          "2023-01-09",
          "2023-01-10",
          "2023-01-11",
          "2023-01-12",
          "2023-01-13",
          "2023-01-17",
          "2023-01-18",
          "2023-01-19",
          "2023-01-20",
          "2023-01-23",
          "2023-01-24",
          "2023-01-25",
          "2023-01-26",
          "2023-01-27",
          "2023-01-30",
          "2023-01-31",
          "2023-02-01",
          "2023-02-02",
          "2023-02-03",
          "2023-02-06",
          "2023-02-07",
          "2023-02-08",
          "2023-02-09",
          "2023-02-10",
          "2023-02-13",
          "2023-02-14",
          "2023-02-15",
          "2023-02-16",
          "2023-02-17",
          "2023-02-21",
          "2023-02-22",
          "2023-02-23",
          "2023-02-24",
          "2023-02-27",
          "2023-02-28",
          "2023-03-01",
          "2023-03-02",
          "2023-03-03",
          "2023-03-06",
          "2023-03-07",
          "2023-03-08",
          "2023-03-09",
          "2023-03-10",
          "2023-03-13",
          "2023-03-14",
          "2023-03-15",
          "2023-03-16",
          "2023-03-17",
          "2023-03-20",
          "2023-03-21",
          "2023-03-22",
          "2023-03-23",
          "2023-03-24",
          "2023-03-27",
          "2023-03-28",
          "2023-03-29",
          "2023-03-30",
          "2023-03-31",
          "2023-04-03",
          "2023-04-04",
          "2023-04-05",
          "2023-04-06",
          "2023-04-10",
          "2023-04-11",
          "2023-04-12",
          "2023-04-13",
          "2023-04-14",
          "2023-04-17",
          "2023-04-18",
          "2023-04-19",
          "2023-04-20",
          "2023-04-21",
          "2023-04-24",
          "2023-04-25",
          "2023-04-26",
          "2023-04-27",
          "2023-04-28",
          "2023-05-01",
          "2023-05-02",
          "2023-05-03",
          "2023-05-04",
          "2023-05-05",
          "2023-05-08",
          "2023-05-09",
          "2023-05-10",
          "2023-05-11",
          "2023-05-12",
          "2023-05-15",
          "2023-05-16",
          "2023-05-17",
          "2023-05-18",
          "2023-05-19",
          "2023-05-22",
          "2023-05-23",
          "2023-05-24",
          "2023-05-25",
          "2023-05-26",
          "2023-05-30",
          "2023-05-31",
          "2023-06-01",
          "2023-06-02",
          "2023-06-05",
          "2023-06-06",
          "2023-06-07",
          "2023-06-08",
          "2023-06-09",
          "2023-06-12",
          "2023-06-13",
          "2023-06-14",
          "2023-06-15",
          "2023-06-16",
          "2023-06-20",
          "2023-06-21",
          "2023-06-22",
          "2023-06-23",
          "2023-06-26",
          "2023-06-27",
          "2023-06-28",
          "2023-06-29",
          "2023-06-30",
          "2023-07-03",
          "2023-07-05",
          "2023-07-06",
          "2023-07-07",
          "2023-07-10",
          "2023-07-11",
          "2023-07-12",
          "2023-07-13",
          "2023-07-14",
          "2023-07-17",
          "2023-07-18",
          "2023-07-19",
          "2023-07-20",
          "2023-07-21",
          "2023-07-24",
          "2023-07-25",
          "2023-07-26",
          "2023-07-27",
          "2023-07-28",
          "2023-07-31"
         ],
         "y": [
          370.61116101857897,
          347.1805153901,
          349.62866291302703,
          343.3990720068764,
          333.2388411165239,
          333.70940444591474,
          338.0811483492946,
          332.1964734812579,
          332.94023711127323,
          340.98727650252596,
          329.95495493533605,
          342.9116385143023,
          338.3966083571646,
          333.77626822896804,
          301.8535594078944,
          299.44212921717127,
          279.4745779795582,
          301.70141849533144,
          296.9556451321189,
          303.1197581314332,
          311.62363579304304,
          293.6806143153478,
          284.2334988886511,
          266.9723808377514,
          262.9377635222191,
          251.6828411646558,
          245.63093498063773,
          255.96400107700103,
          243.77326795485317,
          249.12957242519133,
          241.40612805196517,
          240.1211471593188,
          219.18977651091714,
          221.1651321681782,
          209.1512224919241,
          221.12457788610445,
          235.43211110511012,
          251.02962005749382,
          248.88442692859047,
          250.18158539405331,
          260.34233927617214,
          239.4316210945978,
          236.72869169932332,
          236.0430624159147,
          247.93604158183854,
          246.86861176423545,
          233.13683407017723,
          219.4181457628402,
          220.18809630141004,
          231.8012754563227,
          213.79510536669187,
          219.7168818446366,
          241.2346602718789,
          244.77181685093237,
          231.6735230229302,
          243.8067073904876,
          246.18255822836227,
          239.74428230352484,
          224.40972781431392,
          224.28374422517243,
          225.8004898024092,
          226.5990603650584,
          231.06353336635468,
          242.60322781052076,
          252.50476025216454,
          238.39014531613336,
          232.60222480690192,
          239.79175368794398,
          233.64381751836748,
          240.49543514515548,
          245.49719392338275,
          240.3815209555649,
          247.35637360648212,
          270.9833540497098,
          275.6829240262473,
          269.82157873465917,
          258.93378131791985,
          272.82149247485364,
          276.9658349670822,
          295.00685403195575,
          305.58541177634254,
          305.044110784864,
          305.6711755018182,
          308.2504618819497,
          290.79080531023135,
          299.2245773284027,
          283.3225756194759,
          286.47045074329327,
          289.3860677757043,
          295.3202323248932,
          311.1447425450941,
          307.12700102350584,
          305.98185594640694,
          302.75036360755615,
          294.7377265851762,
          287.54300412860897,
          294.9391399866524,
          301.75392797956465,
          294.1406073697726,
          293.43106929008644,
          285.15917652885247,
          276.26099835182475,
          273.9464270817461,
          271.7140431857263,
          272.54908914141396,
          269.88742970303116,
          281.7398851137902,
          287.07746235549286,
          298.27322760328866,
          304.2882049458685,
          294.55673893600044,
          303.7693034028908,
          307.0749186737264,
          299.7397747538835,
          306.6739297821965,
          311.18971767498135,
          306.8886552616265,
          289.8763046794297,
          275.99777904086255,
          281.3117155205086,
          282.8745296074849,
          283.73849702661454,
          270.0583637601737,
          271.4053639013378,
          244.3013582984239,
          249.88484245005208,
          237.08124379567434,
          240.5377076429509,
          224.95367822735525,
          222.0313547299784,
          220.34363601245335,
          215.61263460496244,
          219.66676078851722,
          210.44283279675594,
          219.94464517861493,
          219.99988472498043,
          220.70173972260454,
          209.6926111034912,
          211.52911028192446,
          206.88978708101072,
          222.59417327056855,
          228.2668258777037,
          227.73923669269678,
          221.22328346074605,
          225.86633779299555,
          231.50109692067716,
          218.71246037884367,
          218.98982274255513,
          208.34742383041345,
          199.31881709063876,
          189.16712962782842,
          184.60853911422646,
          183.00036692447196,
          192.61418998216922,
          190.1931913569038,
          197.0958518897769,
          187.65592098470597,
          183.28946434541416,
          178.34079659623626,
          170.00513118706846,
          168.53923305683975,
          181.57541762186582,
          181.47724777230349,
          186.6672316611513,
          181.15256395240345,
          191.94178964172775,
          194.37530711899745,
          195.00296409200396,
          183.9680273582655,
          178.60306396672362,
          176.52308263761816,
          172.2179425056544,
          181.03655761355589,
          170.373589274361,
          160.96685557856927,
          158.0964741445504,
          159.84412815925683,
          153.22564614042494,
          148.592287465792,
          141.55184077407924,
          138.18245321884874,
          125.79123409529538,
          124.07585445979079,
          112.54753121384347,
          113.89419788947107,
          120.83985469510395,
          123.69456419133257,
          107.95800547271328,
          112.6722205995306,
          108.87273535363998,
          112.24526927111013,
          121.4759360443195,
          117.68690164759334,
          124.17554895723768,
          119.5213831008161,
          121.1448848042277,
          130.42016845498532,
          129.1273087830646,
          127.2680917893958,
          131.842959919583,
          143.06483195630219,
          144.4976613473278,
          142.8301191496988,
          157.0427736625377,
          177.78047810210794,
          170.47903075015557,
          171.77679740861893,
          179.5923645383613,
          191.97259357802082,
          197.12458659164798,
          195.02565661286047,
          191.82483137676707,
          200.68810413302666,
          210.79200219883933,
          198.35472289769586,
          190.59910415002938,
          205.95674736400866,
          209.72705256506754,
          209.81929410915487,
          205.42616824516935,
          202.9825553491022,
          196.5771937717842,
          198.88683027873086,
          194.51638831297893,
          207.81649283793348,
          205.58306378748793,
          200.8760126276648,
          192.22488905409762,
          198.15854213152622,
          193.48081603956274,
          189.56924955476387,
          182.18546608905538,
          178.48259058193528,
          172.56633090066572,
          173.43097229778706,
          182.77049003236095,
          178.23514560920188,
          183.83390830994267,
          180.24290864196888,
          184.04623823396363,
          196.61034489612,
          193.80401714816867,
          193.54835726277932,
          188.52785040153645,
          193.36115875584514,
          186.96694216746627,
          191.94382869511318,
          195.95533589024808,
          206.26900990606617,
          196.18991707388784,
          192.91617945790713,
          185.16165502418582,
          183.2152545311837,
          181.38422405408798,
          187.84518029144954,
          183.1843947430444,
          184.3176856592132,
          184.26895972975427,
          186.28569414533396,
          184.58939830110066,
          181.67554425012278,
          164.77333649369817,
          162.9327157764939,
          160.63877858533377,
          162.0290443410605,
          154.86741210582784,
          159.28494226746284,
          161.60458428106017,
          159.66397195901294,
          162.61559683935104,
          164.18494143928015,
          160.304097667429,
          169.5384839244749,
          170.0344976047012,
          167.62861959209866,
          169.4716528330883,
          171.38198653401193,
          170.18949997383373,
          166.9023479667501,
          167.89014759891222,
          172.72970197723734,
          175.16105516121368,
          180.5642857702529,
          187.79108328396734,
          191.31490139782255,
          180.6689948332838,
          181.8954950552076,
          196.95154140860876,
          201.79354766899854,
          199.6835015841519,
          206.35370221923796,
          215.95838789838447,
          218.11405666472515,
          218.27818614061908,
          226.53056606099244,
          232.94174359058206,
          246.31505902166396,
          247.73517913750933,
          257.0497829268067,
          253.62104480647312,
          256.73489725921604,
          261.4436486520691,
          272.8241560781174,
          263.07027229279555,
          261.349314994771,
          256.7492754264578,
          249.99748675260628,
          247.48450989513015,
          257.89674655847176,
          256.66702737954563,
          263.1107908292473,
          282.0155255188935,
          281.9832628324855,
          275.33587424396745,
          276.5216292613563,
          268.24501291296014,
          268.48917303390164,
          272.30200661212734,
          275.4821992349716,
          283.5314034462155,
          288.8865835483057,
          291.13192967266883,
          293.4933591633128,
          266.24753483770957,
          258.179052941821,
          266.79016951016973,
          266.720151596846,
          265.98718900699663,
          258.61673578732194,
          264.8659431698079,
          265.6317558130599
         ]
        }
       ],
       "layout": {
        "font": {
         "size": 20
        },
        "legend": {
         "title": {
          "text": "Legend"
         }
        },
        "template": {
         "data": {
          "bar": [
           {
            "error_x": {
             "color": "#2a3f5f"
            },
            "error_y": {
             "color": "#2a3f5f"
            },
            "marker": {
             "line": {
              "color": "#E5ECF6",
              "width": 0.5
             },
             "pattern": {
              "fillmode": "overlay",
              "size": 10,
              "solidity": 0.2
             }
            },
            "type": "bar"
           }
          ],
          "barpolar": [
           {
            "marker": {
             "line": {
              "color": "#E5ECF6",
              "width": 0.5
             },
             "pattern": {
              "fillmode": "overlay",
              "size": 10,
              "solidity": 0.2
             }
            },
            "type": "barpolar"
           }
          ],
          "carpet": [
           {
            "aaxis": {
             "endlinecolor": "#2a3f5f",
             "gridcolor": "white",
             "linecolor": "white",
             "minorgridcolor": "white",
             "startlinecolor": "#2a3f5f"
            },
            "baxis": {
             "endlinecolor": "#2a3f5f",
             "gridcolor": "white",
             "linecolor": "white",
             "minorgridcolor": "white",
             "startlinecolor": "#2a3f5f"
            },
            "type": "carpet"
           }
          ],
          "choropleth": [
           {
            "colorbar": {
             "outlinewidth": 0,
             "ticks": ""
            },
            "type": "choropleth"
           }
          ],
          "contour": [
           {
            "colorbar": {
             "outlinewidth": 0,
             "ticks": ""
            },
            "colorscale": [
             [
              0,
              "#0d0887"
             ],
             [
              0.1111111111111111,
              "#46039f"
             ],
             [
              0.2222222222222222,
              "#7201a8"
             ],
             [
              0.3333333333333333,
              "#9c179e"
             ],
             [
              0.4444444444444444,
              "#bd3786"
             ],
             [
              0.5555555555555556,
              "#d8576b"
             ],
             [
              0.6666666666666666,
              "#ed7953"
             ],
             [
              0.7777777777777778,
              "#fb9f3a"
             ],
             [
              0.8888888888888888,
              "#fdca26"
             ],
             [
              1,
              "#f0f921"
             ]
            ],
            "type": "contour"
           }
          ],
          "contourcarpet": [
           {
            "colorbar": {
             "outlinewidth": 0,
             "ticks": ""
            },
            "type": "contourcarpet"
           }
          ],
          "heatmap": [
           {
            "colorbar": {
             "outlinewidth": 0,
             "ticks": ""
            },
            "colorscale": [
             [
              0,
              "#0d0887"
             ],
             [
              0.1111111111111111,
              "#46039f"
             ],
             [
              0.2222222222222222,
              "#7201a8"
             ],
             [
              0.3333333333333333,
              "#9c179e"
             ],
             [
              0.4444444444444444,
              "#bd3786"
             ],
             [
              0.5555555555555556,
              "#d8576b"
             ],
             [
              0.6666666666666666,
              "#ed7953"
             ],
             [
              0.7777777777777778,
              "#fb9f3a"
             ],
             [
              0.8888888888888888,
              "#fdca26"
             ],
             [
              1,
              "#f0f921"
             ]
            ],
            "type": "heatmap"
           }
          ],
          "heatmapgl": [
           {
            "colorbar": {
             "outlinewidth": 0,
             "ticks": ""
            },
            "colorscale": [
             [
              0,
              "#0d0887"
             ],
             [
              0.1111111111111111,
              "#46039f"
             ],
             [
              0.2222222222222222,
              "#7201a8"
             ],
             [
              0.3333333333333333,
              "#9c179e"
             ],
             [
              0.4444444444444444,
              "#bd3786"
             ],
             [
              0.5555555555555556,
              "#d8576b"
             ],
             [
              0.6666666666666666,
              "#ed7953"
             ],
             [
              0.7777777777777778,
              "#fb9f3a"
             ],
             [
              0.8888888888888888,
              "#fdca26"
             ],
             [
              1,
              "#f0f921"
             ]
            ],
            "type": "heatmapgl"
           }
          ],
          "histogram": [
           {
            "marker": {
             "pattern": {
              "fillmode": "overlay",
              "size": 10,
              "solidity": 0.2
             }
            },
            "type": "histogram"
           }
          ],
          "histogram2d": [
           {
            "colorbar": {
             "outlinewidth": 0,
             "ticks": ""
            },
            "colorscale": [
             [
              0,
              "#0d0887"
             ],
             [
              0.1111111111111111,
              "#46039f"
             ],
             [
              0.2222222222222222,
              "#7201a8"
             ],
             [
              0.3333333333333333,
              "#9c179e"
             ],
             [
              0.4444444444444444,
              "#bd3786"
             ],
             [
              0.5555555555555556,
              "#d8576b"
             ],
             [
              0.6666666666666666,
              "#ed7953"
             ],
             [
              0.7777777777777778,
              "#fb9f3a"
             ],
             [
              0.8888888888888888,
              "#fdca26"
             ],
             [
              1,
              "#f0f921"
             ]
            ],
            "type": "histogram2d"
           }
          ],
          "histogram2dcontour": [
           {
            "colorbar": {
             "outlinewidth": 0,
             "ticks": ""
            },
            "colorscale": [
             [
              0,
              "#0d0887"
             ],
             [
              0.1111111111111111,
              "#46039f"
             ],
             [
              0.2222222222222222,
              "#7201a8"
             ],
             [
              0.3333333333333333,
              "#9c179e"
             ],
             [
              0.4444444444444444,
              "#bd3786"
             ],
             [
              0.5555555555555556,
              "#d8576b"
             ],
             [
              0.6666666666666666,
              "#ed7953"
             ],
             [
              0.7777777777777778,
              "#fb9f3a"
             ],
             [
              0.8888888888888888,
              "#fdca26"
             ],
             [
              1,
              "#f0f921"
             ]
            ],
            "type": "histogram2dcontour"
           }
          ],
          "mesh3d": [
           {
            "colorbar": {
             "outlinewidth": 0,
             "ticks": ""
            },
            "type": "mesh3d"
           }
          ],
          "parcoords": [
           {
            "line": {
             "colorbar": {
              "outlinewidth": 0,
              "ticks": ""
             }
            },
            "type": "parcoords"
           }
          ],
          "pie": [
           {
            "automargin": true,
            "type": "pie"
           }
          ],
          "scatter": [
           {
            "fillpattern": {
             "fillmode": "overlay",
             "size": 10,
             "solidity": 0.2
            },
            "type": "scatter"
           }
          ],
          "scatter3d": [
           {
            "line": {
             "colorbar": {
              "outlinewidth": 0,
              "ticks": ""
             }
            },
            "marker": {
             "colorbar": {
              "outlinewidth": 0,
              "ticks": ""
             }
            },
            "type": "scatter3d"
           }
          ],
          "scattercarpet": [
           {
            "marker": {
             "colorbar": {
              "outlinewidth": 0,
              "ticks": ""
             }
            },
            "type": "scattercarpet"
           }
          ],
          "scattergeo": [
           {
            "marker": {
             "colorbar": {
              "outlinewidth": 0,
              "ticks": ""
             }
            },
            "type": "scattergeo"
           }
          ],
          "scattergl": [
           {
            "marker": {
             "colorbar": {
              "outlinewidth": 0,
              "ticks": ""
             }
            },
            "type": "scattergl"
           }
          ],
          "scattermapbox": [
           {
            "marker": {
             "colorbar": {
              "outlinewidth": 0,
              "ticks": ""
             }
            },
            "type": "scattermapbox"
           }
          ],
          "scatterpolar": [
           {
            "marker": {
             "colorbar": {
              "outlinewidth": 0,
              "ticks": ""
             }
            },
            "type": "scatterpolar"
           }
          ],
          "scatterpolargl": [
           {
            "marker": {
             "colorbar": {
              "outlinewidth": 0,
              "ticks": ""
             }
            },
            "type": "scatterpolargl"
           }
          ],
          "scatterternary": [
           {
            "marker": {
             "colorbar": {
              "outlinewidth": 0,
              "ticks": ""
             }
            },
            "type": "scatterternary"
           }
          ],
          "surface": [
           {
            "colorbar": {
             "outlinewidth": 0,
             "ticks": ""
            },
            "colorscale": [
             [
              0,
              "#0d0887"
             ],
             [
              0.1111111111111111,
              "#46039f"
             ],
             [
              0.2222222222222222,
              "#7201a8"
             ],
             [
              0.3333333333333333,
              "#9c179e"
             ],
             [
              0.4444444444444444,
              "#bd3786"
             ],
             [
              0.5555555555555556,
              "#d8576b"
             ],
             [
              0.6666666666666666,
              "#ed7953"
             ],
             [
              0.7777777777777778,
              "#fb9f3a"
             ],
             [
              0.8888888888888888,
              "#fdca26"
             ],
             [
              1,
              "#f0f921"
             ]
            ],
            "type": "surface"
           }
          ],
          "table": [
           {
            "cells": {
             "fill": {
              "color": "#EBF0F8"
             },
             "line": {
              "color": "white"
             }
            },
            "header": {
             "fill": {
              "color": "#C8D4E3"
             },
             "line": {
              "color": "white"
             }
            },
            "type": "table"
           }
          ]
         },
         "layout": {
          "annotationdefaults": {
           "arrowcolor": "#2a3f5f",
           "arrowhead": 0,
           "arrowwidth": 1
          },
          "autotypenumbers": "strict",
          "coloraxis": {
           "colorbar": {
            "outlinewidth": 0,
            "ticks": ""
           }
          },
          "colorscale": {
           "diverging": [
            [
             0,
             "#8e0152"
            ],
            [
             0.1,
             "#c51b7d"
            ],
            [
             0.2,
             "#de77ae"
            ],
            [
             0.3,
             "#f1b6da"
            ],
            [
             0.4,
             "#fde0ef"
            ],
            [
             0.5,
             "#f7f7f7"
            ],
            [
             0.6,
             "#e6f5d0"
            ],
            [
             0.7,
             "#b8e186"
            ],
            [
             0.8,
             "#7fbc41"
            ],
            [
             0.9,
             "#4d9221"
            ],
            [
             1,
             "#276419"
            ]
           ],
           "sequential": [
            [
             0,
             "#0d0887"
            ],
            [
             0.1111111111111111,
             "#46039f"
            ],
            [
             0.2222222222222222,
             "#7201a8"
            ],
            [
             0.3333333333333333,
             "#9c179e"
            ],
            [
             0.4444444444444444,
             "#bd3786"
            ],
            [
             0.5555555555555556,
             "#d8576b"
            ],
            [
             0.6666666666666666,
             "#ed7953"
            ],
            [
             0.7777777777777778,
             "#fb9f3a"
            ],
            [
             0.8888888888888888,
             "#fdca26"
            ],
            [
             1,
             "#f0f921"
            ]
           ],
           "sequentialminus": [
            [
             0,
             "#0d0887"
            ],
            [
             0.1111111111111111,
             "#46039f"
            ],
            [
             0.2222222222222222,
             "#7201a8"
            ],
            [
             0.3333333333333333,
             "#9c179e"
            ],
            [
             0.4444444444444444,
             "#bd3786"
            ],
            [
             0.5555555555555556,
             "#d8576b"
            ],
            [
             0.6666666666666666,
             "#ed7953"
            ],
            [
             0.7777777777777778,
             "#fb9f3a"
            ],
            [
             0.8888888888888888,
             "#fdca26"
            ],
            [
             1,
             "#f0f921"
            ]
           ]
          },
          "colorway": [
           "#636efa",
           "#EF553B",
           "#00cc96",
           "#ab63fa",
           "#FFA15A",
           "#19d3f3",
           "#FF6692",
           "#B6E880",
           "#FF97FF",
           "#FECB52"
          ],
          "font": {
           "color": "#2a3f5f"
          },
          "geo": {
           "bgcolor": "white",
           "lakecolor": "white",
           "landcolor": "#E5ECF6",
           "showlakes": true,
           "showland": true,
           "subunitcolor": "white"
          },
          "hoverlabel": {
           "align": "left"
          },
          "hovermode": "closest",
          "mapbox": {
           "style": "light"
          },
          "paper_bgcolor": "white",
          "plot_bgcolor": "#E5ECF6",
          "polar": {
           "angularaxis": {
            "gridcolor": "white",
            "linecolor": "white",
            "ticks": ""
           },
           "bgcolor": "#E5ECF6",
           "radialaxis": {
            "gridcolor": "white",
            "linecolor": "white",
            "ticks": ""
           }
          },
          "scene": {
           "xaxis": {
            "backgroundcolor": "#E5ECF6",
            "gridcolor": "white",
            "gridwidth": 2,
            "linecolor": "white",
            "showbackground": true,
            "ticks": "",
            "zerolinecolor": "white"
           },
           "yaxis": {
            "backgroundcolor": "#E5ECF6",
            "gridcolor": "white",
            "gridwidth": 2,
            "linecolor": "white",
            "showbackground": true,
            "ticks": "",
            "zerolinecolor": "white"
           },
           "zaxis": {
            "backgroundcolor": "#E5ECF6",
            "gridcolor": "white",
            "gridwidth": 2,
            "linecolor": "white",
            "showbackground": true,
            "ticks": "",
            "zerolinecolor": "white"
           }
          },
          "shapedefaults": {
           "line": {
            "color": "#2a3f5f"
           }
          },
          "ternary": {
           "aaxis": {
            "gridcolor": "white",
            "linecolor": "white",
            "ticks": ""
           },
           "baxis": {
            "gridcolor": "white",
            "linecolor": "white",
            "ticks": ""
           },
           "bgcolor": "#E5ECF6",
           "caxis": {
            "gridcolor": "white",
            "linecolor": "white",
            "ticks": ""
           }
          },
          "title": {
           "x": 0.05
          },
          "xaxis": {
           "automargin": true,
           "gridcolor": "white",
           "linecolor": "white",
           "ticks": "",
           "title": {
            "standoff": 15
           },
           "zerolinecolor": "white",
           "zerolinewidth": 2
          },
          "yaxis": {
           "automargin": true,
           "gridcolor": "white",
           "linecolor": "white",
           "ticks": "",
           "title": {
            "standoff": 15
           },
           "zerolinecolor": "white",
           "zerolinewidth": 2
          }
         }
        },
        "title": {
         "text": "Prediction using ElasticNet"
        },
        "xaxis": {
         "title": {
          "text": "Index"
         }
        },
        "yaxis": {
         "title": {
          "text": "Value"
         }
        }
       }
      }
     },
     "metadata": {},
     "output_type": "display_data"
    }
   ],
   "source": [
    "'''plt.figure(figsize = (25, 10))\n",
    "plt.plot(y_test, color = 'red', label = 'actual')\n",
    "plt.plot(y_test_pred_enet, color = 'blue', label = 'prediction')\n",
    "plt.title(\"Prediction using ElasticNet\", fontdict = {'fontsize': 20})\n",
    "plt.show()'''\n",
    "\n",
    "import plotly.graph_objects as go\n",
    "\n",
    "fig = go.Figure()\n",
    "\n",
    "fig.add_trace(go.Scatter(\n",
    "    x=y_test.index, \n",
    "    y=y_test,\n",
    "    mode='lines',\n",
    "    name='Actual'\n",
    "))\n",
    "\n",
    "fig.add_trace(go.Scatter(\n",
    "    x=y_test.index,\n",
    "    y=y_test_pred_enet,\n",
    "    mode='lines',\n",
    "    name='Prediction'  \n",
    "))\n",
    "\n",
    "fig.update_layout(\n",
    "    title='Prediction using ElasticNet',\n",
    "    xaxis_title='Index',\n",
    "    yaxis_title='Value',\n",
    "    legend_title='Legend',\n",
    "    font=dict(size=20)\n",
    ")\n",
    "\n",
    "fig.show()"
   ]
  }
 ],
 "metadata": {
  "colab": {
   "provenance": []
  },
  "kernelspec": {
   "display_name": "Python 3 (ipykernel)",
   "language": "python",
   "name": "python3"
  },
  "language_info": {
   "codemirror_mode": {
    "name": "ipython",
    "version": 3
   },
   "file_extension": ".py",
   "mimetype": "text/x-python",
   "name": "python",
   "nbconvert_exporter": "python",
   "pygments_lexer": "ipython3",
   "version": "3.8.0"
  }
 },
 "nbformat": 4,
 "nbformat_minor": 1
}
